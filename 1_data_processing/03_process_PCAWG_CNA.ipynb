{
 "cells": [
  {
   "cell_type": "markdown",
   "id": "2d32eb8a",
   "metadata": {},
   "source": [
    "## PCAWG consensus CNA\n",
    "\n",
    "Downloaded from https://dcc.icgc.org/releases/PCAWG/consensus_cnv/\n",
    "\n",
    "Donor table downloaded from main PCAWG publication."
   ]
  },
  {
   "cell_type": "code",
   "execution_count": 1,
   "id": "b15a85e5",
   "metadata": {},
   "outputs": [],
   "source": [
    "import numpy as np\n",
    "import pandas as pd\n",
    "import scipy.stats as stats\n",
    "import os\n",
    "import matplotlib.pyplot as plt\n",
    "import tarfile\n",
    "\n",
    "import processing_utils as util\n",
    "%load_ext autoreload\n",
    "%autoreload 1\n",
    "%aimport processing_utils\n",
    "\n",
    "get_data_path = lambda folders, fname: os.path.normpath(os.environ['THIRD_PARTY_DIR']+'/'+'/'.join(folders) +'/'+fname)\n",
    "get_local_data_path = lambda folders, fname: os.path.normpath('../local_data/' +'/'.join(folders) +'/'+ fname)\n",
    "\n",
    "folder_pcawg_icgc_segments = get_data_path(['PCAWG'], 'consensus.20170119.somatic.cna.icgc.public.tar.gz')\n",
    "file_pcawg_samples = get_data_path(['PCAWG'], 'pcawg_donors_tableS1.xlsx')\n",
    "file_pcawg_sample_info = get_data_path(['PCAWG'], 'consensus.20170218.purity.ploidy.txt')\n",
    "\n",
    "# Output\n",
    "file_pcawg_icgc_homdels = get_local_data_path(['processed','ICGC'], 'homdels.csv')\n",
    "file_pcawg_icgc_loh = get_local_data_path(['processed','ICGC'], 'LOH.csv')"
   ]
  },
  {
   "cell_type": "markdown",
   "id": "d4a8c2f3",
   "metadata": {},
   "source": [
    "### PCAWG samples + purity/ploidy\n",
    "2,583 samples had data of optimal quality (white-listed donors)"
   ]
  },
  {
   "cell_type": "code",
   "execution_count": 5,
   "id": "ad2bf405",
   "metadata": {},
   "outputs": [
    {
     "name": "stdout",
     "output_type": "stream",
     "text": [
      "Total: 2583\n",
      "TCGA: 801\n",
      "non-TCGA: 1782\n"
     ]
    },
    {
     "data": {
      "text/html": [
       "<div>\n",
       "<style scoped>\n",
       "    .dataframe tbody tr th:only-of-type {\n",
       "        vertical-align: middle;\n",
       "    }\n",
       "\n",
       "    .dataframe tbody tr th {\n",
       "        vertical-align: top;\n",
       "    }\n",
       "\n",
       "    .dataframe thead th {\n",
       "        text-align: right;\n",
       "    }\n",
       "</style>\n",
       "<table border=\"1\" class=\"dataframe\">\n",
       "  <thead>\n",
       "    <tr style=\"text-align: right;\">\n",
       "      <th></th>\n",
       "      <th>tumour_specimen_aliquot_id</th>\n",
       "      <th>normal_specimen_aliquot_id</th>\n",
       "      <th>icgc_donor_id</th>\n",
       "      <th>icgc_sample_id</th>\n",
       "      <th>icgc_specimen_id</th>\n",
       "      <th>dcc_specimen_type</th>\n",
       "      <th>project_code</th>\n",
       "      <th>gender</th>\n",
       "      <th>age</th>\n",
       "      <th>organ_system</th>\n",
       "      <th>...</th>\n",
       "      <th>specimen_donor_treatment_type</th>\n",
       "      <th>donor_wgs_included_excluded</th>\n",
       "      <th>specimen_library_strategy</th>\n",
       "      <th>gain_count</th>\n",
       "      <th>loss_count</th>\n",
       "      <th>hd_count</th>\n",
       "      <th>wgd</th>\n",
       "      <th>all.SNVs</th>\n",
       "      <th>all.MNVs</th>\n",
       "      <th>all.Indels</th>\n",
       "    </tr>\n",
       "  </thead>\n",
       "  <tbody>\n",
       "    <tr>\n",
       "      <th>0</th>\n",
       "      <td>0009b464-b376-4fbc-8a56-da538269a02f</td>\n",
       "      <td>5ef2ed4d-464e-4a51-95e0-401d9ae7be86</td>\n",
       "      <td>DO46416</td>\n",
       "      <td>SA505245</td>\n",
       "      <td>SP101724</td>\n",
       "      <td>Recurrent tumour - other</td>\n",
       "      <td>OV-AU</td>\n",
       "      <td>female</td>\n",
       "      <td>54.0</td>\n",
       "      <td>OVARY</td>\n",
       "      <td>...</td>\n",
       "      <td>other therapy</td>\n",
       "      <td>Included</td>\n",
       "      <td>WGS</td>\n",
       "      <td>288</td>\n",
       "      <td>349</td>\n",
       "      <td>0</td>\n",
       "      <td>1</td>\n",
       "      <td>15273</td>\n",
       "      <td>225</td>\n",
       "      <td>670</td>\n",
       "    </tr>\n",
       "  </tbody>\n",
       "</table>\n",
       "<p>1 rows × 61 columns</p>\n",
       "</div>"
      ],
      "text/plain": [
       "             tumour_specimen_aliquot_id            normal_specimen_aliquot_id  \\\n",
       "0  0009b464-b376-4fbc-8a56-da538269a02f  5ef2ed4d-464e-4a51-95e0-401d9ae7be86   \n",
       "\n",
       "  icgc_donor_id icgc_sample_id icgc_specimen_id         dcc_specimen_type  \\\n",
       "0       DO46416       SA505245         SP101724  Recurrent tumour - other   \n",
       "\n",
       "  project_code  gender   age organ_system  ... specimen_donor_treatment_type  \\\n",
       "0        OV-AU  female  54.0        OVARY  ...                 other therapy   \n",
       "\n",
       "  donor_wgs_included_excluded specimen_library_strategy gain_count loss_count  \\\n",
       "0                    Included                       WGS        288        349   \n",
       "\n",
       "  hd_count wgd  all.SNVs  all.MNVs  all.Indels  \n",
       "0        0   1     15273       225         670  \n",
       "\n",
       "[1 rows x 61 columns]"
      ]
     },
     "execution_count": 5,
     "metadata": {},
     "output_type": "execute_result"
    }
   ],
   "source": [
    "sample_list = pd.read_excel(file_pcawg_samples, engine='openpyxl', skiprows=2)\n",
    "print('Total:', sample_list.shape[0])\n",
    "print('TCGA:', sample_list.tcga_donor_uuid.nunique())\n",
    "print('non-TCGA:', sample_list[sample_list.tcga_donor_uuid.isna()].icgc_donor_id.nunique())\n",
    "sample_list[:1]"
   ]
  },
  {
   "cell_type": "code",
   "execution_count": 6,
   "id": "6f0fd893",
   "metadata": {},
   "outputs": [
    {
     "name": "stdout",
     "output_type": "stream",
     "text": [
      "N samples: 2778\n"
     ]
    },
    {
     "data": {
      "text/html": [
       "<div>\n",
       "<style scoped>\n",
       "    .dataframe tbody tr th:only-of-type {\n",
       "        vertical-align: middle;\n",
       "    }\n",
       "\n",
       "    .dataframe tbody tr th {\n",
       "        vertical-align: top;\n",
       "    }\n",
       "\n",
       "    .dataframe thead th {\n",
       "        text-align: right;\n",
       "    }\n",
       "</style>\n",
       "<table border=\"1\" class=\"dataframe\">\n",
       "  <thead>\n",
       "    <tr style=\"text-align: right;\">\n",
       "      <th></th>\n",
       "      <th>samplename</th>\n",
       "      <th>purity</th>\n",
       "      <th>ploidy</th>\n",
       "      <th>purity_conf_mad</th>\n",
       "      <th>wgd_status</th>\n",
       "      <th>wgd_uncertain</th>\n",
       "    </tr>\n",
       "  </thead>\n",
       "  <tbody>\n",
       "    <tr>\n",
       "      <th>0</th>\n",
       "      <td>0009b464-b376-4fbc-8a56-da538269a02f</td>\n",
       "      <td>0.885</td>\n",
       "      <td>3.355</td>\n",
       "      <td>0.039</td>\n",
       "      <td>wgd</td>\n",
       "      <td>False</td>\n",
       "    </tr>\n",
       "  </tbody>\n",
       "</table>\n",
       "</div>"
      ],
      "text/plain": [
       "                             samplename  purity  ploidy  purity_conf_mad  \\\n",
       "0  0009b464-b376-4fbc-8a56-da538269a02f   0.885   3.355            0.039   \n",
       "\n",
       "  wgd_status  wgd_uncertain  \n",
       "0        wgd          False  "
      ]
     },
     "execution_count": 6,
     "metadata": {},
     "output_type": "execute_result"
    }
   ],
   "source": [
    "# Note: this includes grey list samples\n",
    "sample_info = pd.read_csv(file_pcawg_sample_info, sep='\\t')\n",
    "print('N samples:', sample_info.samplename.nunique())\n",
    "sample_info[:1]"
   ]
  },
  {
   "cell_type": "markdown",
   "id": "7ff9f672",
   "metadata": {},
   "source": [
    "### Extract homozygous deletion segments\n",
    "All segments with copy number 0, except those on Y chromosome."
   ]
  },
  {
   "cell_type": "code",
   "execution_count": 4,
   "id": "8ba0bafb",
   "metadata": {},
   "outputs": [
    {
     "name": "stdout",
     "output_type": "stream",
     "text": [
      "1949\r"
     ]
    }
   ],
   "source": [
    "cols = ['chromosome','start','end','total_cn','major_cn','minor_cn','star']\n",
    "homdels_list = []\n",
    "n=0\n",
    "with tarfile.open(folder_pcawg_icgc_segments, \"r:*\") as tar:\n",
    "    for member in tar.getmembers():\n",
    "        print(n, end='\\r')\n",
    "        sample = pd.read_csv(tar.extractfile(member.name), header=0, sep=\"\\t\")\n",
    "        sample_name = member.name.replace('.consensus.20170119.somatic.cna.txt', '')\n",
    "        homdels_list.append(sample[(sample.major_cn==0) & (sample.minor_cn==0)][cols].assign(samplename=sample_name))\n",
    "        n += 1"
   ]
  },
  {
   "cell_type": "code",
   "execution_count": 5,
   "id": "458a179c",
   "metadata": {},
   "outputs": [
    {
     "name": "stdout",
     "output_type": "stream",
     "text": [
      "Non white listed: 75\n"
     ]
    }
   ],
   "source": [
    "homdels = pd.concat(homdels_list).reset_index(drop=True).drop(columns=['major_cn','minor_cn','star'])\n",
    "homdels = homdels.rename(columns={'chromosome':'chr','start':'startpos','end':'endpos'}).astype({'startpos':int,'endpos':int})\n",
    "homdels = homdels[~homdels.chr.isin(['X','Y'])].astype({'chr':int}).reset_index(drop=True)\n",
    "# Only including white listed donors\n",
    "print('Non white listed:', homdels[~homdels.samplename.isin(sample_list.tumour_specimen_aliquot_id)].samplename.nunique())\n",
    "homdels = homdels[homdels.samplename.isin(sample_list.tumour_specimen_aliquot_id)].reset_index(drop=True)"
   ]
  },
  {
   "cell_type": "code",
   "execution_count": 9,
   "id": "542adfdf",
   "metadata": {
    "scrolled": false
   },
   "outputs": [],
   "source": [
    "# Merge consecutive segments\n",
    "def merge_consecutive_segments(x):\n",
    "    if x.shape[0]==1: return x\n",
    "    new_segs = []\n",
    "    segstart=0\n",
    "    istart=0\n",
    "    iend=1\n",
    "    while istart < x.shape[0]:\n",
    "        while iend < x.shape[0] and x.iloc[istart].endpos == x.iloc[iend].startpos-1:\n",
    "            iend += 1\n",
    "            istart += 1\n",
    "        seg = x.iloc[segstart]\n",
    "        seg.endpos = x.iloc[iend-1].endpos\n",
    "        new_segs.append(seg)\n",
    "        segstart=iend\n",
    "        istart=iend\n",
    "        iend=iend+1\n",
    "    return pd.DataFrame(new_segs)"
   ]
  },
  {
   "cell_type": "code",
   "execution_count": 7,
   "id": "739947c9",
   "metadata": {
    "scrolled": false
   },
   "outputs": [
    {
     "name": "stdout",
     "output_type": "stream",
     "text": [
      "N HD segments before merging: 4471\n",
      "N HD segments after merging: 3545\n"
     ]
    }
   ],
   "source": [
    "print('N HD segments before merging:', homdels.shape[0])\n",
    "homdels_merged = homdels.groupby(['samplename','chr']).apply(merge_consecutive_segments).reset_index(drop=True)\n",
    "homdels_merged = homdels_merged.assign(del_len = homdels_merged.endpos - homdels_merged.startpos)\n",
    "print('N HD segments after merging:', homdels_merged.shape[0])"
   ]
  },
  {
   "cell_type": "code",
   "execution_count": 8,
   "id": "5290dc9c",
   "metadata": {},
   "outputs": [],
   "source": [
    "homdels_merged.to_csv(file_pcawg_icgc_homdels, index=0)"
   ]
  },
  {
   "cell_type": "markdown",
   "id": "2c522a62",
   "metadata": {},
   "source": [
    "### Extract all LOH segments (minor cn = 0; major cn >0)"
   ]
  },
  {
   "cell_type": "code",
   "execution_count": 2,
   "id": "cb55cdbc",
   "metadata": {},
   "outputs": [
    {
     "name": "stdout",
     "output_type": "stream",
     "text": [
      "1949\r"
     ]
    }
   ],
   "source": [
    "cols = ['chromosome','start','end','total_cn','major_cn','minor_cn']\n",
    "dels_list = []\n",
    "n=0\n",
    "with tarfile.open(folder_pcawg_icgc_segments, \"r:*\") as tar:\n",
    "    for member in tar.getmembers():\n",
    "        print(n, end='\\r')\n",
    "        sample = pd.read_csv(tar.extractfile(member.name), header=0, sep=\"\\t\")\n",
    "        sample_name = member.name.replace('.consensus.20170119.somatic.cna.txt', '')\n",
    "        sample = sample[~sample['chromosome'].isin(['X','Y'])][cols]\n",
    "        dels_list.append(sample[((sample.minor_cn==0) & (sample.major_cn>0)) |\n",
    "                                ((sample.major_cn==0) & (sample.minor_cn>0))].assign(samplename=sample_name))\n",
    "        n +=1"
   ]
  },
  {
   "cell_type": "code",
   "execution_count": 3,
   "id": "3a9f7df0",
   "metadata": {},
   "outputs": [],
   "source": [
    "loh = pd.concat(dels_list).reset_index(drop=True)\n",
    "loh = loh.rename(columns={'chromosome':'chr','start':'startpos','end':'endpos'})\\\n",
    "         .astype({'startpos':int,'endpos':int,'chr':int})"
   ]
  },
  {
   "cell_type": "code",
   "execution_count": 7,
   "id": "e8d92220",
   "metadata": {},
   "outputs": [
    {
     "name": "stdout",
     "output_type": "stream",
     "text": [
      "Non white listed: 155\n"
     ]
    }
   ],
   "source": [
    "# Only include white listed donors\n",
    "print('Non white listed:', loh[~loh.samplename.isin(sample_list.tumour_specimen_aliquot_id)].samplename.nunique())\n",
    "loh = loh[loh.samplename.isin(sample_list.tumour_specimen_aliquot_id)]"
   ]
  },
  {
   "cell_type": "code",
   "execution_count": 10,
   "id": "3d55899d",
   "metadata": {
    "scrolled": false
   },
   "outputs": [
    {
     "name": "stdout",
     "output_type": "stream",
     "text": [
      "N del segments before merging: 110790\n",
      "N del segments after merging: 59843\n"
     ]
    }
   ],
   "source": [
    "print('N del segments before merging:', loh.shape[0])\n",
    "loh_merged = loh.groupby(['samplename','chr','minor_cn','major_cn']).apply(merge_consecutive_segments).reset_index(drop=True)\n",
    "loh_merged = loh_merged.assign(del_len = loh_merged.endpos - loh_merged.startpos)\n",
    "print('N del segments after merging:', loh_merged.shape[0])"
   ]
  },
  {
   "cell_type": "code",
   "execution_count": 11,
   "id": "bde50b18",
   "metadata": {},
   "outputs": [],
   "source": [
    "loh_final = pd.merge(loh_merged, sample_info[['samplename','ploidy']])"
   ]
  },
  {
   "cell_type": "code",
   "execution_count": 12,
   "id": "e10dd2ae",
   "metadata": {},
   "outputs": [],
   "source": [
    "loh_final.to_csv(file_pcawg_icgc_loh, index=0)"
   ]
  },
  {
   "cell_type": "code",
   "execution_count": null,
   "id": "4eb31384",
   "metadata": {},
   "outputs": [],
   "source": []
  }
 ],
 "metadata": {
  "kernelspec": {
   "display_name": "ParalogHDs",
   "language": "python",
   "name": "paraloghds"
  },
  "language_info": {
   "codemirror_mode": {
    "name": "ipython",
    "version": 3
   },
   "file_extension": ".py",
   "mimetype": "text/x-python",
   "name": "python",
   "nbconvert_exporter": "python",
   "pygments_lexer": "ipython3",
   "version": "3.7.13"
  }
 },
 "nbformat": 4,
 "nbformat_minor": 5
}
