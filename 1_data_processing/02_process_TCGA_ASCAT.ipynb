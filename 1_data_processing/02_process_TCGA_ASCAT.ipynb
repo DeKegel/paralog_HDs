{
 "cells": [
  {
   "cell_type": "markdown",
   "metadata": {},
   "source": [
    "## TCGA ASCAT results\n",
    "\n",
    "Data downloaded from: https://github.com/VanLoo-lab/ascat/tree/master/ReleasedData/TCGA_SNP6_hg19\n",
    "\n",
    "These calls are all based on **hg19/GRCh37** coordinates.\n",
    "\n",
    "From CCDS Readme:  \n",
    "- cds_from = chromosome position of CDS start (or CDS end for minus strand genes), in 0-based coordinates      \n",
    "- cds_to = chromosome position of CDS end (or CDS start for minus strand genes), in 0-based coordinates  \n",
    "- cds_locations = comma separated list of from-to, of chromosome positions of CDS exons, in 0-based coordinates, ordered from low to high"
   ]
  },
  {
   "cell_type": "code",
   "execution_count": 1,
   "metadata": {},
   "outputs": [],
   "source": [
    "import numpy as np\n",
    "import pandas as pd\n",
    "import scipy.stats as stats\n",
    "import os\n",
    "import matplotlib.pyplot as plt\n",
    "\n",
    "import processing_utils as util\n",
    "%load_ext autoreload\n",
    "%autoreload 1\n",
    "%aimport processing_utils\n",
    "\n",
    "get_data_path = lambda folders, fname: os.path.normpath(os.environ['THIRD_PARTY_DIR']+'/'+'/'.join(folders)+'/'+fname)\n",
    "get_local_data_path = lambda folders, fname: os.path.normpath('../local_data/' +'/'.join(folders) +'/'+ fname)\n",
    "\n",
    "folder_ascat_segments = get_data_path(['TCGA','ASCATv3_SNP6_hg19'], 'segments')\n",
    "file_ascat_summary = get_data_path(['TCGA','ASCATv3_SNP6_hg19'],'summary.ascatv3TCGA.penalty70.hg19.tsv')\n",
    "file_ccds = get_data_path(['ccds_gene_annotations'], 'hg19.txt')\n",
    "file_chrom_info = get_local_data_path(['processed'], 'hg19_chrom_info.csv')\n",
    "\n",
    "# OUTPUT\n",
    "file_ascat_homdels = get_local_data_path(['processed','TCGA','ASCAT'], 'homdels.csv')\n",
    "file_ascat_loh = get_local_data_path(['processed','TCGA','ASCAT'], 'LOH.csv')\n",
    "file_ascat_segment_bounds = get_local_data_path(['processed','TCGA','ASCAT'], 'segment_boundaries.csv')"
   ]
  },
  {
   "cell_type": "markdown",
   "metadata": {},
   "source": [
    "### ASCAT summary"
   ]
  },
  {
   "cell_type": "code",
   "execution_count": 2,
   "metadata": {},
   "outputs": [
    {
     "data": {
      "text/html": [
       "<div>\n",
       "<style scoped>\n",
       "    .dataframe tbody tr th:only-of-type {\n",
       "        vertical-align: middle;\n",
       "    }\n",
       "\n",
       "    .dataframe tbody tr th {\n",
       "        vertical-align: top;\n",
       "    }\n",
       "\n",
       "    .dataframe thead th {\n",
       "        text-align: right;\n",
       "    }\n",
       "</style>\n",
       "<table border=\"1\" class=\"dataframe\">\n",
       "  <thead>\n",
       "    <tr style=\"text-align: right;\">\n",
       "      <th></th>\n",
       "      <th>name</th>\n",
       "      <th>patient</th>\n",
       "      <th>cancer_type</th>\n",
       "      <th>sex</th>\n",
       "      <th>barcodeTumour</th>\n",
       "      <th>barcodeNormal</th>\n",
       "      <th>tumour_mapd</th>\n",
       "      <th>normal_mapd</th>\n",
       "      <th>GC_correction_before</th>\n",
       "      <th>GC_correction_after</th>\n",
       "      <th>...</th>\n",
       "      <th>homdel_segs</th>\n",
       "      <th>homdel_largest</th>\n",
       "      <th>homdel_size</th>\n",
       "      <th>homdel_fraction</th>\n",
       "      <th>LOH</th>\n",
       "      <th>mode_minA</th>\n",
       "      <th>mode_majA</th>\n",
       "      <th>WGD</th>\n",
       "      <th>GI</th>\n",
       "      <th>QC</th>\n",
       "    </tr>\n",
       "  </thead>\n",
       "  <tbody>\n",
       "    <tr>\n",
       "      <th>0</th>\n",
       "      <td>TCGA-02-0001</td>\n",
       "      <td>TCGA-02-0001</td>\n",
       "      <td>GBM</td>\n",
       "      <td>XX</td>\n",
       "      <td>TCGA-02-0001-01C-01D-0182-01</td>\n",
       "      <td>TCGA-02-0001-10A-01D-0182-01</td>\n",
       "      <td>0.2828</td>\n",
       "      <td>0.2716</td>\n",
       "      <td>50bp=0.1387 / 5kb=0.12</td>\n",
       "      <td>50bp=0 / 5kb=0</td>\n",
       "      <td>...</td>\n",
       "      <td>1</td>\n",
       "      <td>351838</td>\n",
       "      <td>351838</td>\n",
       "      <td>0.00012</td>\n",
       "      <td>0.2042</td>\n",
       "      <td>1</td>\n",
       "      <td>1</td>\n",
       "      <td>0</td>\n",
       "      <td>0.6196</td>\n",
       "      <td>Pass</td>\n",
       "    </tr>\n",
       "  </tbody>\n",
       "</table>\n",
       "<p>1 rows × 33 columns</p>\n",
       "</div>"
      ],
      "text/plain": [
       "           name       patient cancer_type sex                 barcodeTumour  \\\n",
       "0  TCGA-02-0001  TCGA-02-0001         GBM  XX  TCGA-02-0001-01C-01D-0182-01   \n",
       "\n",
       "                  barcodeNormal  tumour_mapd  normal_mapd  \\\n",
       "0  TCGA-02-0001-10A-01D-0182-01       0.2828       0.2716   \n",
       "\n",
       "     GC_correction_before GC_correction_after  ... homdel_segs homdel_largest  \\\n",
       "0  50bp=0.1387 / 5kb=0.12      50bp=0 / 5kb=0  ...           1         351838   \n",
       "\n",
       "   homdel_size  homdel_fraction     LOH  mode_minA  mode_majA  WGD      GI  \\\n",
       "0       351838          0.00012  0.2042          1          1    0  0.6196   \n",
       "\n",
       "     QC  \n",
       "0  Pass  \n",
       "\n",
       "[1 rows x 33 columns]"
      ]
     },
     "execution_count": 2,
     "metadata": {},
     "output_type": "execute_result"
    }
   ],
   "source": [
    "ascat_summary_full = pd.read_csv(file_ascat_summary, sep='\\t')\n",
    "ascat_summary_full[:1]"
   ]
  },
  {
   "cell_type": "code",
   "execution_count": 3,
   "metadata": {},
   "outputs": [
    {
     "name": "stdout",
     "output_type": "stream",
     "text": [
      "N samples with solution: 9966 / 10674\n"
     ]
    }
   ],
   "source": [
    "ascat_summary = ascat_summary_full[(ascat_summary_full['QC']=='Pass')]\n",
    "print('N samples with solution:', ascat_summary.shape[0],'/',ascat_summary_full.shape[0])\n",
    "assert(ascat_summary.patient.nunique()==ascat_summary.shape[0])"
   ]
  },
  {
   "cell_type": "markdown",
   "metadata": {},
   "source": [
    "### Extract homozygous deletion segments\n",
    "All segments with total copy number 0."
   ]
  },
  {
   "cell_type": "code",
   "execution_count": 7,
   "metadata": {
    "scrolled": false
   },
   "outputs": [
    {
     "name": "stdout",
     "output_type": "stream",
     "text": [
      "9965\r"
     ]
    }
   ],
   "source": [
    "homdels_list = []\n",
    "for i, sname in enumerate(ascat_summary.name.values):\n",
    "    print(i, end='\\r')\n",
    "    sample = pd.read_csv(folder_ascat_segments+'/'+sname+'.segments.txt', sep='\\t')\n",
    "    sample = sample.assign(CN = sample.nMajor + sample.nMinor)\n",
    "    homdels_list.append(sample[sample.CN==0])"
   ]
  },
  {
   "cell_type": "code",
   "execution_count": 8,
   "metadata": {},
   "outputs": [],
   "source": [
    "homdels_all = pd.concat(homdels_list).reset_index(drop=True)\n",
    "homdels_all = pd.merge(ascat_summary[['name','patient','cancer_type','barcodeTumour']], \n",
    "                       homdels_all.rename(columns={'sample':'name'}))\n",
    "homdels_all['del_len'] = homdels_all.endpos - homdels_all.startpos"
   ]
  },
  {
   "cell_type": "code",
   "execution_count": 9,
   "metadata": {},
   "outputs": [
    {
     "data": {
      "text/html": [
       "<div>\n",
       "<style scoped>\n",
       "    .dataframe tbody tr th:only-of-type {\n",
       "        vertical-align: middle;\n",
       "    }\n",
       "\n",
       "    .dataframe tbody tr th {\n",
       "        vertical-align: top;\n",
       "    }\n",
       "\n",
       "    .dataframe thead th {\n",
       "        text-align: right;\n",
       "    }\n",
       "</style>\n",
       "<table border=\"1\" class=\"dataframe\">\n",
       "  <thead>\n",
       "    <tr style=\"text-align: right;\">\n",
       "      <th></th>\n",
       "      <th>name</th>\n",
       "      <th>patient</th>\n",
       "      <th>cancer_type</th>\n",
       "      <th>barcodeTumour</th>\n",
       "      <th>chr</th>\n",
       "      <th>startpos</th>\n",
       "      <th>endpos</th>\n",
       "      <th>nMajor</th>\n",
       "      <th>nMinor</th>\n",
       "      <th>CN</th>\n",
       "      <th>del_len</th>\n",
       "    </tr>\n",
       "  </thead>\n",
       "  <tbody>\n",
       "    <tr>\n",
       "      <th>0</th>\n",
       "      <td>TCGA-02-0001</td>\n",
       "      <td>TCGA-02-0001</td>\n",
       "      <td>GBM</td>\n",
       "      <td>TCGA-02-0001-01C-01D-0182-01</td>\n",
       "      <td>9</td>\n",
       "      <td>21907786</td>\n",
       "      <td>22259623</td>\n",
       "      <td>0</td>\n",
       "      <td>0</td>\n",
       "      <td>0</td>\n",
       "      <td>351837</td>\n",
       "    </tr>\n",
       "    <tr>\n",
       "      <th>1</th>\n",
       "      <td>TCGA-02-0006</td>\n",
       "      <td>TCGA-02-0006</td>\n",
       "      <td>GBM</td>\n",
       "      <td>TCGA-02-0006-01B-01D-0182-01</td>\n",
       "      <td>10</td>\n",
       "      <td>89335769</td>\n",
       "      <td>90811390</td>\n",
       "      <td>0</td>\n",
       "      <td>0</td>\n",
       "      <td>0</td>\n",
       "      <td>1475621</td>\n",
       "    </tr>\n",
       "  </tbody>\n",
       "</table>\n",
       "</div>"
      ],
      "text/plain": [
       "           name       patient cancer_type                 barcodeTumour chr  \\\n",
       "0  TCGA-02-0001  TCGA-02-0001         GBM  TCGA-02-0001-01C-01D-0182-01   9   \n",
       "1  TCGA-02-0006  TCGA-02-0006         GBM  TCGA-02-0006-01B-01D-0182-01  10   \n",
       "\n",
       "   startpos    endpos  nMajor  nMinor  CN  del_len  \n",
       "0  21907786  22259623       0       0   0   351837  \n",
       "1  89335769  90811390       0       0   0  1475621  "
      ]
     },
     "execution_count": 9,
     "metadata": {},
     "output_type": "execute_result"
    }
   ],
   "source": [
    "homdels_all[:2]"
   ]
  },
  {
   "cell_type": "code",
   "execution_count": 10,
   "metadata": {},
   "outputs": [
    {
     "name": "stdout",
     "output_type": "stream",
     "text": [
      "N HDs: 13692\n"
     ]
    }
   ],
   "source": [
    "# Check that number of HD segments matches summary report\n",
    "print('N HDs:', homdels_all.shape[0])\n",
    "qc_check = pd.merge(homdels_all.groupby('patient').size().reset_index(name='n_segs'), \n",
    "                    ascat_summary[['patient','homdel_segs']], how='right').fillna(0).astype({'n_segs':int})\n",
    "assert(qc_check[qc_check.n_segs!=qc_check.homdel_segs].shape[0]==0)"
   ]
  },
  {
   "cell_type": "code",
   "execution_count": 12,
   "metadata": {},
   "outputs": [],
   "source": [
    "homdels_all.drop(columns=['nMajor','nMinor','CN']).to_csv(file_ascat_homdels, index=0)"
   ]
  },
  {
   "cell_type": "markdown",
   "metadata": {},
   "source": [
    "### Extract all LOH segments (minor cn = 0; major cn >0)"
   ]
  },
  {
   "cell_type": "code",
   "execution_count": 13,
   "metadata": {
    "scrolled": true
   },
   "outputs": [
    {
     "name": "stdout",
     "output_type": "stream",
     "text": [
      "9965\r"
     ]
    }
   ],
   "source": [
    "loh_list = []\n",
    "for i, sname in enumerate(ascat_summary.name.values):\n",
    "    print(i, end='\\r')\n",
    "    sample = pd.read_csv(folder_ascat_segments+'/'+sname+'.segments.txt', sep='\\t')\n",
    "    loh_list.append(sample[(sample.nMinor==0) & (sample.nMajor>0)])"
   ]
  },
  {
   "cell_type": "code",
   "execution_count": 14,
   "metadata": {},
   "outputs": [],
   "source": [
    "loh = pd.concat(loh_list).reset_index(drop=True)"
   ]
  },
  {
   "cell_type": "code",
   "execution_count": 15,
   "metadata": {},
   "outputs": [],
   "source": [
    "loh = pd.merge(ascat_summary[['name','patient','ploidy']], loh.rename(columns={'sample':'name'}))\n",
    "loh = loh[~loh.chr.isin(['X','Y'])].astype({'chr':int}).reset_index(drop=True)\n",
    "loh = loh.assign(del_len = loh.endpos - loh.startpos)"
   ]
  },
  {
   "cell_type": "code",
   "execution_count": 16,
   "metadata": {},
   "outputs": [
    {
     "name": "stdout",
     "output_type": "stream",
     "text": [
      "N LOH segments: 250410\n",
      "N samples w/ LOH segments: 9713\n"
     ]
    }
   ],
   "source": [
    "print('N LOH segments:', loh.shape[0])\n",
    "print('N samples w/ LOH segments:', loh.patient.nunique())"
   ]
  },
  {
   "cell_type": "code",
   "execution_count": 17,
   "metadata": {},
   "outputs": [],
   "source": [
    "loh.to_csv(file_ascat_loh, index=0)"
   ]
  },
  {
   "cell_type": "markdown",
   "metadata": {},
   "source": [
    "### Identify ASCAT segment boundaries - telomere and centromere adjacent segments\n",
    "- First segment start + last segment end for each chromosome.  \n",
    "- Expect this to be the same for each sample, bounded by the SNP array, but check!   \n",
    "- NOTE: short arm not mapped for chromosomes 13,14,15,21,22"
   ]
  },
  {
   "cell_type": "code",
   "execution_count": 18,
   "metadata": {},
   "outputs": [
    {
     "data": {
      "text/html": [
       "<div>\n",
       "<style scoped>\n",
       "    .dataframe tbody tr th:only-of-type {\n",
       "        vertical-align: middle;\n",
       "    }\n",
       "\n",
       "    .dataframe tbody tr th {\n",
       "        vertical-align: top;\n",
       "    }\n",
       "\n",
       "    .dataframe thead th {\n",
       "        text-align: right;\n",
       "    }\n",
       "</style>\n",
       "<table border=\"1\" class=\"dataframe\">\n",
       "  <thead>\n",
       "    <tr style=\"text-align: right;\">\n",
       "      <th></th>\n",
       "      <th>centStart</th>\n",
       "      <th>centEnd</th>\n",
       "      <th>size</th>\n",
       "    </tr>\n",
       "    <tr>\n",
       "      <th>chr</th>\n",
       "      <th></th>\n",
       "      <th></th>\n",
       "      <th></th>\n",
       "    </tr>\n",
       "  </thead>\n",
       "  <tbody>\n",
       "    <tr>\n",
       "      <th>1</th>\n",
       "      <td>121535434</td>\n",
       "      <td>124535434</td>\n",
       "      <td>249250621</td>\n",
       "    </tr>\n",
       "  </tbody>\n",
       "</table>\n",
       "</div>"
      ],
      "text/plain": [
       "     centStart    centEnd       size\n",
       "chr                                 \n",
       "1    121535434  124535434  249250621"
      ]
     },
     "execution_count": 18,
     "metadata": {},
     "output_type": "execute_result"
    }
   ],
   "source": [
    "chrom_info = pd.read_csv(file_chrom_info, index_col=0)\n",
    "chrom_info[:1]"
   ]
  },
  {
   "cell_type": "code",
   "execution_count": 19,
   "metadata": {
    "scrolled": false
   },
   "outputs": [
    {
     "name": "stdout",
     "output_type": "stream",
     "text": [
      "9965\r"
     ]
    }
   ],
   "source": [
    "chr_start = []\n",
    "chr_end = []\n",
    "cent_start = []\n",
    "cent_end = []\n",
    "for i, sname in enumerate(ascat_summary.name.values):\n",
    "    print(i, end='\\r')\n",
    "    sample = pd.read_csv(folder_ascat_segments+'/'+sname+'.segments.txt', sep='\\t')\n",
    "    # Find max endpos that is before centromere start, for each chr\n",
    "    df = sample.groupby('chr').apply(lambda x: x.endpos[x.endpos <= chrom_info.loc[x.name,'centStart']].max())\\\n",
    "               .reset_index(name='endpos')\n",
    "    cent_start.append(df)\n",
    "    # Find min startpos that is after centromere end, for each chr\n",
    "    df = sample.groupby('chr').apply(lambda x: x.startpos[x.startpos >= chrom_info.loc[x.name,'centEnd']].min())\\\n",
    "               .reset_index(name='startpos')\n",
    "    cent_end.append(df)\n",
    "    # Find edges - overall min startpos / max endpos\n",
    "    chr_start.append(sample.groupby('chr').startpos.min().reset_index())\n",
    "    chr_end.append(sample.groupby('chr').endpos.max().reset_index())"
   ]
  },
  {
   "cell_type": "code",
   "execution_count": 20,
   "metadata": {},
   "outputs": [],
   "source": [
    "chr_start_posns = pd.concat(chr_start).reset_index(drop=True)\n",
    "chr_end_posns = pd.concat(chr_end).reset_index(drop=True)\n",
    "cent_start_posns = pd.concat(cent_start).reset_index(drop=True)\n",
    "cent_end_posns = pd.concat(cent_end).reset_index(drop=True)"
   ]
  },
  {
   "cell_type": "code",
   "execution_count": 21,
   "metadata": {},
   "outputs": [
    {
     "name": "stdout",
     "output_type": "stream",
     "text": [
      "Chr 1 \tstart: [61735]    \tend: [249224388]\n",
      "Chr 2 \tstart: [12784]    \tend: [243089456]\n",
      "Chr 3 \tstart: [60345]    \tend: [197896118]\n",
      "Chr 4 \tstart: [12281]    \tend: [191027923]\n",
      "Chr 5 \tstart: [15532]    \tend: [180790320]\n",
      "Chr 6 \tstart: [149661]    \tend: [171051005]\n",
      "Chr 7 \tstart: [43259]    \tend: [159127004]\n",
      "Chr 8 \tstart: [31254]    \tend: [146298155]\n",
      "Chr 9 \tstart: [46587]    \tend: [141091394]\n",
      "Chr 10 \tstart: [72759]    \tend: [135506704]\n",
      "Chr 11 \tstart: [198572]    \tend: [134944770]\n",
      "Chr 12 \tstart: [150442]    \tend: [133778189]\n",
      "Chr 13 \tstart: [19026949]    \tend: [115108397]\n",
      "Chr 14 \tstart: [19002124]    \tend: [107285437]\n",
      "Chr 15 \tstart: [20016328]    \tend: [102469040]\n",
      "Chr 16 \tstart: [60777]    \tend: [90287535]\n",
      "Chr 17 \tstart: [526]    \tend: [81049726]\n",
      "Chr 18 \tstart: [48133]    \tend: [78015057]\n",
      "Chr 19 \tstart: [90910]    \tend: [59097854]\n",
      "Chr 20 \tstart: [61305]    \tend: [62956153]\n",
      "Chr 21 \tstart: [10736871]    \tend: [48096957]\n",
      "Chr 22 \tstart: [16052528]    \tend: [51234455]\n"
     ]
    }
   ],
   "source": [
    "# Check whether start and end is the same for every sample\n",
    "for chrom in range(1,23):\n",
    "    print('Chr', chrom, '\\tstart:', chr_start_posns[chr_start_posns.chr==str(chrom)].startpos.unique(),\n",
    "          '   \\tend:', chr_end_posns[chr_end_posns.chr==str(chrom)].endpos.unique())"
   ]
  },
  {
   "cell_type": "code",
   "execution_count": 22,
   "metadata": {},
   "outputs": [],
   "source": [
    "bounds = pd.merge(chr_start_posns.groupby('chr').startpos.min().reset_index(), \n",
    "                  chr_end_posns.groupby('chr').endpos.max().reset_index())\n",
    "# No segments before centromere on chromosomes 13, 14, 15, 22\n",
    "cent_bounds = pd.merge(cent_start_posns.groupby('chr').endpos.max().reset_index().rename(columns={'endpos':'cent_start'}),\n",
    "                       cent_end_posns.groupby('chr').startpos.min().reset_index().rename(columns={'startpos':'cent_end'}))\n",
    "bounds = pd.merge(bounds, cent_bounds)\n",
    "bounds = bounds[~bounds.chr.isin(['X','Y'])].astype({'chr':int}).sort_values('chr').set_index('chr')"
   ]
  },
  {
   "cell_type": "code",
   "execution_count": 23,
   "metadata": {},
   "outputs": [
    {
     "data": {
      "text/html": [
       "<div>\n",
       "<style scoped>\n",
       "    .dataframe tbody tr th:only-of-type {\n",
       "        vertical-align: middle;\n",
       "    }\n",
       "\n",
       "    .dataframe tbody tr th {\n",
       "        vertical-align: top;\n",
       "    }\n",
       "\n",
       "    .dataframe thead th {\n",
       "        text-align: right;\n",
       "    }\n",
       "</style>\n",
       "<table border=\"1\" class=\"dataframe\">\n",
       "  <thead>\n",
       "    <tr style=\"text-align: right;\">\n",
       "      <th></th>\n",
       "      <th>startpos</th>\n",
       "      <th>endpos</th>\n",
       "      <th>cent_start</th>\n",
       "      <th>cent_end</th>\n",
       "    </tr>\n",
       "    <tr>\n",
       "      <th>chr</th>\n",
       "      <th></th>\n",
       "      <th></th>\n",
       "      <th></th>\n",
       "      <th></th>\n",
       "    </tr>\n",
       "  </thead>\n",
       "  <tbody>\n",
       "    <tr>\n",
       "      <th>1</th>\n",
       "      <td>61735</td>\n",
       "      <td>249224388</td>\n",
       "      <td>121482979.0</td>\n",
       "      <td>144007049.0</td>\n",
       "    </tr>\n",
       "    <tr>\n",
       "      <th>2</th>\n",
       "      <td>12784</td>\n",
       "      <td>243089456</td>\n",
       "      <td>92305784.0</td>\n",
       "      <td>95327887.0</td>\n",
       "    </tr>\n",
       "    <tr>\n",
       "      <th>3</th>\n",
       "      <td>60345</td>\n",
       "      <td>197896118</td>\n",
       "      <td>90502862.0</td>\n",
       "      <td>93519478.0</td>\n",
       "    </tr>\n",
       "    <tr>\n",
       "      <th>4</th>\n",
       "      <td>12281</td>\n",
       "      <td>191027923</td>\n",
       "      <td>49658612.0</td>\n",
       "      <td>52685699.0</td>\n",
       "    </tr>\n",
       "    <tr>\n",
       "      <th>5</th>\n",
       "      <td>15532</td>\n",
       "      <td>180790320</td>\n",
       "      <td>46389273.0</td>\n",
       "      <td>49432831.0</td>\n",
       "    </tr>\n",
       "    <tr>\n",
       "      <th>6</th>\n",
       "      <td>149661</td>\n",
       "      <td>171051005</td>\n",
       "      <td>58774716.0</td>\n",
       "      <td>61886440.0</td>\n",
       "    </tr>\n",
       "    <tr>\n",
       "      <th>7</th>\n",
       "      <td>43259</td>\n",
       "      <td>159127004</td>\n",
       "      <td>58019983.0</td>\n",
       "      <td>61063974.0</td>\n",
       "    </tr>\n",
       "    <tr>\n",
       "      <th>8</th>\n",
       "      <td>31254</td>\n",
       "      <td>146298155</td>\n",
       "      <td>43824048.0</td>\n",
       "      <td>46847534.0</td>\n",
       "    </tr>\n",
       "    <tr>\n",
       "      <th>9</th>\n",
       "      <td>46587</td>\n",
       "      <td>141091394</td>\n",
       "      <td>47217176.0</td>\n",
       "      <td>65616971.0</td>\n",
       "    </tr>\n",
       "    <tr>\n",
       "      <th>10</th>\n",
       "      <td>72759</td>\n",
       "      <td>135506704</td>\n",
       "      <td>39076221.0</td>\n",
       "      <td>42433540.0</td>\n",
       "    </tr>\n",
       "    <tr>\n",
       "      <th>11</th>\n",
       "      <td>198572</td>\n",
       "      <td>134944770</td>\n",
       "      <td>51564427.0</td>\n",
       "      <td>54701645.0</td>\n",
       "    </tr>\n",
       "    <tr>\n",
       "      <th>12</th>\n",
       "      <td>150442</td>\n",
       "      <td>133778189</td>\n",
       "      <td>34854498.0</td>\n",
       "      <td>37857751.0</td>\n",
       "    </tr>\n",
       "    <tr>\n",
       "      <th>13</th>\n",
       "      <td>19026949</td>\n",
       "      <td>115108397</td>\n",
       "      <td>NaN</td>\n",
       "      <td>19026949.0</td>\n",
       "    </tr>\n",
       "    <tr>\n",
       "      <th>14</th>\n",
       "      <td>19002124</td>\n",
       "      <td>107285437</td>\n",
       "      <td>NaN</td>\n",
       "      <td>19002124.0</td>\n",
       "    </tr>\n",
       "    <tr>\n",
       "      <th>15</th>\n",
       "      <td>20016328</td>\n",
       "      <td>102469040</td>\n",
       "      <td>NaN</td>\n",
       "      <td>20016328.0</td>\n",
       "    </tr>\n",
       "    <tr>\n",
       "      <th>16</th>\n",
       "      <td>60777</td>\n",
       "      <td>90287535</td>\n",
       "      <td>35283226.0</td>\n",
       "      <td>46463782.0</td>\n",
       "    </tr>\n",
       "    <tr>\n",
       "      <th>17</th>\n",
       "      <td>526</td>\n",
       "      <td>81049726</td>\n",
       "      <td>22235650.0</td>\n",
       "      <td>25270411.0</td>\n",
       "    </tr>\n",
       "    <tr>\n",
       "      <th>18</th>\n",
       "      <td>48133</td>\n",
       "      <td>78015057</td>\n",
       "      <td>15402408.0</td>\n",
       "      <td>18529353.0</td>\n",
       "    </tr>\n",
       "    <tr>\n",
       "      <th>19</th>\n",
       "      <td>90910</td>\n",
       "      <td>59097854</td>\n",
       "      <td>24596750.0</td>\n",
       "      <td>27747993.0</td>\n",
       "    </tr>\n",
       "    <tr>\n",
       "      <th>20</th>\n",
       "      <td>61305</td>\n",
       "      <td>62956153</td>\n",
       "      <td>26305579.0</td>\n",
       "      <td>29420352.0</td>\n",
       "    </tr>\n",
       "    <tr>\n",
       "      <th>21</th>\n",
       "      <td>10736871</td>\n",
       "      <td>48096957</td>\n",
       "      <td>11175912.0</td>\n",
       "      <td>14345669.0</td>\n",
       "    </tr>\n",
       "    <tr>\n",
       "      <th>22</th>\n",
       "      <td>16052528</td>\n",
       "      <td>51234455</td>\n",
       "      <td>NaN</td>\n",
       "      <td>16052528.0</td>\n",
       "    </tr>\n",
       "  </tbody>\n",
       "</table>\n",
       "</div>"
      ],
      "text/plain": [
       "     startpos     endpos   cent_start     cent_end\n",
       "chr                                               \n",
       "1       61735  249224388  121482979.0  144007049.0\n",
       "2       12784  243089456   92305784.0   95327887.0\n",
       "3       60345  197896118   90502862.0   93519478.0\n",
       "4       12281  191027923   49658612.0   52685699.0\n",
       "5       15532  180790320   46389273.0   49432831.0\n",
       "6      149661  171051005   58774716.0   61886440.0\n",
       "7       43259  159127004   58019983.0   61063974.0\n",
       "8       31254  146298155   43824048.0   46847534.0\n",
       "9       46587  141091394   47217176.0   65616971.0\n",
       "10      72759  135506704   39076221.0   42433540.0\n",
       "11     198572  134944770   51564427.0   54701645.0\n",
       "12     150442  133778189   34854498.0   37857751.0\n",
       "13   19026949  115108397          NaN   19026949.0\n",
       "14   19002124  107285437          NaN   19002124.0\n",
       "15   20016328  102469040          NaN   20016328.0\n",
       "16      60777   90287535   35283226.0   46463782.0\n",
       "17        526   81049726   22235650.0   25270411.0\n",
       "18      48133   78015057   15402408.0   18529353.0\n",
       "19      90910   59097854   24596750.0   27747993.0\n",
       "20      61305   62956153   26305579.0   29420352.0\n",
       "21   10736871   48096957   11175912.0   14345669.0\n",
       "22   16052528   51234455          NaN   16052528.0"
      ]
     },
     "execution_count": 23,
     "metadata": {},
     "output_type": "execute_result"
    }
   ],
   "source": [
    "bounds"
   ]
  },
  {
   "cell_type": "code",
   "execution_count": 25,
   "metadata": {},
   "outputs": [],
   "source": [
    "bounds.to_csv(file_ascat_segment_bounds)"
   ]
  },
  {
   "cell_type": "code",
   "execution_count": null,
   "metadata": {},
   "outputs": [],
   "source": []
  }
 ],
 "metadata": {
  "kernelspec": {
   "display_name": "ParalogHDs",
   "language": "python",
   "name": "paraloghds"
  },
  "language_info": {
   "codemirror_mode": {
    "name": "ipython",
    "version": 3
   },
   "file_extension": ".py",
   "mimetype": "text/x-python",
   "name": "python",
   "nbconvert_exporter": "python",
   "pygments_lexer": "ipython3",
   "version": "3.7.13"
  }
 },
 "nbformat": 4,
 "nbformat_minor": 4
}
