{
 "cells": [
  {
   "cell_type": "markdown",
   "metadata": {},
   "source": [
    "## Protein-coding paralog pairs dataset from Ensembl v93\n",
    "\n",
    "**Input:** \n",
    "- Ensembl list of paralogs\n",
    "- WGD data\n",
    "- HGNC annotations\n",
    "\n",
    "**Output:** All protein coding paralog genes & pairs with some basic annotations\n",
    "\n",
    "Ensembl release 93: http://jul2018.archive.ensembl.org/index.html\n",
    "\n",
    "Notes:  \n",
    "- ENSEMBL paralog data is listed as symmetric paralog pairs.\n",
    "- The sequence identity of a paralog pair is not symmetric because the paralogs may have different lengths. \n",
    "\n",
    "Ensembl Filters: \n",
    "- Paralogous Human Genes: Only --> 20385 / 64561 Genes"
   ]
  },
  {
   "cell_type": "code",
   "execution_count": 1,
   "metadata": {},
   "outputs": [],
   "source": [
    "import pandas as pd\n",
    "import numpy as np\n",
    "import scipy.stats as stats\n",
    "import networkx as nx\n",
    "import os\n",
    "import re\n",
    "import seaborn as sns\n",
    "import matplotlib.pyplot as plt\n",
    "import matplotlib as mpl\n",
    "from Bio import Phylo\n",
    "\n",
    "get_data_path = lambda folders, fname: os.path.normpath(os.environ['THIRD_PARTY_DIR']+'/'+'/'.join(folders) +'/'+ fname)\n",
    "get_local_data_path = lambda folders, fname: os.path.normpath('../local_data/' +'/'.join(folders) +'/'+ fname)\n",
    "\n",
    "# Inputs\n",
    "file_ensembl_data = get_data_path(['ensembl', '93'], 'paralog_pairs_all.txt')\n",
    "file_singh_wgds = get_data_path(['WGD_sources','singh_2019'], 'hsapiens.Pairs.Strict.2R.txt')\n",
    "file_makino_wgds = get_data_path(['WGD_sources'], 'makino_2010_ohnologs.xls')\n",
    "file_gene_id_map = get_data_path(['HGNC'], 'hgnc_complete_set_2021-07-01.txt')\n",
    "\n",
    "# Outputs\n",
    "file_all_paralog_genes = get_local_data_path(['processed', 'ensembl_93'], 'all_paralog_genes_min20.csv')\n",
    "file_unique_pairs = get_local_data_path(['processed', 'ensembl_93'], 'unique_pairs.csv')"
   ]
  },
  {
   "cell_type": "markdown",
   "metadata": {},
   "source": [
    "### Protein-coding paralog pairs w/ >=20% sequence identity"
   ]
  },
  {
   "cell_type": "code",
   "execution_count": 2,
   "metadata": {
    "scrolled": true
   },
   "outputs": [
    {
     "data": {
      "text/html": [
       "<div>\n",
       "<style scoped>\n",
       "    .dataframe tbody tr th:only-of-type {\n",
       "        vertical-align: middle;\n",
       "    }\n",
       "\n",
       "    .dataframe tbody tr th {\n",
       "        vertical-align: top;\n",
       "    }\n",
       "\n",
       "    .dataframe thead th {\n",
       "        text-align: right;\n",
       "    }\n",
       "</style>\n",
       "<table border=\"1\" class=\"dataframe\">\n",
       "  <thead>\n",
       "    <tr style=\"text-align: right;\">\n",
       "      <th></th>\n",
       "      <th>Gene stable ID</th>\n",
       "      <th>Human paralogue gene stable ID</th>\n",
       "      <th>Paralogue %id. target Human gene identical to query gene</th>\n",
       "      <th>Paralogue %id. query gene identical to target Human gene</th>\n",
       "    </tr>\n",
       "  </thead>\n",
       "  <tbody>\n",
       "    <tr>\n",
       "      <th>0</th>\n",
       "      <td>ENSG00000276626</td>\n",
       "      <td>ENSG00000202198</td>\n",
       "      <td>53.6885</td>\n",
       "      <td>39.577</td>\n",
       "    </tr>\n",
       "  </tbody>\n",
       "</table>\n",
       "</div>"
      ],
      "text/plain": [
       "    Gene stable ID Human paralogue gene stable ID  \\\n",
       "0  ENSG00000276626                ENSG00000202198   \n",
       "\n",
       "   Paralogue %id. target Human gene identical to query gene  \\\n",
       "0                                            53.6885          \n",
       "\n",
       "   Paralogue %id. query gene identical to target Human gene  \n",
       "0                                             39.577         "
      ]
     },
     "execution_count": 2,
     "metadata": {},
     "output_type": "execute_result"
    }
   ],
   "source": [
    "raw_data = pd.read_csv(file_ensembl_data)\n",
    "raw_data[:1]"
   ]
  },
  {
   "cell_type": "code",
   "execution_count": 3,
   "metadata": {
    "tags": []
   },
   "outputs": [
    {
     "name": "stdout",
     "output_type": "stream",
     "text": [
      "N pairs: 3654800 -- N genes: 20385\n"
     ]
    },
    {
     "data": {
      "text/html": [
       "<div>\n",
       "<style scoped>\n",
       "    .dataframe tbody tr th:only-of-type {\n",
       "        vertical-align: middle;\n",
       "    }\n",
       "\n",
       "    .dataframe tbody tr th {\n",
       "        vertical-align: top;\n",
       "    }\n",
       "\n",
       "    .dataframe thead th {\n",
       "        text-align: right;\n",
       "    }\n",
       "</style>\n",
       "<table border=\"1\" class=\"dataframe\">\n",
       "  <thead>\n",
       "    <tr style=\"text-align: right;\">\n",
       "      <th></th>\n",
       "      <th>A1_ensembl</th>\n",
       "      <th>A2_ensembl</th>\n",
       "      <th>seq_id</th>\n",
       "    </tr>\n",
       "  </thead>\n",
       "  <tbody>\n",
       "    <tr>\n",
       "      <th>0</th>\n",
       "      <td>ENSG00000276626</td>\n",
       "      <td>ENSG00000202198</td>\n",
       "      <td>53.6885</td>\n",
       "    </tr>\n",
       "    <tr>\n",
       "      <th>1</th>\n",
       "      <td>ENSG00000276626</td>\n",
       "      <td>ENSG00000201315</td>\n",
       "      <td>50.4098</td>\n",
       "    </tr>\n",
       "  </tbody>\n",
       "</table>\n",
       "</div>"
      ],
      "text/plain": [
       "        A1_ensembl       A2_ensembl   seq_id\n",
       "0  ENSG00000276626  ENSG00000202198  53.6885\n",
       "1  ENSG00000276626  ENSG00000201315  50.4098"
      ]
     },
     "execution_count": 3,
     "metadata": {},
     "output_type": "execute_result"
    }
   ],
   "source": [
    "# Clean up column names\n",
    "data = raw_data.rename(columns={\n",
    "    'Gene stable ID': 'A1_ensembl',\n",
    "    'Human paralogue gene stable ID': 'A2_ensembl',\n",
    "    'Paralogue %id. target Human gene identical to query gene': 'seq_id',\n",
    "})\n",
    "data = data[['A1_ensembl','A2_ensembl','seq_id']].drop_duplicates().reset_index(drop=True)\n",
    "print('N pairs:', data.shape[0], '-- N genes:', data.A1_ensembl.nunique())\n",
    "data[:2]"
   ]
  },
  {
   "cell_type": "markdown",
   "metadata": {},
   "source": [
    "#### Filter to protein-coding genes"
   ]
  },
  {
   "cell_type": "code",
   "execution_count": 4,
   "metadata": {
    "tags": []
   },
   "outputs": [
    {
     "name": "stdout",
     "output_type": "stream",
     "text": [
      "N pairs in HGNC: 1304205 / 1827400\n"
     ]
    },
    {
     "data": {
      "text/html": [
       "<div>\n",
       "<style scoped>\n",
       "    .dataframe tbody tr th:only-of-type {\n",
       "        vertical-align: middle;\n",
       "    }\n",
       "\n",
       "    .dataframe tbody tr th {\n",
       "        vertical-align: top;\n",
       "    }\n",
       "\n",
       "    .dataframe thead th {\n",
       "        text-align: right;\n",
       "    }\n",
       "</style>\n",
       "<table border=\"1\" class=\"dataframe\">\n",
       "  <thead>\n",
       "    <tr style=\"text-align: right;\">\n",
       "      <th></th>\n",
       "      <th>A1_ensembl</th>\n",
       "      <th>A2_ensembl</th>\n",
       "      <th>seq_id</th>\n",
       "      <th>A1</th>\n",
       "      <th>locus_type_x</th>\n",
       "      <th>A2</th>\n",
       "      <th>locus_type_y</th>\n",
       "    </tr>\n",
       "  </thead>\n",
       "  <tbody>\n",
       "    <tr>\n",
       "      <th>0</th>\n",
       "      <td>ENSG00000201317</td>\n",
       "      <td>ENSG00000201628</td>\n",
       "      <td>65.5172</td>\n",
       "      <td>RNU4-59P</td>\n",
       "      <td>pseudogene</td>\n",
       "      <td>RNU4-7P</td>\n",
       "      <td>pseudogene</td>\n",
       "    </tr>\n",
       "  </tbody>\n",
       "</table>\n",
       "</div>"
      ],
      "text/plain": [
       "        A1_ensembl       A2_ensembl   seq_id        A1 locus_type_x       A2  \\\n",
       "0  ENSG00000201317  ENSG00000201628  65.5172  RNU4-59P   pseudogene  RNU4-7P   \n",
       "\n",
       "  locus_type_y  \n",
       "0   pseudogene  "
      ]
     },
     "metadata": {},
     "output_type": "display_data"
    },
    {
     "name": "stdout",
     "output_type": "stream",
     "text": [
      "N protein coding pairs in HGNC: 41896\n"
     ]
    },
    {
     "data": {
      "text/html": [
       "<div>\n",
       "<style scoped>\n",
       "    .dataframe tbody tr th:only-of-type {\n",
       "        vertical-align: middle;\n",
       "    }\n",
       "\n",
       "    .dataframe tbody tr th {\n",
       "        vertical-align: top;\n",
       "    }\n",
       "\n",
       "    .dataframe thead th {\n",
       "        text-align: right;\n",
       "    }\n",
       "</style>\n",
       "<table border=\"1\" class=\"dataframe\">\n",
       "  <thead>\n",
       "    <tr style=\"text-align: right;\">\n",
       "      <th></th>\n",
       "      <th>A1_ensembl</th>\n",
       "      <th>A2_ensembl</th>\n",
       "      <th>seq_id</th>\n",
       "      <th>A1</th>\n",
       "      <th>A2</th>\n",
       "    </tr>\n",
       "  </thead>\n",
       "  <tbody>\n",
       "    <tr>\n",
       "      <th>0</th>\n",
       "      <td>ENSG00000092850</td>\n",
       "      <td>ENSG00000163060</td>\n",
       "      <td>29.3023</td>\n",
       "      <td>TEKT2</td>\n",
       "      <td>TEKT4</td>\n",
       "    </tr>\n",
       "  </tbody>\n",
       "</table>\n",
       "</div>"
      ],
      "text/plain": [
       "        A1_ensembl       A2_ensembl   seq_id     A1     A2\n",
       "0  ENSG00000092850  ENSG00000163060  29.3023  TEKT2  TEKT4"
      ]
     },
     "metadata": {},
     "output_type": "display_data"
    },
    {
     "data": {
      "text/html": [
       "<div>\n",
       "<style scoped>\n",
       "    .dataframe tbody tr th:only-of-type {\n",
       "        vertical-align: middle;\n",
       "    }\n",
       "\n",
       "    .dataframe tbody tr th {\n",
       "        vertical-align: top;\n",
       "    }\n",
       "\n",
       "    .dataframe thead th {\n",
       "        text-align: right;\n",
       "    }\n",
       "</style>\n",
       "<table border=\"1\" class=\"dataframe\">\n",
       "  <thead>\n",
       "    <tr style=\"text-align: right;\">\n",
       "      <th></th>\n",
       "      <th>pair</th>\n",
       "      <th>A1_ensembl</th>\n",
       "      <th>A2_ensembl</th>\n",
       "      <th>seq_id</th>\n",
       "      <th>A1</th>\n",
       "      <th>A2</th>\n",
       "    </tr>\n",
       "  </thead>\n",
       "  <tbody>\n",
       "    <tr>\n",
       "      <th>0</th>\n",
       "      <td>TEKT2_TEKT4</td>\n",
       "      <td>ENSG00000092850</td>\n",
       "      <td>ENSG00000163060</td>\n",
       "      <td>29.3023</td>\n",
       "      <td>TEKT2</td>\n",
       "      <td>TEKT4</td>\n",
       "    </tr>\n",
       "  </tbody>\n",
       "</table>\n",
       "</div>"
      ],
      "text/plain": [
       "          pair       A1_ensembl       A2_ensembl   seq_id     A1     A2\n",
       "0  TEKT2_TEKT4  ENSG00000092850  ENSG00000163060  29.3023  TEKT2  TEKT4"
      ]
     },
     "metadata": {},
     "output_type": "display_data"
    }
   ],
   "source": [
    "gene_id_map = pd.read_csv(file_gene_id_map, sep='\\t',low_memory=False)[['symbol','ensembl_gene_id','locus_type']]\n",
    "gene_id_map = gene_id_map.dropna(subset=['ensembl_gene_id'])\n",
    "\n",
    "# Annotate with HGNC locus type - merge on Ensembl ID\n",
    "df = pd.merge(data, gene_id_map.rename(columns={'ensembl_gene_id':'A1_ensembl','symbol':'A1'}), on=['A1_ensembl'])\n",
    "df = pd.merge(df, gene_id_map.rename(columns={'ensembl_gene_id':'A2_ensembl','symbol':'A2'}), on=['A2_ensembl'])\n",
    "print('N pairs in HGNC:', int(df.shape[0]/2), '/', int(data.shape[0]/2))\n",
    "display(df[:1])\n",
    "\n",
    "# Only keep pairs where A1 and A2 are both protein-coding in HGNC\n",
    "coding_pairs = df[(df.locus_type_x=='gene with protein product') & (df.locus_type_y=='gene with protein product')]\n",
    "coding_pairs = coding_pairs.drop(columns=['locus_type_x', 'locus_type_y']).drop_duplicates().reset_index(drop=True)\n",
    "print('N protein coding pairs in HGNC:', int(coding_pairs.shape[0]/2))\n",
    "display(coding_pairs[:1])\n",
    "\n",
    "# Add sorted symbol column at the front\n",
    "coding_pairs = coding_pairs.assign(\n",
    "    pair = coding_pairs.apply(lambda x: '_'.join(sorted([x.A1, x.A2])), axis=1))\n",
    "coding_pairs = coding_pairs.loc[:, ['pair'] + coding_pairs.columns.tolist()[:-1]]\n",
    "display(coding_pairs[:1])\n",
    "\n",
    "# Expect each pair to be in the list twice\n",
    "assert(coding_pairs.duplicated(subset=['pair']).sum() * 2 == coding_pairs.shape[0])"
   ]
  },
  {
   "cell_type": "markdown",
   "metadata": {},
   "source": [
    "#### Filter on sequence identity"
   ]
  },
  {
   "cell_type": "code",
   "execution_count": 5,
   "metadata": {},
   "outputs": [
    {
     "name": "stdout",
     "output_type": "stream",
     "text": [
      "Protein coding pairs w/ >=20% sequence identity: 28568\n"
     ]
    },
    {
     "data": {
      "text/html": [
       "<div>\n",
       "<style scoped>\n",
       "    .dataframe tbody tr th:only-of-type {\n",
       "        vertical-align: middle;\n",
       "    }\n",
       "\n",
       "    .dataframe tbody tr th {\n",
       "        vertical-align: top;\n",
       "    }\n",
       "\n",
       "    .dataframe thead th {\n",
       "        text-align: right;\n",
       "    }\n",
       "</style>\n",
       "<table border=\"1\" class=\"dataframe\">\n",
       "  <thead>\n",
       "    <tr style=\"text-align: right;\">\n",
       "      <th></th>\n",
       "      <th>pair</th>\n",
       "      <th>A1_ensembl</th>\n",
       "      <th>A2_ensembl</th>\n",
       "      <th>seq_id</th>\n",
       "      <th>A1</th>\n",
       "      <th>A2</th>\n",
       "      <th>min_seq_id</th>\n",
       "      <th>max_seq_id</th>\n",
       "    </tr>\n",
       "  </thead>\n",
       "  <tbody>\n",
       "    <tr>\n",
       "      <th>0</th>\n",
       "      <td>TEKT2_TEKT4</td>\n",
       "      <td>ENSG00000092850</td>\n",
       "      <td>ENSG00000163060</td>\n",
       "      <td>29.3023</td>\n",
       "      <td>TEKT2</td>\n",
       "      <td>TEKT4</td>\n",
       "      <td>28.9655</td>\n",
       "      <td>29.3023</td>\n",
       "    </tr>\n",
       "  </tbody>\n",
       "</table>\n",
       "</div>"
      ],
      "text/plain": [
       "          pair       A1_ensembl       A2_ensembl   seq_id     A1     A2  \\\n",
       "0  TEKT2_TEKT4  ENSG00000092850  ENSG00000163060  29.3023  TEKT2  TEKT4   \n",
       "\n",
       "   min_seq_id  max_seq_id  \n",
       "0     28.9655     29.3023  "
      ]
     },
     "execution_count": 5,
     "metadata": {},
     "output_type": "execute_result"
    }
   ],
   "source": [
    "# Get min/max sequence identity for each pair\n",
    "coding_pairs['min_seq_id'] = coding_pairs.groupby('pair').seq_id.transform('min')\n",
    "coding_pairs['max_seq_id'] = coding_pairs.groupby('pair').seq_id.transform('max')\n",
    "assert(coding_pairs[(coding_pairs.seq_id!=coding_pairs.min_seq_id) & \n",
    "                    (coding_pairs.seq_id!=coding_pairs.max_seq_id)].shape[0]==0)\n",
    "\n",
    "# Drop pairs with seq_id < 20% in either direction of comparison\n",
    "paralog_pairs = coding_pairs[coding_pairs.min_seq_id>=20].reset_index(drop=True)\n",
    "print('Protein coding pairs w/ >=20% sequence identity:', paralog_pairs.pair.nunique())\n",
    "assert(paralog_pairs.shape[0] == paralog_pairs.pair.nunique()*2)\n",
    "paralog_pairs[:1]"
   ]
  },
  {
   "cell_type": "markdown",
   "metadata": {},
   "source": [
    "### Add annotations\n",
    "#### 1. Duplication mode - union of WGDs from two sources"
   ]
  },
  {
   "cell_type": "code",
   "execution_count": 6,
   "metadata": {},
   "outputs": [
    {
     "data": {
      "text/html": [
       "<div>\n",
       "<style scoped>\n",
       "    .dataframe tbody tr th:only-of-type {\n",
       "        vertical-align: middle;\n",
       "    }\n",
       "\n",
       "    .dataframe tbody tr th {\n",
       "        vertical-align: top;\n",
       "    }\n",
       "\n",
       "    .dataframe thead th {\n",
       "        text-align: right;\n",
       "    }\n",
       "</style>\n",
       "<table border=\"1\" class=\"dataframe\">\n",
       "  <thead>\n",
       "    <tr style=\"text-align: right;\">\n",
       "      <th></th>\n",
       "      <th>Ohno1</th>\n",
       "      <th>Ohno2</th>\n",
       "      <th>Symbol1</th>\n",
       "      <th>Symbol2</th>\n",
       "      <th>Og weighted global mean</th>\n",
       "      <th>Self weighted global mean</th>\n",
       "      <th>Outgroup Support</th>\n",
       "      <th>Duplication time</th>\n",
       "      <th>Gene type</th>\n",
       "    </tr>\n",
       "  </thead>\n",
       "  <tbody>\n",
       "    <tr>\n",
       "      <th>0</th>\n",
       "      <td>ENSG00000164236</td>\n",
       "      <td>ENSG00000167612</td>\n",
       "      <td>ANKRD33B</td>\n",
       "      <td>ANKRD33</td>\n",
       "      <td>0.000159</td>\n",
       "      <td>1.329170e-08</td>\n",
       "      <td>2.0</td>\n",
       "      <td>Vertebrata</td>\n",
       "      <td>protein_coding</td>\n",
       "    </tr>\n",
       "  </tbody>\n",
       "</table>\n",
       "</div>"
      ],
      "text/plain": [
       "             Ohno1            Ohno2   Symbol1  Symbol2  \\\n",
       "0  ENSG00000164236  ENSG00000167612  ANKRD33B  ANKRD33   \n",
       "\n",
       "   Og weighted global mean  Self weighted global mean  Outgroup Support  \\\n",
       "0                 0.000159               1.329170e-08               2.0   \n",
       "\n",
       "  Duplication time       Gene type  \n",
       "0       Vertebrata  protein_coding  "
      ]
     },
     "metadata": {},
     "output_type": "display_data"
    },
    {
     "name": "stdout",
     "output_type": "stream",
     "text": [
      "N Singh WGDs: 4254\n"
     ]
    }
   ],
   "source": [
    "singh_wgd = pd.read_csv(file_singh_wgds, sep='\\t')\n",
    "display(singh_wgd[:1])\n",
    "singh_wgd = singh_wgd.assign(ensembl_ids = singh_wgd.apply(lambda x: '_'.join(sorted([x.Ohno1,x.Ohno2])), axis=1))\n",
    "print('N Singh WGDs:', singh_wgd.ensembl_ids.nunique())"
   ]
  },
  {
   "cell_type": "code",
   "execution_count": 7,
   "metadata": {},
   "outputs": [
    {
     "data": {
      "text/html": [
       "<div>\n",
       "<style scoped>\n",
       "    .dataframe tbody tr th:only-of-type {\n",
       "        vertical-align: middle;\n",
       "    }\n",
       "\n",
       "    .dataframe tbody tr th {\n",
       "        vertical-align: top;\n",
       "    }\n",
       "\n",
       "    .dataframe thead th {\n",
       "        text-align: right;\n",
       "    }\n",
       "</style>\n",
       "<table border=\"1\" class=\"dataframe\">\n",
       "  <thead>\n",
       "    <tr style=\"text-align: right;\">\n",
       "      <th></th>\n",
       "      <th>Ohnolog1</th>\n",
       "      <th>chr_ohno1</th>\n",
       "      <th>Position1</th>\n",
       "      <th>Ohnolog2</th>\n",
       "      <th>chr_ohno2</th>\n",
       "      <th>Position2</th>\n",
       "      <th>C_int</th>\n",
       "      <th>C_sav</th>\n",
       "      <th>Amphi</th>\n",
       "      <th>Sea_u</th>\n",
       "      <th>Fly</th>\n",
       "      <th>Worm</th>\n",
       "    </tr>\n",
       "  </thead>\n",
       "  <tbody>\n",
       "    <tr>\n",
       "      <th>0</th>\n",
       "      <td>ENSG00000130762</td>\n",
       "      <td>1</td>\n",
       "      <td>3361100</td>\n",
       "      <td>ENSG00000142632</td>\n",
       "      <td>1</td>\n",
       "      <td>16411691</td>\n",
       "      <td>None</td>\n",
       "      <td>None</td>\n",
       "      <td>None</td>\n",
       "      <td>Ohno</td>\n",
       "      <td>Ohno</td>\n",
       "      <td>None</td>\n",
       "    </tr>\n",
       "  </tbody>\n",
       "</table>\n",
       "</div>"
      ],
      "text/plain": [
       "          Ohnolog1 chr_ohno1  Position1         Ohnolog2 chr_ohno2  Position2  \\\n",
       "0  ENSG00000130762         1    3361100  ENSG00000142632         1   16411691   \n",
       "\n",
       "  C_int C_sav Amphi Sea_u   Fly  Worm  \n",
       "0  None  None  None  Ohno  Ohno  None  "
      ]
     },
     "metadata": {},
     "output_type": "display_data"
    },
    {
     "name": "stdout",
     "output_type": "stream",
     "text": [
      "N Makino WGDs: 9057\n"
     ]
    }
   ],
   "source": [
    "makino_wgd = pd.read_excel(file_makino_wgds, skiprows=1, skipfooter=3, sheet_name='Table S7')\n",
    "display(makino_wgd[:1])\n",
    "makino_wgd = makino_wgd.assign(ensembl_ids = makino_wgd.apply(lambda x: '_'.join(sorted([x.Ohnolog1,x.Ohnolog2])), axis=1))\n",
    "print('N Makino WGDs:', makino_wgd.ensembl_ids.nunique())"
   ]
  },
  {
   "cell_type": "code",
   "execution_count": 8,
   "metadata": {},
   "outputs": [
    {
     "name": "stdout",
     "output_type": "stream",
     "text": [
      "N Singh WGD: 3632\n",
      "N Makino WGD: 5897\n",
      "N either WGD: 6601\n"
     ]
    },
    {
     "data": {
      "text/html": [
       "<div>\n",
       "<style scoped>\n",
       "    .dataframe tbody tr th:only-of-type {\n",
       "        vertical-align: middle;\n",
       "    }\n",
       "\n",
       "    .dataframe tbody tr th {\n",
       "        vertical-align: top;\n",
       "    }\n",
       "\n",
       "    .dataframe thead th {\n",
       "        text-align: right;\n",
       "    }\n",
       "</style>\n",
       "<table border=\"1\" class=\"dataframe\">\n",
       "  <thead>\n",
       "    <tr style=\"text-align: right;\">\n",
       "      <th></th>\n",
       "      <th>pair</th>\n",
       "      <th>A1_ensembl</th>\n",
       "      <th>A2_ensembl</th>\n",
       "      <th>seq_id</th>\n",
       "      <th>A1</th>\n",
       "      <th>A2</th>\n",
       "      <th>min_seq_id</th>\n",
       "      <th>max_seq_id</th>\n",
       "      <th>singh_wgd</th>\n",
       "      <th>makino_wgd</th>\n",
       "      <th>WGD</th>\n",
       "    </tr>\n",
       "  </thead>\n",
       "  <tbody>\n",
       "    <tr>\n",
       "      <th>0</th>\n",
       "      <td>TEKT2_TEKT4</td>\n",
       "      <td>ENSG00000092850</td>\n",
       "      <td>ENSG00000163060</td>\n",
       "      <td>29.3023</td>\n",
       "      <td>TEKT2</td>\n",
       "      <td>TEKT4</td>\n",
       "      <td>28.9655</td>\n",
       "      <td>29.3023</td>\n",
       "      <td>False</td>\n",
       "      <td>True</td>\n",
       "      <td>True</td>\n",
       "    </tr>\n",
       "  </tbody>\n",
       "</table>\n",
       "</div>"
      ],
      "text/plain": [
       "          pair       A1_ensembl       A2_ensembl   seq_id     A1     A2  \\\n",
       "0  TEKT2_TEKT4  ENSG00000092850  ENSG00000163060  29.3023  TEKT2  TEKT4   \n",
       "\n",
       "   min_seq_id  max_seq_id  singh_wgd  makino_wgd   WGD  \n",
       "0     28.9655     29.3023      False        True  True  "
      ]
     },
     "metadata": {},
     "output_type": "display_data"
    }
   ],
   "source": [
    "# Add sorted ensembl ID column for comparisson (drop again after)\n",
    "pairs_annot = paralog_pairs.assign(\n",
    "    ensembl_ids = paralog_pairs.apply(lambda x: '_'.join(sorted([x.A1_ensembl,x.A2_ensembl])), axis=1))\n",
    "pairs_annot = pairs_annot.assign(singh_wgd = pairs_annot.ensembl_ids.isin(singh_wgd.ensembl_ids),\n",
    "                                 makino_wgd = pairs_annot.ensembl_ids.isin(makino_wgd.ensembl_ids))\n",
    "pairs_annot['WGD'] = (pairs_annot.singh_wgd | pairs_annot.makino_wgd)\n",
    "pairs_annot = pairs_annot.drop(columns=['ensembl_ids'])\n",
    "print('N Singh WGD:', pairs_annot[pairs_annot.singh_wgd].pair.nunique())\n",
    "print('N Makino WGD:', pairs_annot[pairs_annot.makino_wgd].pair.nunique())\n",
    "print('N either WGD:', pairs_annot[pairs_annot.WGD].pair.nunique())\n",
    "display(pairs_annot[:1])"
   ]
  },
  {
   "cell_type": "markdown",
   "metadata": {},
   "source": [
    "#### 2. Location (Chromosome)"
   ]
  },
  {
   "cell_type": "code",
   "execution_count": 9,
   "metadata": {},
   "outputs": [
    {
     "data": {
      "text/html": [
       "<div>\n",
       "<style scoped>\n",
       "    .dataframe tbody tr th:only-of-type {\n",
       "        vertical-align: middle;\n",
       "    }\n",
       "\n",
       "    .dataframe tbody tr th {\n",
       "        vertical-align: top;\n",
       "    }\n",
       "\n",
       "    .dataframe thead th {\n",
       "        text-align: right;\n",
       "    }\n",
       "</style>\n",
       "<table border=\"1\" class=\"dataframe\">\n",
       "  <thead>\n",
       "    <tr style=\"text-align: right;\">\n",
       "      <th></th>\n",
       "      <th>pair</th>\n",
       "      <th>A1_ensembl</th>\n",
       "      <th>A2_ensembl</th>\n",
       "      <th>seq_id</th>\n",
       "      <th>A1</th>\n",
       "      <th>A2</th>\n",
       "      <th>min_seq_id</th>\n",
       "      <th>max_seq_id</th>\n",
       "      <th>singh_wgd</th>\n",
       "      <th>makino_wgd</th>\n",
       "      <th>WGD</th>\n",
       "      <th>A1_chr</th>\n",
       "      <th>A2_chr</th>\n",
       "      <th>same_chr</th>\n",
       "    </tr>\n",
       "  </thead>\n",
       "  <tbody>\n",
       "    <tr>\n",
       "      <th>0</th>\n",
       "      <td>TEKT2_TEKT4</td>\n",
       "      <td>ENSG00000092850</td>\n",
       "      <td>ENSG00000163060</td>\n",
       "      <td>29.3023</td>\n",
       "      <td>TEKT2</td>\n",
       "      <td>TEKT4</td>\n",
       "      <td>28.9655</td>\n",
       "      <td>29.3023</td>\n",
       "      <td>False</td>\n",
       "      <td>True</td>\n",
       "      <td>True</td>\n",
       "      <td>1</td>\n",
       "      <td>2</td>\n",
       "      <td>False</td>\n",
       "    </tr>\n",
       "    <tr>\n",
       "      <th>1</th>\n",
       "      <td>TEKT1_TEKT4</td>\n",
       "      <td>ENSG00000167858</td>\n",
       "      <td>ENSG00000163060</td>\n",
       "      <td>37.5598</td>\n",
       "      <td>TEKT1</td>\n",
       "      <td>TEKT4</td>\n",
       "      <td>36.0920</td>\n",
       "      <td>37.5598</td>\n",
       "      <td>False</td>\n",
       "      <td>True</td>\n",
       "      <td>True</td>\n",
       "      <td>17</td>\n",
       "      <td>2</td>\n",
       "      <td>False</td>\n",
       "    </tr>\n",
       "  </tbody>\n",
       "</table>\n",
       "</div>"
      ],
      "text/plain": [
       "          pair       A1_ensembl       A2_ensembl   seq_id     A1     A2  \\\n",
       "0  TEKT2_TEKT4  ENSG00000092850  ENSG00000163060  29.3023  TEKT2  TEKT4   \n",
       "1  TEKT1_TEKT4  ENSG00000167858  ENSG00000163060  37.5598  TEKT1  TEKT4   \n",
       "\n",
       "   min_seq_id  max_seq_id  singh_wgd  makino_wgd   WGD A1_chr A2_chr  same_chr  \n",
       "0     28.9655     29.3023      False        True  True      1      2     False  \n",
       "1     36.0920     37.5598      False        True  True     17      2     False  "
      ]
     },
     "metadata": {},
     "output_type": "display_data"
    }
   ],
   "source": [
    "# Get gene location from HGNC\n",
    "id_map = pd.read_csv(file_gene_id_map, sep='\\t',low_memory=False).dropna(subset=['symbol'])[['symbol','location']]\n",
    "pairs_annot2 = pd.merge(pairs_annot, id_map.rename(columns={'symbol':'A1', 'location':'A1_chr'}))\n",
    "pairs_annot2 = pd.merge(pairs_annot2, id_map.rename(columns={'symbol':'A2','location':'A2_chr'}))\n",
    "\n",
    "# Reduce location to chr number (if possible)\n",
    "def get_chr(x):\n",
    "    if str(x) == 'nan': return 'NA'\n",
    "    res = re.search('([\\dXY]+)[qp]', x)\n",
    "    if not res: return x\n",
    "    return res.group(1)\n",
    "\n",
    "pairs_annot2['A1_chr'] = pairs_annot2.A1_chr.apply(get_chr)\n",
    "pairs_annot2['A2_chr'] = pairs_annot2.A2_chr.apply(get_chr)\n",
    "\n",
    "# Whether genes in pair are on same chromosome\n",
    "pairs_annot2 = pairs_annot2.assign(same_chr = (pairs_annot2.A1_chr == pairs_annot2.A2_chr))\n",
    "display(pairs_annot2[:2])"
   ]
  },
  {
   "cell_type": "markdown",
   "metadata": {},
   "source": [
    "#### 3. Family size"
   ]
  },
  {
   "cell_type": "code",
   "execution_count": 10,
   "metadata": {},
   "outputs": [
    {
     "data": {
      "text/html": [
       "<div>\n",
       "<style scoped>\n",
       "    .dataframe tbody tr th:only-of-type {\n",
       "        vertical-align: middle;\n",
       "    }\n",
       "\n",
       "    .dataframe tbody tr th {\n",
       "        vertical-align: top;\n",
       "    }\n",
       "\n",
       "    .dataframe thead th {\n",
       "        text-align: right;\n",
       "    }\n",
       "</style>\n",
       "<table border=\"1\" class=\"dataframe\">\n",
       "  <thead>\n",
       "    <tr style=\"text-align: right;\">\n",
       "      <th></th>\n",
       "      <th>gene</th>\n",
       "      <th>paralogs</th>\n",
       "    </tr>\n",
       "  </thead>\n",
       "  <tbody>\n",
       "    <tr>\n",
       "      <th>0</th>\n",
       "      <td>A1CF</td>\n",
       "      <td>{HNRNPR, RBM47, SYNCRIP, RBM46}</td>\n",
       "    </tr>\n",
       "  </tbody>\n",
       "</table>\n",
       "</div>"
      ],
      "text/plain": [
       "   gene                         paralogs\n",
       "0  A1CF  {HNRNPR, RBM47, SYNCRIP, RBM46}"
      ]
     },
     "metadata": {},
     "output_type": "display_data"
    },
    {
     "data": {
      "text/html": [
       "<div>\n",
       "<style scoped>\n",
       "    .dataframe tbody tr th:only-of-type {\n",
       "        vertical-align: middle;\n",
       "    }\n",
       "\n",
       "    .dataframe tbody tr th {\n",
       "        vertical-align: top;\n",
       "    }\n",
       "\n",
       "    .dataframe thead th {\n",
       "        text-align: right;\n",
       "    }\n",
       "</style>\n",
       "<table border=\"1\" class=\"dataframe\">\n",
       "  <thead>\n",
       "    <tr style=\"text-align: right;\">\n",
       "      <th></th>\n",
       "      <th>pair</th>\n",
       "      <th>A1_ensembl</th>\n",
       "      <th>A2_ensembl</th>\n",
       "      <th>seq_id</th>\n",
       "      <th>A1</th>\n",
       "      <th>A2</th>\n",
       "      <th>min_seq_id</th>\n",
       "      <th>max_seq_id</th>\n",
       "      <th>singh_wgd</th>\n",
       "      <th>makino_wgd</th>\n",
       "      <th>WGD</th>\n",
       "      <th>A1_chr</th>\n",
       "      <th>A2_chr</th>\n",
       "      <th>same_chr</th>\n",
       "      <th>family_size</th>\n",
       "    </tr>\n",
       "  </thead>\n",
       "  <tbody>\n",
       "    <tr>\n",
       "      <th>0</th>\n",
       "      <td>TEKT2_TEKT4</td>\n",
       "      <td>ENSG00000092850</td>\n",
       "      <td>ENSG00000163060</td>\n",
       "      <td>29.3023</td>\n",
       "      <td>TEKT2</td>\n",
       "      <td>TEKT4</td>\n",
       "      <td>28.9655</td>\n",
       "      <td>29.3023</td>\n",
       "      <td>False</td>\n",
       "      <td>True</td>\n",
       "      <td>True</td>\n",
       "      <td>1</td>\n",
       "      <td>2</td>\n",
       "      <td>False</td>\n",
       "      <td>5</td>\n",
       "    </tr>\n",
       "  </tbody>\n",
       "</table>\n",
       "</div>"
      ],
      "text/plain": [
       "          pair       A1_ensembl       A2_ensembl   seq_id     A1     A2  \\\n",
       "0  TEKT2_TEKT4  ENSG00000092850  ENSG00000163060  29.3023  TEKT2  TEKT4   \n",
       "\n",
       "   min_seq_id  max_seq_id  singh_wgd  makino_wgd   WGD A1_chr A2_chr  \\\n",
       "0     28.9655     29.3023      False        True  True      1      2   \n",
       "\n",
       "   same_chr  family_size  \n",
       "0     False            5  "
      ]
     },
     "metadata": {},
     "output_type": "display_data"
    }
   ],
   "source": [
    "# Set of all paralogs for each A1 (paralog pairs list is symmetric)\n",
    "paralog_families = pairs_annot2.groupby('A1').agg({'A2':set}).reset_index()\n",
    "paralog_families = paralog_families.rename(columns={'A1':'gene', 'A2':'paralogs'})\n",
    "display(paralog_families[:1])\n",
    "\n",
    "# Family (size) = union of all A1 and all A2 paralogs\n",
    "df = pd.merge(pairs_annot2[['A1','A2']], paralog_families.rename(columns={'gene':'A1'}))\n",
    "df = pd.merge(df, paralog_families.rename(columns={'gene':'A2'}), on=['A2'])\n",
    "df['family'] = df.apply(lambda x: frozenset(x.paralogs_x.union(x.paralogs_y)), axis=1)\n",
    "df['family_size'] = df.apply(lambda x: len(x.paralogs_x.union(x.paralogs_y)), axis=1)\n",
    "df = df.drop(columns=['paralogs_x','paralogs_y'])\n",
    "\n",
    "# Merge in family id and then merge family size and id with each pair\n",
    "pairs_annot3 = pd.merge(pairs_annot2, df.drop(columns=['family']), how='left')\n",
    "display(pairs_annot3[:1])"
   ]
  },
  {
   "cell_type": "markdown",
   "metadata": {},
   "source": [
    "#### 4. Closest pair (highest sequence identity)\n",
    "Closest pair for each A1 gene.  \n",
    "NOTE that this is not neccesarily symmetric: e.g. TEKT3 is closest for TEKT4 but TEKT5 is closest for TEKT3"
   ]
  },
  {
   "cell_type": "code",
   "execution_count": 11,
   "metadata": {},
   "outputs": [
    {
     "data": {
      "text/html": [
       "<div>\n",
       "<style scoped>\n",
       "    .dataframe tbody tr th:only-of-type {\n",
       "        vertical-align: middle;\n",
       "    }\n",
       "\n",
       "    .dataframe tbody tr th {\n",
       "        vertical-align: top;\n",
       "    }\n",
       "\n",
       "    .dataframe thead th {\n",
       "        text-align: right;\n",
       "    }\n",
       "</style>\n",
       "<table border=\"1\" class=\"dataframe\">\n",
       "  <thead>\n",
       "    <tr style=\"text-align: right;\">\n",
       "      <th></th>\n",
       "      <th>A1</th>\n",
       "      <th>seq_id</th>\n",
       "    </tr>\n",
       "  </thead>\n",
       "  <tbody>\n",
       "    <tr>\n",
       "      <th>0</th>\n",
       "      <td>A1CF</td>\n",
       "      <td>46.8439</td>\n",
       "    </tr>\n",
       "  </tbody>\n",
       "</table>\n",
       "</div>"
      ],
      "text/plain": [
       "     A1   seq_id\n",
       "0  A1CF  46.8439"
      ]
     },
     "metadata": {},
     "output_type": "display_data"
    },
    {
     "data": {
      "text/html": [
       "<div>\n",
       "<style scoped>\n",
       "    .dataframe tbody tr th:only-of-type {\n",
       "        vertical-align: middle;\n",
       "    }\n",
       "\n",
       "    .dataframe tbody tr th {\n",
       "        vertical-align: top;\n",
       "    }\n",
       "\n",
       "    .dataframe thead th {\n",
       "        text-align: right;\n",
       "    }\n",
       "</style>\n",
       "<table border=\"1\" class=\"dataframe\">\n",
       "  <thead>\n",
       "    <tr style=\"text-align: right;\">\n",
       "      <th></th>\n",
       "      <th>pair</th>\n",
       "      <th>A1_ensembl</th>\n",
       "      <th>A2_ensembl</th>\n",
       "      <th>seq_id</th>\n",
       "      <th>A1</th>\n",
       "      <th>A2</th>\n",
       "      <th>min_seq_id</th>\n",
       "      <th>max_seq_id</th>\n",
       "      <th>singh_wgd</th>\n",
       "      <th>makino_wgd</th>\n",
       "      <th>WGD</th>\n",
       "      <th>A1_chr</th>\n",
       "      <th>A2_chr</th>\n",
       "      <th>same_chr</th>\n",
       "      <th>family_size</th>\n",
       "      <th>closest</th>\n",
       "    </tr>\n",
       "  </thead>\n",
       "  <tbody>\n",
       "    <tr>\n",
       "      <th>0</th>\n",
       "      <td>TEKT2_TEKT4</td>\n",
       "      <td>ENSG00000092850</td>\n",
       "      <td>ENSG00000163060</td>\n",
       "      <td>29.3023</td>\n",
       "      <td>TEKT2</td>\n",
       "      <td>TEKT4</td>\n",
       "      <td>28.9655</td>\n",
       "      <td>29.3023</td>\n",
       "      <td>False</td>\n",
       "      <td>True</td>\n",
       "      <td>True</td>\n",
       "      <td>1</td>\n",
       "      <td>2</td>\n",
       "      <td>False</td>\n",
       "      <td>5</td>\n",
       "      <td>False</td>\n",
       "    </tr>\n",
       "  </tbody>\n",
       "</table>\n",
       "</div>"
      ],
      "text/plain": [
       "          pair       A1_ensembl       A2_ensembl   seq_id     A1     A2  \\\n",
       "0  TEKT2_TEKT4  ENSG00000092850  ENSG00000163060  29.3023  TEKT2  TEKT4   \n",
       "\n",
       "   min_seq_id  max_seq_id  singh_wgd  makino_wgd   WGD A1_chr A2_chr  \\\n",
       "0     28.9655     29.3023      False        True  True      1      2   \n",
       "\n",
       "   same_chr  family_size  closest  \n",
       "0     False            5    False  "
      ]
     },
     "execution_count": 11,
     "metadata": {},
     "output_type": "execute_result"
    }
   ],
   "source": [
    "# Find highest seq id for each A1 gene\n",
    "max_per_A1 = pairs_annot3.groupby('A1').seq_id.max().reset_index()\n",
    "display(max_per_A1[:1])\n",
    "# Merge with all pairs to find what the closest A2 for each A1 (merging on A1 and seq id pair)\n",
    "pairs_annot4 = pd.merge(pairs_annot3, max_per_A1, how='left', indicator='closest')\n",
    "# Annotate pairs as closest if A2 is A1's closest paralog (in terms of sequence identity)\n",
    "pairs_annot4['closest'] = pairs_annot4['closest'] == 'both'\n",
    "pairs_annot4[:1]"
   ]
  },
  {
   "cell_type": "markdown",
   "metadata": {},
   "source": [
    "#### 5. Add entrez id from HGNC"
   ]
  },
  {
   "cell_type": "code",
   "execution_count": 12,
   "metadata": {
    "tags": []
   },
   "outputs": [
    {
     "name": "stdout",
     "output_type": "stream",
     "text": [
      "Num pairs (min. 20%): 28568\n",
      "Num paralog genes (min. 20%): 12128\n"
     ]
    },
    {
     "data": {
      "text/html": [
       "<div>\n",
       "<style scoped>\n",
       "    .dataframe tbody tr th:only-of-type {\n",
       "        vertical-align: middle;\n",
       "    }\n",
       "\n",
       "    .dataframe tbody tr th {\n",
       "        vertical-align: top;\n",
       "    }\n",
       "\n",
       "    .dataframe thead th {\n",
       "        text-align: right;\n",
       "    }\n",
       "</style>\n",
       "<table border=\"1\" class=\"dataframe\">\n",
       "  <thead>\n",
       "    <tr style=\"text-align: right;\">\n",
       "      <th></th>\n",
       "      <th>pair</th>\n",
       "      <th>A1_ensembl</th>\n",
       "      <th>A2_ensembl</th>\n",
       "      <th>seq_id</th>\n",
       "      <th>A1</th>\n",
       "      <th>A2</th>\n",
       "      <th>min_seq_id</th>\n",
       "      <th>max_seq_id</th>\n",
       "      <th>singh_wgd</th>\n",
       "      <th>makino_wgd</th>\n",
       "      <th>WGD</th>\n",
       "      <th>A1_chr</th>\n",
       "      <th>A2_chr</th>\n",
       "      <th>same_chr</th>\n",
       "      <th>family_size</th>\n",
       "      <th>closest</th>\n",
       "      <th>A1_entrez</th>\n",
       "      <th>A2_entrez</th>\n",
       "    </tr>\n",
       "  </thead>\n",
       "  <tbody>\n",
       "    <tr>\n",
       "      <th>0</th>\n",
       "      <td>TEKT2_TEKT4</td>\n",
       "      <td>ENSG00000092850</td>\n",
       "      <td>ENSG00000163060</td>\n",
       "      <td>29.3023</td>\n",
       "      <td>TEKT2</td>\n",
       "      <td>TEKT4</td>\n",
       "      <td>28.9655</td>\n",
       "      <td>29.3023</td>\n",
       "      <td>False</td>\n",
       "      <td>True</td>\n",
       "      <td>True</td>\n",
       "      <td>1</td>\n",
       "      <td>2</td>\n",
       "      <td>False</td>\n",
       "      <td>5</td>\n",
       "      <td>False</td>\n",
       "      <td>27285</td>\n",
       "      <td>150483</td>\n",
       "    </tr>\n",
       "    <tr>\n",
       "      <th>1</th>\n",
       "      <td>TEKT1_TEKT4</td>\n",
       "      <td>ENSG00000167858</td>\n",
       "      <td>ENSG00000163060</td>\n",
       "      <td>37.5598</td>\n",
       "      <td>TEKT1</td>\n",
       "      <td>TEKT4</td>\n",
       "      <td>36.0920</td>\n",
       "      <td>37.5598</td>\n",
       "      <td>False</td>\n",
       "      <td>True</td>\n",
       "      <td>True</td>\n",
       "      <td>17</td>\n",
       "      <td>2</td>\n",
       "      <td>False</td>\n",
       "      <td>5</td>\n",
       "      <td>True</td>\n",
       "      <td>83659</td>\n",
       "      <td>150483</td>\n",
       "    </tr>\n",
       "  </tbody>\n",
       "</table>\n",
       "</div>"
      ],
      "text/plain": [
       "          pair       A1_ensembl       A2_ensembl   seq_id     A1     A2  \\\n",
       "0  TEKT2_TEKT4  ENSG00000092850  ENSG00000163060  29.3023  TEKT2  TEKT4   \n",
       "1  TEKT1_TEKT4  ENSG00000167858  ENSG00000163060  37.5598  TEKT1  TEKT4   \n",
       "\n",
       "   min_seq_id  max_seq_id  singh_wgd  makino_wgd   WGD A1_chr A2_chr  \\\n",
       "0     28.9655     29.3023      False        True  True      1      2   \n",
       "1     36.0920     37.5598      False        True  True     17      2   \n",
       "\n",
       "   same_chr  family_size  closest  A1_entrez  A2_entrez  \n",
       "0     False            5    False      27285     150483  \n",
       "1     False            5     True      83659     150483  "
      ]
     },
     "metadata": {},
     "output_type": "display_data"
    }
   ],
   "source": [
    "id_map = pd.read_csv(file_gene_id_map, sep='\\t', low_memory=False)[['entrez_id','symbol']].dropna()\n",
    "\n",
    "# Merge entrez ID for each gene\n",
    "df = pd.merge(pairs_annot4, id_map.rename(columns={'symbol':'A1','entrez_id':'A1_entrez'}))\n",
    "pairs_annot5 = pd.merge(df, id_map.rename(columns={'symbol':'A2','entrez_id':'A2_entrez'}))\\\n",
    "                 .astype({'A1_entrez':'int', 'A2_entrez':'int'})\n",
    "\n",
    "print('Num pairs (min. 20%):', pairs_annot5.pair.nunique())\n",
    "print('Num paralog genes (min. 20%):', pairs_annot5.A1.nunique())\n",
    "display(pairs_annot5[:2])"
   ]
  },
  {
   "cell_type": "markdown",
   "metadata": {},
   "source": [
    "### Export data sets\n",
    "#### Paralog genes"
   ]
  },
  {
   "cell_type": "code",
   "execution_count": 13,
   "metadata": {},
   "outputs": [
    {
     "name": "stdout",
     "output_type": "stream",
     "text": [
      "Avg max seq id = 53.51%\n",
      "N genes in WGD pairs: 7004 / 12128 = 57.75%\n",
      "N paralog genes: 12128\n"
     ]
    },
    {
     "data": {
      "text/html": [
       "<div>\n",
       "<style scoped>\n",
       "    .dataframe tbody tr th:only-of-type {\n",
       "        vertical-align: middle;\n",
       "    }\n",
       "\n",
       "    .dataframe tbody tr th {\n",
       "        vertical-align: top;\n",
       "    }\n",
       "\n",
       "    .dataframe thead th {\n",
       "        text-align: right;\n",
       "    }\n",
       "</style>\n",
       "<table border=\"1\" class=\"dataframe\">\n",
       "  <thead>\n",
       "    <tr style=\"text-align: right;\">\n",
       "      <th></th>\n",
       "      <th>symbol</th>\n",
       "      <th>entrez_id</th>\n",
       "      <th>n_paralogs</th>\n",
       "      <th>WGD</th>\n",
       "      <th>max_seq_id</th>\n",
       "    </tr>\n",
       "  </thead>\n",
       "  <tbody>\n",
       "    <tr>\n",
       "      <th>0</th>\n",
       "      <td>A1CF</td>\n",
       "      <td>29974</td>\n",
       "      <td>4</td>\n",
       "      <td>True</td>\n",
       "      <td>46.8439</td>\n",
       "    </tr>\n",
       "  </tbody>\n",
       "</table>\n",
       "</div>"
      ],
      "text/plain": [
       "  symbol  entrez_id  n_paralogs   WGD  max_seq_id\n",
       "0   A1CF      29974           4  True     46.8439"
      ]
     },
     "metadata": {},
     "output_type": "display_data"
    }
   ],
   "source": [
    "# List of all paralog genes, incl. sequence identity with closest paralog, whether in WGD pair, & num paralogs \n",
    "all_paralog_genes = pairs_annot5.groupby(['A1','A1_entrez'])\\\n",
    "                                .agg({'A2':'count', 'WGD':max, 'seq_id':max}).reset_index()\n",
    "all_paralog_genes.columns = ['symbol','entrez_id','n_paralogs','WGD','max_seq_id']\n",
    "\n",
    "assert(pd.concat([pairs_annot5.A1, pairs_annot5.A2]).nunique() == all_paralog_genes.shape[0])\n",
    "print('Avg max seq id = %.2f%%' % (all_paralog_genes.max_seq_id.mean()))\n",
    "print('N genes in WGD pairs: %d / %d = %.2f%%' % (sum(all_paralog_genes.WGD), all_paralog_genes.shape[0],\n",
    "                                                  sum(all_paralog_genes.WGD)/all_paralog_genes.shape[0]*100))\n",
    "print('N paralog genes:', all_paralog_genes.shape[0])\n",
    "display(all_paralog_genes[:1])\n",
    "all_paralog_genes.to_csv(file_all_paralog_genes, index=0)"
   ]
  },
  {
   "cell_type": "markdown",
   "metadata": {},
   "source": [
    "#### Unique pairs\n",
    "All paralog pair features here are symmetric, expect for the \"closest\".  \n",
    "Mark a pair as closest if both genes are each other's closest paralog (min).  \n",
    "For all other features min==max."
   ]
  },
  {
   "cell_type": "code",
   "execution_count": 23,
   "metadata": {},
   "outputs": [
    {
     "name": "stdout",
     "output_type": "stream",
     "text": [
      "N unique pairs: 28568\n"
     ]
    },
    {
     "data": {
      "text/html": [
       "<div>\n",
       "<style scoped>\n",
       "    .dataframe tbody tr th:only-of-type {\n",
       "        vertical-align: middle;\n",
       "    }\n",
       "\n",
       "    .dataframe tbody tr th {\n",
       "        vertical-align: top;\n",
       "    }\n",
       "\n",
       "    .dataframe thead th {\n",
       "        text-align: right;\n",
       "    }\n",
       "</style>\n",
       "<table border=\"1\" class=\"dataframe\">\n",
       "  <thead>\n",
       "    <tr style=\"text-align: right;\">\n",
       "      <th></th>\n",
       "      <th>pair</th>\n",
       "      <th>min_seq_id</th>\n",
       "      <th>max_seq_id</th>\n",
       "      <th>WGD</th>\n",
       "      <th>same_chr</th>\n",
       "      <th>family_size</th>\n",
       "      <th>closest</th>\n",
       "    </tr>\n",
       "  </thead>\n",
       "  <tbody>\n",
       "    <tr>\n",
       "      <th>0</th>\n",
       "      <td>A1CF_HNRNPR</td>\n",
       "      <td>30.9748</td>\n",
       "      <td>32.7243</td>\n",
       "      <td>False</td>\n",
       "      <td>False</td>\n",
       "      <td>5</td>\n",
       "      <td>False</td>\n",
       "    </tr>\n",
       "    <tr>\n",
       "      <th>1</th>\n",
       "      <td>A1CF_RBM46</td>\n",
       "      <td>43.6877</td>\n",
       "      <td>49.3433</td>\n",
       "      <td>True</td>\n",
       "      <td>False</td>\n",
       "      <td>6</td>\n",
       "      <td>False</td>\n",
       "    </tr>\n",
       "  </tbody>\n",
       "</table>\n",
       "</div>"
      ],
      "text/plain": [
       "          pair  min_seq_id  max_seq_id    WGD  same_chr  family_size  closest\n",
       "0  A1CF_HNRNPR     30.9748     32.7243  False     False            5    False\n",
       "1   A1CF_RBM46     43.6877     49.3433   True     False            6    False"
      ]
     },
     "metadata": {},
     "output_type": "display_data"
    },
    {
     "data": {
      "text/html": [
       "<div>\n",
       "<style scoped>\n",
       "    .dataframe tbody tr th:only-of-type {\n",
       "        vertical-align: middle;\n",
       "    }\n",
       "\n",
       "    .dataframe tbody tr th {\n",
       "        vertical-align: top;\n",
       "    }\n",
       "\n",
       "    .dataframe thead th {\n",
       "        text-align: right;\n",
       "    }\n",
       "</style>\n",
       "<table border=\"1\" class=\"dataframe\">\n",
       "  <thead>\n",
       "    <tr style=\"text-align: right;\">\n",
       "      <th></th>\n",
       "      <th>pair</th>\n",
       "      <th>min_seq_id</th>\n",
       "      <th>max_seq_id</th>\n",
       "      <th>WGD</th>\n",
       "      <th>same_chr</th>\n",
       "      <th>family_size</th>\n",
       "      <th>closest</th>\n",
       "      <th>A1</th>\n",
       "      <th>A2</th>\n",
       "      <th>A1_entrez</th>\n",
       "      <th>A1_chr</th>\n",
       "      <th>A2_entrez</th>\n",
       "      <th>A2_chr</th>\n",
       "    </tr>\n",
       "  </thead>\n",
       "  <tbody>\n",
       "    <tr>\n",
       "      <th>0</th>\n",
       "      <td>A1CF_HNRNPR</td>\n",
       "      <td>30.9748</td>\n",
       "      <td>32.7243</td>\n",
       "      <td>False</td>\n",
       "      <td>False</td>\n",
       "      <td>5</td>\n",
       "      <td>False</td>\n",
       "      <td>A1CF</td>\n",
       "      <td>HNRNPR</td>\n",
       "      <td>29974</td>\n",
       "      <td>10</td>\n",
       "      <td>10236</td>\n",
       "      <td>1</td>\n",
       "    </tr>\n",
       "    <tr>\n",
       "      <th>1</th>\n",
       "      <td>A1CF_RBM46</td>\n",
       "      <td>43.6877</td>\n",
       "      <td>49.3433</td>\n",
       "      <td>True</td>\n",
       "      <td>False</td>\n",
       "      <td>6</td>\n",
       "      <td>False</td>\n",
       "      <td>A1CF</td>\n",
       "      <td>RBM46</td>\n",
       "      <td>29974</td>\n",
       "      <td>10</td>\n",
       "      <td>166863</td>\n",
       "      <td>4</td>\n",
       "    </tr>\n",
       "  </tbody>\n",
       "</table>\n",
       "</div>"
      ],
      "text/plain": [
       "          pair  min_seq_id  max_seq_id    WGD  same_chr  family_size  closest  \\\n",
       "0  A1CF_HNRNPR     30.9748     32.7243  False     False            5    False   \n",
       "1   A1CF_RBM46     43.6877     49.3433   True     False            6    False   \n",
       "\n",
       "     A1      A2  A1_entrez A1_chr  A2_entrez A2_chr  \n",
       "0  A1CF  HNRNPR      29974     10      10236      1  \n",
       "1  A1CF   RBM46      29974     10     166863      4  "
      ]
     },
     "execution_count": 23,
     "metadata": {},
     "output_type": "execute_result"
    }
   ],
   "source": [
    "unique_pairs = pairs_annot5.drop(columns=['A1','A2','A1_ensembl','A2_ensembl','A1_entrez','A2_entrez','seq_id',\n",
    "                                          'singh_wgd','makino_wgd','A1_chr','A2_chr'])\\\n",
    "                           .groupby('pair').min().reset_index()\n",
    "print('N unique pairs:', unique_pairs.shape[0])\n",
    "display(unique_pairs[:2])\n",
    "\n",
    "# Add back other ids\n",
    "unique_pairs[['A1','A2']] = unique_pairs['pair'].str.split('_', 1, expand=True)\n",
    "unique_pairs = pd.merge(unique_pairs, pairs_annot5[['A1','A1_entrez','A1_chr']].drop_duplicates())\n",
    "unique_pairs = pd.merge(unique_pairs, pairs_annot5[['A2','A2_entrez','A2_chr']].drop_duplicates())\n",
    "unique_pairs = unique_pairs.astype({'A1_entrez':'int', 'A2_entrez':'int'})\n",
    "unique_pairs[:2]"
   ]
  },
  {
   "cell_type": "code",
   "execution_count": 24,
   "metadata": {},
   "outputs": [],
   "source": [
    "unique_pairs.to_csv(file_unique_pairs, index=0)"
   ]
  },
  {
   "cell_type": "code",
   "execution_count": null,
   "metadata": {},
   "outputs": [],
   "source": []
  },
  {
   "cell_type": "code",
   "execution_count": null,
   "metadata": {},
   "outputs": [],
   "source": []
  },
  {
   "cell_type": "markdown",
   "metadata": {},
   "source": [
    "#### Closest pairs"
   ]
  },
  {
   "cell_type": "code",
   "execution_count": 30,
   "metadata": {},
   "outputs": [
    {
     "name": "stdout",
     "output_type": "stream",
     "text": [
      "N paralog genes: 12128\n"
     ]
    }
   ],
   "source": [
    "print('N paralog genes:', all_pairs_annot.A1.nunique())"
   ]
  },
  {
   "cell_type": "code",
   "execution_count": 31,
   "metadata": {},
   "outputs": [
    {
     "name": "stdout",
     "output_type": "stream",
     "text": [
      "Multiple closest: 937\n",
      "N closest pairs: 13065\n"
     ]
    },
    {
     "data": {
      "text/html": [
       "<div>\n",
       "<style scoped>\n",
       "    .dataframe tbody tr th:only-of-type {\n",
       "        vertical-align: middle;\n",
       "    }\n",
       "\n",
       "    .dataframe tbody tr th {\n",
       "        vertical-align: top;\n",
       "    }\n",
       "\n",
       "    .dataframe thead th {\n",
       "        text-align: right;\n",
       "    }\n",
       "</style>\n",
       "<table border=\"1\" class=\"dataframe\">\n",
       "  <thead>\n",
       "    <tr style=\"text-align: right;\">\n",
       "      <th></th>\n",
       "      <th>pair</th>\n",
       "      <th>A1_ensembl</th>\n",
       "      <th>A2_ensembl</th>\n",
       "      <th>seq_id</th>\n",
       "      <th>common_ancestor</th>\n",
       "      <th>A1</th>\n",
       "      <th>A2</th>\n",
       "      <th>evolutionary_distance</th>\n",
       "      <th>min_seq_id</th>\n",
       "      <th>max_seq_id</th>\n",
       "      <th>...</th>\n",
       "      <th>makino_wgd</th>\n",
       "      <th>WGD</th>\n",
       "      <th>A1_chr</th>\n",
       "      <th>A2_chr</th>\n",
       "      <th>same_chr</th>\n",
       "      <th>family_size</th>\n",
       "      <th>family_id</th>\n",
       "      <th>closest</th>\n",
       "      <th>A1_entrez</th>\n",
       "      <th>A2_entrez</th>\n",
       "    </tr>\n",
       "  </thead>\n",
       "  <tbody>\n",
       "    <tr>\n",
       "      <th>32770</th>\n",
       "      <td>ALPG_ALPP</td>\n",
       "      <td>ENSG00000163286</td>\n",
       "      <td>ENSG00000163283</td>\n",
       "      <td>91.1654</td>\n",
       "      <td>Homininae</td>\n",
       "      <td>ALPG</td>\n",
       "      <td>ALPP</td>\n",
       "      <td>0.324634</td>\n",
       "      <td>90.6542</td>\n",
       "      <td>91.1654</td>\n",
       "      <td>...</td>\n",
       "      <td>False</td>\n",
       "      <td>False</td>\n",
       "      <td>2</td>\n",
       "      <td>2</td>\n",
       "      <td>True</td>\n",
       "      <td>4</td>\n",
       "      <td>2562</td>\n",
       "      <td>True</td>\n",
       "      <td>251</td>\n",
       "      <td>250</td>\n",
       "    </tr>\n",
       "    <tr>\n",
       "      <th>7886</th>\n",
       "      <td>ATP2C1_ATP2C2</td>\n",
       "      <td>ENSG00000064270</td>\n",
       "      <td>ENSG00000017260</td>\n",
       "      <td>62.5641</td>\n",
       "      <td>Vertebrata</td>\n",
       "      <td>ATP2C2</td>\n",
       "      <td>ATP2C1</td>\n",
       "      <td>0.176791</td>\n",
       "      <td>62.5641</td>\n",
       "      <td>62.6927</td>\n",
       "      <td>...</td>\n",
       "      <td>True</td>\n",
       "      <td>True</td>\n",
       "      <td>16</td>\n",
       "      <td>3</td>\n",
       "      <td>False</td>\n",
       "      <td>11</td>\n",
       "      <td>568</td>\n",
       "      <td>True</td>\n",
       "      <td>9914</td>\n",
       "      <td>27032</td>\n",
       "    </tr>\n",
       "  </tbody>\n",
       "</table>\n",
       "<p>2 rows × 21 columns</p>\n",
       "</div>"
      ],
      "text/plain": [
       "                pair       A1_ensembl       A2_ensembl   seq_id  \\\n",
       "32770      ALPG_ALPP  ENSG00000163286  ENSG00000163283  91.1654   \n",
       "7886   ATP2C1_ATP2C2  ENSG00000064270  ENSG00000017260  62.5641   \n",
       "\n",
       "      common_ancestor      A1      A2  evolutionary_distance  min_seq_id  \\\n",
       "32770       Homininae    ALPG    ALPP               0.324634     90.6542   \n",
       "7886       Vertebrata  ATP2C2  ATP2C1               0.176791     62.5641   \n",
       "\n",
       "       max_seq_id  ...  makino_wgd    WGD  A1_chr A2_chr same_chr  \\\n",
       "32770     91.1654  ...       False  False       2      2     True   \n",
       "7886      62.6927  ...        True   True      16      3    False   \n",
       "\n",
       "       family_size  family_id  closest  A1_entrez  A2_entrez  \n",
       "32770            4       2562     True        251        250  \n",
       "7886            11        568     True       9914      27032  \n",
       "\n",
       "[2 rows x 21 columns]"
      ]
     },
     "execution_count": 31,
     "metadata": {},
     "output_type": "execute_result"
    }
   ],
   "source": [
    "closest_pairs = all_pairs_annot[all_pairs_annot.closest]\n",
    "# Genes with multiple closest paralogs - keep 1 at random\n",
    "print('Multiple closest:', closest_pairs[closest_pairs.duplicated(subset=['A1'])].shape[0])\n",
    "closest_pairs = closest_pairs.sample(frac=1) # Shuffle rows\n",
    "#closest_pairs = closest_pairs.drop_duplicates(subset=['A1'], keep=\"first\").reset_index(drop=True)\n",
    "print('N closest pairs:', closest_pairs.shape[0])\n",
    "closest_pairs[:2]"
   ]
  },
  {
   "cell_type": "code",
   "execution_count": 46,
   "metadata": {},
   "outputs": [],
   "source": [
    "closest_pairs.to_csv(file_closest_pairs, index=0)"
   ]
  },
  {
   "cell_type": "markdown",
   "metadata": {},
   "source": [
    "### Families"
   ]
  },
  {
   "cell_type": "code",
   "execution_count": 32,
   "metadata": {
    "tags": []
   },
   "outputs": [],
   "source": [
    "# Check that all families are fully connected (need unfiltered on seq id data)\n",
    "G = nx.Graph()\n",
    "G.add_edges_from(coding_pairs[['A1','A2']].values)\n",
    "families = [f for f in nx.connected_components(G)]\n",
    "for f in families:\n",
    "    n = len(f)\n",
    "    n_edges = G.subgraph(f).number_of_edges()\n",
    "    if n*(n-1)/2 != n_edges:\n",
    "        print('Not fully connect:', f)"
   ]
  },
  {
   "cell_type": "code",
   "execution_count": 33,
   "metadata": {},
   "outputs": [],
   "source": [
    "def draw_family_network_for_gene(gene, G, ax):\n",
    "    fam = paralog_families[paralog_families.gene==gene]\n",
    "    fam_pairs = all_pairs_annot[all_pairs_annot.A1.isin(fam.paralogs.values[0])]\n",
    "    G = nx.Graph()\n",
    "    G.add_edges_from(fam_pairs[['A1','A2']].values)\n",
    "    nx.draw_networkx(G, node_color='#f0e442', node_size=2000, ax=ax)\n",
    "    ax.axis('off')\n",
    "    ax.set_xlim([1.3*x for x in ax.get_xlim()])\n",
    "    ax.set_ylim([1.3*y for y in ax.get_ylim()])"
   ]
  },
  {
   "cell_type": "code",
   "execution_count": 34,
   "metadata": {},
   "outputs": [
    {
     "data": {
      "text/html": [
       "<div>\n",
       "<style scoped>\n",
       "    .dataframe tbody tr th:only-of-type {\n",
       "        vertical-align: middle;\n",
       "    }\n",
       "\n",
       "    .dataframe tbody tr th {\n",
       "        vertical-align: top;\n",
       "    }\n",
       "\n",
       "    .dataframe thead th {\n",
       "        text-align: right;\n",
       "    }\n",
       "</style>\n",
       "<table border=\"1\" class=\"dataframe\">\n",
       "  <thead>\n",
       "    <tr style=\"text-align: right;\">\n",
       "      <th></th>\n",
       "      <th>pair</th>\n",
       "      <th>common_ancestor</th>\n",
       "      <th>evolutionary_distance</th>\n",
       "      <th>min_seq_id</th>\n",
       "      <th>max_seq_id</th>\n",
       "      <th>singh_wgd</th>\n",
       "      <th>makino_wgd</th>\n",
       "      <th>WGD</th>\n",
       "      <th>same_chr</th>\n",
       "      <th>family_size</th>\n",
       "      <th>family_id</th>\n",
       "      <th>closest</th>\n",
       "      <th>A1</th>\n",
       "      <th>A2</th>\n",
       "      <th>A1_entrez</th>\n",
       "      <th>A1_ensembl</th>\n",
       "      <th>A1_chr</th>\n",
       "      <th>A2_entrez</th>\n",
       "      <th>A2_ensembl</th>\n",
       "      <th>A2_chr</th>\n",
       "    </tr>\n",
       "  </thead>\n",
       "  <tbody>\n",
       "    <tr>\n",
       "      <th>22784</th>\n",
       "      <td>STAG2_STAG3</td>\n",
       "      <td>Vertebrata</td>\n",
       "      <td>0.176791</td>\n",
       "      <td>47.4763</td>\n",
       "      <td>49.1028</td>\n",
       "      <td>False</td>\n",
       "      <td>True</td>\n",
       "      <td>True</td>\n",
       "      <td>False</td>\n",
       "      <td>3</td>\n",
       "      <td>2561</td>\n",
       "      <td>False</td>\n",
       "      <td>STAG2</td>\n",
       "      <td>STAG3</td>\n",
       "      <td>10735</td>\n",
       "      <td>ENSG00000101972</td>\n",
       "      <td>X</td>\n",
       "      <td>10734</td>\n",
       "      <td>ENSG00000066923</td>\n",
       "      <td>7</td>\n",
       "    </tr>\n",
       "  </tbody>\n",
       "</table>\n",
       "</div>"
      ],
      "text/plain": [
       "              pair common_ancestor  evolutionary_distance  min_seq_id  \\\n",
       "22784  STAG2_STAG3      Vertebrata               0.176791     47.4763   \n",
       "\n",
       "       max_seq_id  singh_wgd  makino_wgd   WGD  same_chr  family_size  \\\n",
       "22784     49.1028      False        True  True     False            3   \n",
       "\n",
       "       family_id  closest     A1     A2  A1_entrez       A1_ensembl A1_chr  \\\n",
       "22784       2561    False  STAG2  STAG3      10735  ENSG00000101972      X   \n",
       "\n",
       "       A2_entrez       A2_ensembl A2_chr  \n",
       "22784      10734  ENSG00000066923      7  "
      ]
     },
     "execution_count": 34,
     "metadata": {},
     "output_type": "execute_result"
    }
   ],
   "source": [
    "unique_pairs[unique_pairs.A1=='STAG2']"
   ]
  },
  {
   "cell_type": "code",
   "execution_count": 35,
   "metadata": {},
   "outputs": [
    {
     "data": {
      "image/png": "[encoded data removed]",
      "text/plain": [
       "<Figure size 288x288 with 1 Axes>"
      ]
     },
     "metadata": {},
     "output_type": "display_data"
    }
   ],
   "source": [
    "f, ax = plt.subplots(1, 1, figsize=(4,4))\n",
    "draw_family_network_for_gene(\"STAG1\", G, ax)\n",
    "plt.savefig('../figures/stag_family.png', bbox_inches='tight', dpi=300)"
   ]
  },
  {
   "cell_type": "code",
   "execution_count": 36,
   "metadata": {},
   "outputs": [
    {
     "data": {
      "image/png": "[encoded data removed]",
      "text/plain": [
       "<Figure size 648x288 with 2 Axes>"
      ]
     },
     "metadata": {},
     "output_type": "display_data"
    }
   ],
   "source": [
    "f, ax = plt.subplots(1, 2, figsize=(9,4))\n",
    "draw_family_network_for_gene(\"RB1\", G, ax[0])\n",
    "draw_family_network_for_gene(\"STAG1\", G, ax[1])"
   ]
  },
  {
   "cell_type": "code",
   "execution_count": 37,
   "metadata": {},
   "outputs": [
    {
     "data": {
      "image/png": "[encoded data removed]",
      "text/plain": [
       "<Figure size 324x288 with 1 Axes>"
      ]
     },
     "metadata": {},
     "output_type": "display_data"
    }
   ],
   "source": [
    "f, ax = plt.subplots(1, 1, figsize=(4.5,4))\n",
    "draw_family_network_for_gene(\"TEKT1\", G, ax)"
   ]
  },
  {
   "cell_type": "code",
   "execution_count": null,
   "metadata": {},
   "outputs": [],
   "source": []
  }
 ],
 "metadata": {
  "kernelspec": {
   "display_name": "ParalogHDs",
   "language": "python",
   "name": "paraloghds"
  },
  "language_info": {
   "codemirror_mode": {
    "name": "ipython",
    "version": 3
   },
   "file_extension": ".py",
   "mimetype": "text/x-python",
   "name": "python",
   "nbconvert_exporter": "python",
   "pygments_lexer": "ipython3",
   "version": "3.7.13"
  }
 },
 "nbformat": 4,
 "nbformat_minor": 2
}
