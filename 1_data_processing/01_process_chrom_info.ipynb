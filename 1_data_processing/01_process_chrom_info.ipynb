{
 "cells": [
  {
   "cell_type": "markdown",
   "id": "2f16b9a7",
   "metadata": {},
   "source": [
    "## Get coordinates of fragile sites, centromeres and telomeres\n",
    "- Telomeres are all 10,000 bp (0.01 Mb) long\n",
    "- Centromeres are all 3,000,000 bp (3Mb) long"
   ]
  },
  {
   "cell_type": "code",
   "execution_count": 1,
   "id": "ed15eaad",
   "metadata": {},
   "outputs": [],
   "source": [
    "import numpy as np\n",
    "import pandas as pd\n",
    "import scipy.stats as stats\n",
    "import os\n",
    "\n",
    "get_data_path = lambda folders, fname: os.path.normpath(os.environ['THIRD_PARTY_DIR']+'/'+'/'.join(folders)+'/'+fname)\n",
    "get_local_data_path = lambda folders, fname: os.path.normpath('../local_data/' +'/'.join(folders) +'/'+ fname)\n",
    "\n",
    "file_pcawg_fsites = get_data_path(['PCAWG'], 'major_fragile_sites.txt')\n",
    "file_genome_gaps = get_data_path(['UCSC_genome'], 'hg19_gaps.txt')\n",
    "file_chr_sizes = get_data_path(['UCSC_genome'], 'hg19.chrom.sizes.txt')\n",
    "\n",
    "# Output\n",
    "file_chrom_info = get_local_data_path(['processed'], 'hg19_chrom_info.csv')\n",
    "file_fragsites = get_local_data_path(['processed'], 'hg19_fragile_sites.csv')"
   ]
  },
  {
   "cell_type": "markdown",
   "id": "0d97b137",
   "metadata": {},
   "source": [
    "### Fragile sites"
   ]
  },
  {
   "cell_type": "code",
   "execution_count": 2,
   "id": "fbc7cf80",
   "metadata": {},
   "outputs": [
    {
     "name": "stdout",
     "output_type": "stream",
     "text": [
      "N major fragile sites in PCAWG (non-X): 15\n"
     ]
    }
   ],
   "source": [
    "pcawg_fragsites = pd.read_csv(file_pcawg_fsites, sep=' ')\n",
    "pcawg_fragsites = pcawg_fragsites[pcawg_fragsites.chrom!='chrX'].assign(chrom = lambda x: x.chrom.apply(lambda c: int(c[3:])))\n",
    "# Update PARK2 symbol to PRKN (manually checked this in HGNC)\n",
    "pcawg_fragsites = pcawg_fragsites.rename(columns={'start':'startpos','end':'endpos','chrom':'chr'}).replace({'PARK2':'PRKN'})\n",
    "print('N major fragile sites in PCAWG (non-X):', pcawg_fragsites.shape[0])\n",
    "pcawg_fragsites.to_csv(file_fragsites, index=0)"
   ]
  },
  {
   "cell_type": "code",
   "execution_count": 3,
   "id": "a1fb3548",
   "metadata": {},
   "outputs": [
    {
     "data": {
      "text/html": [
       "<div>\n",
       "<style scoped>\n",
       "    .dataframe tbody tr th:only-of-type {\n",
       "        vertical-align: middle;\n",
       "    }\n",
       "\n",
       "    .dataframe tbody tr th {\n",
       "        vertical-align: top;\n",
       "    }\n",
       "\n",
       "    .dataframe thead th {\n",
       "        text-align: right;\n",
       "    }\n",
       "</style>\n",
       "<table border=\"1\" class=\"dataframe\">\n",
       "  <thead>\n",
       "    <tr style=\"text-align: right;\">\n",
       "      <th></th>\n",
       "      <th>chr</th>\n",
       "      <th>startpos</th>\n",
       "      <th>endpos</th>\n",
       "      <th>width</th>\n",
       "      <th>gene_name</th>\n",
       "      <th>CFS_name</th>\n",
       "    </tr>\n",
       "  </thead>\n",
       "  <tbody>\n",
       "    <tr>\n",
       "      <th>0</th>\n",
       "      <td>1</td>\n",
       "      <td>71800000</td>\n",
       "      <td>72800000</td>\n",
       "      <td>1000001</td>\n",
       "      <td>NEGR1</td>\n",
       "      <td>FRA1L</td>\n",
       "    </tr>\n",
       "    <tr>\n",
       "      <th>1</th>\n",
       "      <td>1</td>\n",
       "      <td>245800000</td>\n",
       "      <td>246800000</td>\n",
       "      <td>1000001</td>\n",
       "      <td>SMYD3</td>\n",
       "      <td>FRA1I</td>\n",
       "    </tr>\n",
       "    <tr>\n",
       "      <th>2</th>\n",
       "      <td>2</td>\n",
       "      <td>140900000</td>\n",
       "      <td>143000000</td>\n",
       "      <td>2100001</td>\n",
       "      <td>LRP1B</td>\n",
       "      <td>FRA2F</td>\n",
       "    </tr>\n",
       "    <tr>\n",
       "      <th>3</th>\n",
       "      <td>2</td>\n",
       "      <td>205300000</td>\n",
       "      <td>206600000</td>\n",
       "      <td>1300001</td>\n",
       "      <td>PARD3B</td>\n",
       "      <td>FRA2I</td>\n",
       "    </tr>\n",
       "    <tr>\n",
       "      <th>4</th>\n",
       "      <td>3</td>\n",
       "      <td>59600000</td>\n",
       "      <td>61300000</td>\n",
       "      <td>1700001</td>\n",
       "      <td>FHIT</td>\n",
       "      <td>FRA3B</td>\n",
       "    </tr>\n",
       "    <tr>\n",
       "      <th>5</th>\n",
       "      <td>3</td>\n",
       "      <td>115400000</td>\n",
       "      <td>117800000</td>\n",
       "      <td>2400001</td>\n",
       "      <td>LSAMP</td>\n",
       "      <td>FRA3L</td>\n",
       "    </tr>\n",
       "    <tr>\n",
       "      <th>6</th>\n",
       "      <td>3</td>\n",
       "      <td>174100000</td>\n",
       "      <td>175600000</td>\n",
       "      <td>1500001</td>\n",
       "      <td>NAALADL2</td>\n",
       "      <td>FRA3O</td>\n",
       "    </tr>\n",
       "    <tr>\n",
       "      <th>7</th>\n",
       "      <td>4</td>\n",
       "      <td>90900000</td>\n",
       "      <td>92600000</td>\n",
       "      <td>1700001</td>\n",
       "      <td>CCSER1</td>\n",
       "      <td>FRA4F</td>\n",
       "    </tr>\n",
       "    <tr>\n",
       "      <th>8</th>\n",
       "      <td>5</td>\n",
       "      <td>58200000</td>\n",
       "      <td>59900000</td>\n",
       "      <td>1700001</td>\n",
       "      <td>PDE4D</td>\n",
       "      <td>FRA5H</td>\n",
       "    </tr>\n",
       "    <tr>\n",
       "      <th>9</th>\n",
       "      <td>6</td>\n",
       "      <td>161700000</td>\n",
       "      <td>163200000</td>\n",
       "      <td>1500001</td>\n",
       "      <td>PRKN</td>\n",
       "      <td>FRA6E</td>\n",
       "    </tr>\n",
       "    <tr>\n",
       "      <th>10</th>\n",
       "      <td>7</td>\n",
       "      <td>69000000</td>\n",
       "      <td>70400000</td>\n",
       "      <td>1400001</td>\n",
       "      <td>AUTS2</td>\n",
       "      <td>FRA7J</td>\n",
       "    </tr>\n",
       "    <tr>\n",
       "      <th>11</th>\n",
       "      <td>7</td>\n",
       "      <td>110200000</td>\n",
       "      <td>111300000</td>\n",
       "      <td>1100001</td>\n",
       "      <td>IMMP2L</td>\n",
       "      <td>FRA7K</td>\n",
       "    </tr>\n",
       "    <tr>\n",
       "      <th>12</th>\n",
       "      <td>10</td>\n",
       "      <td>52700000</td>\n",
       "      <td>54200000</td>\n",
       "      <td>1500001</td>\n",
       "      <td>PRKG1</td>\n",
       "      <td>FRA10G;FRA10C</td>\n",
       "    </tr>\n",
       "    <tr>\n",
       "      <th>13</th>\n",
       "      <td>16</td>\n",
       "      <td>78000000</td>\n",
       "      <td>79300000</td>\n",
       "      <td>1300001</td>\n",
       "      <td>WWOX</td>\n",
       "      <td>FRA16D</td>\n",
       "    </tr>\n",
       "    <tr>\n",
       "      <th>14</th>\n",
       "      <td>20</td>\n",
       "      <td>13900000</td>\n",
       "      <td>16100000</td>\n",
       "      <td>2200001</td>\n",
       "      <td>MACROD2</td>\n",
       "      <td>FRA20B</td>\n",
       "    </tr>\n",
       "  </tbody>\n",
       "</table>\n",
       "</div>"
      ],
      "text/plain": [
       "    chr   startpos     endpos    width gene_name       CFS_name\n",
       "0     1   71800000   72800000  1000001     NEGR1          FRA1L\n",
       "1     1  245800000  246800000  1000001     SMYD3          FRA1I\n",
       "2     2  140900000  143000000  2100001     LRP1B          FRA2F\n",
       "3     2  205300000  206600000  1300001    PARD3B          FRA2I\n",
       "4     3   59600000   61300000  1700001      FHIT          FRA3B\n",
       "5     3  115400000  117800000  2400001     LSAMP          FRA3L\n",
       "6     3  174100000  175600000  1500001  NAALADL2          FRA3O\n",
       "7     4   90900000   92600000  1700001    CCSER1          FRA4F\n",
       "8     5   58200000   59900000  1700001     PDE4D          FRA5H\n",
       "9     6  161700000  163200000  1500001      PRKN          FRA6E\n",
       "10    7   69000000   70400000  1400001     AUTS2          FRA7J\n",
       "11    7  110200000  111300000  1100001    IMMP2L          FRA7K\n",
       "12   10   52700000   54200000  1500001     PRKG1  FRA10G;FRA10C\n",
       "13   16   78000000   79300000  1300001      WWOX         FRA16D\n",
       "14   20   13900000   16100000  2200001   MACROD2         FRA20B"
      ]
     },
     "execution_count": 3,
     "metadata": {},
     "output_type": "execute_result"
    }
   ],
   "source": [
    "pcawg_fragsites"
   ]
  },
  {
   "cell_type": "markdown",
   "id": "9f019fc8",
   "metadata": {},
   "source": [
    "### Centromeres + telomeres"
   ]
  },
  {
   "cell_type": "code",
   "execution_count": 4,
   "id": "7dcdef45",
   "metadata": {},
   "outputs": [],
   "source": [
    "genome_gaps = pd.read_csv(file_genome_gaps, sep='\\t')[['chrom','chromStart','chromEnd','type']]\n",
    "genome_gaps = genome_gaps[genome_gaps.type.isin(['telomere','centromere'])]\n",
    "genome_gaps['chrom'] = genome_gaps['chrom'].apply(lambda x: x[3:])\n",
    "centromeres = genome_gaps[genome_gaps.type=='centromere'].reset_index(drop=True)\n",
    "telomeres = genome_gaps[genome_gaps.type=='telomere'].reset_index(drop=True)"
   ]
  },
  {
   "cell_type": "code",
   "execution_count": 5,
   "id": "cce239d1",
   "metadata": {},
   "outputs": [
    {
     "data": {
      "text/html": [
       "<div>\n",
       "<style scoped>\n",
       "    .dataframe tbody tr th:only-of-type {\n",
       "        vertical-align: middle;\n",
       "    }\n",
       "\n",
       "    .dataframe tbody tr th {\n",
       "        vertical-align: top;\n",
       "    }\n",
       "\n",
       "    .dataframe thead th {\n",
       "        text-align: right;\n",
       "    }\n",
       "</style>\n",
       "<table border=\"1\" class=\"dataframe\">\n",
       "  <thead>\n",
       "    <tr style=\"text-align: right;\">\n",
       "      <th></th>\n",
       "      <th>chrom</th>\n",
       "      <th>chromStart</th>\n",
       "      <th>chromEnd</th>\n",
       "      <th>type</th>\n",
       "    </tr>\n",
       "  </thead>\n",
       "  <tbody>\n",
       "    <tr>\n",
       "      <th>0</th>\n",
       "      <td>1</td>\n",
       "      <td>121535434</td>\n",
       "      <td>124535434</td>\n",
       "      <td>centromere</td>\n",
       "    </tr>\n",
       "  </tbody>\n",
       "</table>\n",
       "</div>"
      ],
      "text/plain": [
       "  chrom  chromStart   chromEnd        type\n",
       "0     1   121535434  124535434  centromere"
      ]
     },
     "execution_count": 5,
     "metadata": {},
     "output_type": "execute_result"
    }
   ],
   "source": [
    "centromeres[:1]"
   ]
  },
  {
   "cell_type": "code",
   "execution_count": 6,
   "id": "97e26d2c",
   "metadata": {},
   "outputs": [],
   "source": [
    "chr_sizes = pd.read_csv(file_chr_sizes, sep='\\t', nrows=24, names=['chrom','size'])\n",
    "chr_sizes['chrom'] = chr_sizes['chrom'].apply(lambda x: x[3:])"
   ]
  },
  {
   "cell_type": "code",
   "execution_count": 7,
   "id": "1e91c26b",
   "metadata": {},
   "outputs": [],
   "source": [
    "assert(pd.merge(chr_sizes, telomeres.rename(columns={'chromEnd':'size'})).shape[0]==23) # chr 17 missing from telomeres"
   ]
  },
  {
   "cell_type": "code",
   "execution_count": 8,
   "id": "e020bfae",
   "metadata": {},
   "outputs": [
    {
     "data": {
      "text/html": [
       "<div>\n",
       "<style scoped>\n",
       "    .dataframe tbody tr th:only-of-type {\n",
       "        vertical-align: middle;\n",
       "    }\n",
       "\n",
       "    .dataframe tbody tr th {\n",
       "        vertical-align: top;\n",
       "    }\n",
       "\n",
       "    .dataframe thead th {\n",
       "        text-align: right;\n",
       "    }\n",
       "</style>\n",
       "<table border=\"1\" class=\"dataframe\">\n",
       "  <thead>\n",
       "    <tr style=\"text-align: right;\">\n",
       "      <th></th>\n",
       "      <th>centStart</th>\n",
       "      <th>centEnd</th>\n",
       "      <th>size</th>\n",
       "    </tr>\n",
       "    <tr>\n",
       "      <th>chr</th>\n",
       "      <th></th>\n",
       "      <th></th>\n",
       "      <th></th>\n",
       "    </tr>\n",
       "  </thead>\n",
       "  <tbody>\n",
       "    <tr>\n",
       "      <th>1</th>\n",
       "      <td>121535434</td>\n",
       "      <td>124535434</td>\n",
       "      <td>249250621</td>\n",
       "    </tr>\n",
       "    <tr>\n",
       "      <th>2</th>\n",
       "      <td>92326171</td>\n",
       "      <td>95326171</td>\n",
       "      <td>243199373</td>\n",
       "    </tr>\n",
       "  </tbody>\n",
       "</table>\n",
       "</div>"
      ],
      "text/plain": [
       "     centStart    centEnd       size\n",
       "chr                                 \n",
       "1    121535434  124535434  249250621\n",
       "2     92326171   95326171  243199373"
      ]
     },
     "execution_count": 8,
     "metadata": {},
     "output_type": "execute_result"
    }
   ],
   "source": [
    "chrom_info = pd.merge(centromeres, chr_sizes).rename(columns={'chromStart':'centStart','chromEnd':'centEnd','chrom':'chr'})\n",
    "chrom_info = chrom_info.drop(columns=['type']).set_index('chr')\n",
    "chrom_info[:2]"
   ]
  },
  {
   "cell_type": "code",
   "execution_count": 9,
   "id": "4cdf390f",
   "metadata": {},
   "outputs": [],
   "source": [
    "chrom_info.to_csv(file_chrom_info)"
   ]
  }
 ],
 "metadata": {
  "kernelspec": {
   "display_name": "ParalogHDs",
   "language": "python",
   "name": "paraloghds"
  },
  "language_info": {
   "codemirror_mode": {
    "name": "ipython",
    "version": 3
   },
   "file_extension": ".py",
   "mimetype": "text/x-python",
   "name": "python",
   "nbconvert_exporter": "python",
   "pygments_lexer": "ipython3",
   "version": "3.7.13"
  }
 },
 "nbformat": 4,
 "nbformat_minor": 5
}
