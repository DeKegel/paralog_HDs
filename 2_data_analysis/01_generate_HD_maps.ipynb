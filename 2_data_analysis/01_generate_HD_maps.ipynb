{
 "cells": [
  {
   "cell_type": "markdown",
   "metadata": {},
   "source": [
    "## Generate HD maps\n",
    "Identify all genes that are fully within each HD segment."
   ]
  },
  {
   "cell_type": "code",
   "execution_count": 17,
   "metadata": {},
   "outputs": [
    {
     "name": "stdout",
     "output_type": "stream",
     "text": [
      "The autoreload extension is already loaded. To reload it, use:\n",
      "  %reload_ext autoreload\n"
     ]
    }
   ],
   "source": [
    "import pandas as pd\n",
    "import os\n",
    "import numpy as np\n",
    "import scipy.stats as stats\n",
    "import seaborn as sns\n",
    "import matplotlib.pyplot as plt\n",
    "import itertools\n",
    "import re\n",
    "import sys\n",
    "sys.path.append(\"../1_data_processing\")\n",
    "import warnings\n",
    "warnings.simplefilter(\"ignore\")\n",
    "\n",
    "import graphing_params as gp\n",
    "import processing_utils as util\n",
    "%load_ext autoreload\n",
    "%autoreload 1\n",
    "%aimport graphing_params\n",
    "%aimport processing_utils\n",
    "\n",
    "get_data_path = lambda folders, fname: os.path.normpath(os.environ['THIRD_PARTY_DIR']+'/'+'/'.join(folders) +'/'+fname)\n",
    "get_local_data_path = lambda folders, fname: os.path.normpath('../local_data/' +'/'.join(folders) +'/'+ fname)\n",
    "\n",
    "file_genes = get_local_data_path(['processed'], 'HGNC_gene_annot_ens93_hg19.csv')\n",
    "\n",
    "file_ascat_summary = get_data_path(['TCGA','ASCATv3_SNP6_hg19'],'summary.ascatv3TCGA.penalty70.hg19.tsv')\n",
    "file_ascat_homdels = get_local_data_path(['processed','TCGA','ASCAT'], 'homdels.csv')\n",
    "file_ascat_segment_bounds = get_local_data_path(['processed','TCGA','ASCAT'], 'segment_boundaries.csv')\n",
    "\n",
    "file_pcawg_samples = get_data_path(['PCAWG'], 'pcawg_donors_tableS1.xlsx')\n",
    "file_pcawg_icgc_homdels = get_local_data_path(['processed','ICGC'], 'homdels.csv')\n",
    "\n",
    "\n",
    "# Output\n",
    "folder_hd_maps = lambda fname: get_local_data_path(['processed','HD_maps'], fname)\n",
    "file_tcga_outliers = get_local_data_path(['processed','TCGA','ASCAT'], 'outlier_samples.csv')\n",
    "file_icgc_outliers = get_local_data_path(['processed','ICGC'], 'outlier_samples.csv')\n",
    "\n",
    "file_table_s1 = get_local_data_path(['tables'], 'Table_S1_TCGA_HD_matrix.csv')\n",
    "file_table_s2 = get_local_data_path(['tables'], 'Table_S2_ICGC_HD_matrix.csv')"
   ]
  },
  {
   "cell_type": "markdown",
   "metadata": {},
   "source": [
    "### Load genes w/ annotations "
   ]
  },
  {
   "cell_type": "code",
   "execution_count": 2,
   "metadata": {},
   "outputs": [
    {
     "name": "stdout",
     "output_type": "stream",
     "text": [
      "N genes: 17572  --- passenger: 16898\n"
     ]
    }
   ],
   "source": [
    "genes = pd.read_csv(file_genes)\n",
    "passenger_genes = genes[~genes.TSG & ~genes.OG & ~genes.within_driver & ~genes.outside_bounds]\n",
    "print('N genes:', genes.shape[0], ' --- passenger:', passenger_genes.shape[0])"
   ]
  },
  {
   "cell_type": "markdown",
   "metadata": {},
   "source": [
    "### TCGA HDs"
   ]
  },
  {
   "cell_type": "code",
   "execution_count": 3,
   "metadata": {},
   "outputs": [
    {
     "name": "stdout",
     "output_type": "stream",
     "text": [
      "N TCGA samples: 9966\n"
     ]
    }
   ],
   "source": [
    "ascat_summary_all = pd.read_csv(file_ascat_summary, sep='\\t')\n",
    "ascat_summary = ascat_summary_all[(ascat_summary_all['QC']=='Pass')]\n",
    "print('N TCGA samples:', ascat_summary.patient.nunique())"
   ]
  },
  {
   "cell_type": "code",
   "execution_count": 4,
   "metadata": {},
   "outputs": [
    {
     "data": {
      "text/html": [
       "<div>\n",
       "<style scoped>\n",
       "    .dataframe tbody tr th:only-of-type {\n",
       "        vertical-align: middle;\n",
       "    }\n",
       "\n",
       "    .dataframe tbody tr th {\n",
       "        vertical-align: top;\n",
       "    }\n",
       "\n",
       "    .dataframe thead th {\n",
       "        text-align: right;\n",
       "    }\n",
       "</style>\n",
       "<table border=\"1\" class=\"dataframe\">\n",
       "  <thead>\n",
       "    <tr style=\"text-align: right;\">\n",
       "      <th></th>\n",
       "      <th>name</th>\n",
       "      <th>patient</th>\n",
       "      <th>cancer_type</th>\n",
       "      <th>sex</th>\n",
       "      <th>barcodeTumour</th>\n",
       "      <th>barcodeNormal</th>\n",
       "      <th>tumour_mapd</th>\n",
       "      <th>normal_mapd</th>\n",
       "      <th>GC_correction_before</th>\n",
       "      <th>GC_correction_after</th>\n",
       "      <th>...</th>\n",
       "      <th>homdel_segs</th>\n",
       "      <th>homdel_largest</th>\n",
       "      <th>homdel_size</th>\n",
       "      <th>homdel_fraction</th>\n",
       "      <th>LOH</th>\n",
       "      <th>mode_minA</th>\n",
       "      <th>mode_majA</th>\n",
       "      <th>WGD</th>\n",
       "      <th>GI</th>\n",
       "      <th>QC</th>\n",
       "    </tr>\n",
       "  </thead>\n",
       "  <tbody>\n",
       "    <tr>\n",
       "      <th>0</th>\n",
       "      <td>TCGA-02-0001</td>\n",
       "      <td>TCGA-02-0001</td>\n",
       "      <td>GBM</td>\n",
       "      <td>XX</td>\n",
       "      <td>TCGA-02-0001-01C-01D-0182-01</td>\n",
       "      <td>TCGA-02-0001-10A-01D-0182-01</td>\n",
       "      <td>0.2828</td>\n",
       "      <td>0.2716</td>\n",
       "      <td>50bp=0.1387 / 5kb=0.12</td>\n",
       "      <td>50bp=0 / 5kb=0</td>\n",
       "      <td>...</td>\n",
       "      <td>1</td>\n",
       "      <td>351838</td>\n",
       "      <td>351838</td>\n",
       "      <td>0.00012</td>\n",
       "      <td>0.2042</td>\n",
       "      <td>1</td>\n",
       "      <td>1</td>\n",
       "      <td>0</td>\n",
       "      <td>0.6196</td>\n",
       "      <td>Pass</td>\n",
       "    </tr>\n",
       "  </tbody>\n",
       "</table>\n",
       "<p>1 rows × 33 columns</p>\n",
       "</div>"
      ],
      "text/plain": [
       "           name       patient cancer_type sex                 barcodeTumour  \\\n",
       "0  TCGA-02-0001  TCGA-02-0001         GBM  XX  TCGA-02-0001-01C-01D-0182-01   \n",
       "\n",
       "                  barcodeNormal  tumour_mapd  normal_mapd  \\\n",
       "0  TCGA-02-0001-10A-01D-0182-01       0.2828       0.2716   \n",
       "\n",
       "     GC_correction_before GC_correction_after  ... homdel_segs homdel_largest  \\\n",
       "0  50bp=0.1387 / 5kb=0.12      50bp=0 / 5kb=0  ...           1         351838   \n",
       "\n",
       "   homdel_size  homdel_fraction     LOH  mode_minA  mode_majA  WGD      GI  \\\n",
       "0       351838          0.00012  0.2042          1          1    0  0.6196   \n",
       "\n",
       "     QC  \n",
       "0  Pass  \n",
       "\n",
       "[1 rows x 33 columns]"
      ]
     },
     "execution_count": 4,
     "metadata": {},
     "output_type": "execute_result"
    }
   ],
   "source": [
    "ascat_summary[:1]"
   ]
  },
  {
   "cell_type": "code",
   "execution_count": 5,
   "metadata": {},
   "outputs": [],
   "source": [
    "tcga_hds = pd.read_csv(file_ascat_homdels)\n",
    "tcga_hds = tcga_hds[~tcga_hds['chr'].isin(['X','Y'])].astype({'chr':int}) # Drop X,Y chr segments\n",
    "tcga_hds = pd.merge(tcga_hds, ascat_summary[['barcodeTumour','cancer_type','ploidy','purity','WGD']])"
   ]
  },
  {
   "cell_type": "code",
   "execution_count": 6,
   "metadata": {},
   "outputs": [
    {
     "name": "stdout",
     "output_type": "stream",
     "text": [
      "Samples w/ HDs: 4252 = 42.67%\n",
      "N HDs: 11831\n"
     ]
    }
   ],
   "source": [
    "print('Samples w/ HDs: %d = %.2f%%' % (tcga_hds.patient.nunique(), tcga_hds.patient.nunique()/ascat_summary.shape[0]*100))\n",
    "print('N HDs:', tcga_hds.shape[0])"
   ]
  },
  {
   "cell_type": "code",
   "execution_count": 7,
   "metadata": {},
   "outputs": [
    {
     "data": {
      "text/html": [
       "<div>\n",
       "<style scoped>\n",
       "    .dataframe tbody tr th:only-of-type {\n",
       "        vertical-align: middle;\n",
       "    }\n",
       "\n",
       "    .dataframe tbody tr th {\n",
       "        vertical-align: top;\n",
       "    }\n",
       "\n",
       "    .dataframe thead th {\n",
       "        text-align: right;\n",
       "    }\n",
       "</style>\n",
       "<table border=\"1\" class=\"dataframe\">\n",
       "  <thead>\n",
       "    <tr style=\"text-align: right;\">\n",
       "      <th></th>\n",
       "      <th>name</th>\n",
       "      <th>patient</th>\n",
       "      <th>cancer_type</th>\n",
       "      <th>barcodeTumour</th>\n",
       "      <th>chr</th>\n",
       "      <th>startpos</th>\n",
       "      <th>endpos</th>\n",
       "      <th>del_len</th>\n",
       "      <th>ploidy</th>\n",
       "      <th>purity</th>\n",
       "      <th>WGD</th>\n",
       "    </tr>\n",
       "  </thead>\n",
       "  <tbody>\n",
       "    <tr>\n",
       "      <th>0</th>\n",
       "      <td>TCGA-02-0001</td>\n",
       "      <td>TCGA-02-0001</td>\n",
       "      <td>GBM</td>\n",
       "      <td>TCGA-02-0001-01C-01D-0182-01</td>\n",
       "      <td>9</td>\n",
       "      <td>21907786</td>\n",
       "      <td>22259623</td>\n",
       "      <td>351837</td>\n",
       "      <td>2.3329</td>\n",
       "      <td>0.58</td>\n",
       "      <td>0</td>\n",
       "    </tr>\n",
       "  </tbody>\n",
       "</table>\n",
       "</div>"
      ],
      "text/plain": [
       "           name       patient cancer_type                 barcodeTumour  chr  \\\n",
       "0  TCGA-02-0001  TCGA-02-0001         GBM  TCGA-02-0001-01C-01D-0182-01    9   \n",
       "\n",
       "   startpos    endpos  del_len  ploidy  purity WGD  \n",
       "0  21907786  22259623   351837  2.3329    0.58   0  "
      ]
     },
     "execution_count": 7,
     "metadata": {},
     "output_type": "execute_result"
    }
   ],
   "source": [
    "tcga_hds[:1]"
   ]
  },
  {
   "cell_type": "code",
   "execution_count": 8,
   "metadata": {},
   "outputs": [
    {
     "data": {
      "image/png": "[encoded data removed]",
      "text/plain": [
       "<Figure size 470x160 with 2 Axes>"
      ]
     },
     "metadata": {},
     "output_type": "display_data"
    }
   ],
   "source": [
    "f, ax = plt.subplots(1, 2, figsize=(4.7,1.6))\n",
    "sns.histplot(tcga_hds.drop_duplicates(subset=['patient']).ploidy, ax=ax[0], color='#58a1cf')\n",
    "sns.histplot(tcga_hds.drop_duplicates(subset=['patient']).purity, ax=ax[1], color='#58a1cf')\n",
    "ax[0].set_xlabel('Ploidy'); ax[1].set_xlabel('Purity');\n",
    "plt.tight_layout()"
   ]
  },
  {
   "cell_type": "markdown",
   "metadata": {},
   "source": [
    "#### Map genes to segments"
   ]
  },
  {
   "cell_type": "code",
   "execution_count": 9,
   "metadata": {},
   "outputs": [],
   "source": [
    "tcga_hd_map = util.map_segments_to_genes(tcga_hds, genes[~genes.outside_bounds], overlap_func=util.map_segment_full)"
   ]
  },
  {
   "cell_type": "code",
   "execution_count": 10,
   "metadata": {},
   "outputs": [],
   "source": [
    "tcga_hd_map_partial = util.map_segments_to_genes(tcga_hds, genes[~genes.outside_bounds], overlap_func=util.map_segment_partial)"
   ]
  },
  {
   "cell_type": "markdown",
   "metadata": {},
   "source": [
    "#### HDs per sample"
   ]
  },
  {
   "cell_type": "code",
   "execution_count": 11,
   "metadata": {},
   "outputs": [
    {
     "name": "stdout",
     "output_type": "stream",
     "text": [
      "N samples w/ 1+ deleted gene: 2795\n"
     ]
    }
   ],
   "source": [
    "tcga_del_per_sample = util.count_dels_per_sample(tcga_hd_map, 'patient')\n",
    "tcga_del_per_sample = pd.merge(tcga_del_per_sample, ascat_summary[['cancer_type','patient','WGD','ploidy']])\n",
    "print('N samples w/ 1+ deleted gene:', tcga_del_per_sample[tcga_del_per_sample.n_genes>0].shape[0])"
   ]
  },
  {
   "cell_type": "markdown",
   "metadata": {},
   "source": [
    "#### Detecting outliers --- samples with extreme genomic instability"
   ]
  },
  {
   "cell_type": "code",
   "execution_count": 12,
   "metadata": {},
   "outputs": [
    {
     "name": "stdout",
     "output_type": "stream",
     "text": [
      "Max deleted genes per sample: 289\n",
      "Median genes deleted per sample: 2.0\n",
      "Mean deleted genes per sample: 7.963546566321731\n"
     ]
    }
   ],
   "source": [
    "print('Max deleted genes per sample:', tcga_del_per_sample.n_genes.max())\n",
    "print('Median genes deleted per sample:', tcga_del_per_sample.n_genes.median())\n",
    "print('Mean deleted genes per sample:', tcga_del_per_sample.n_genes.mean())"
   ]
  },
  {
   "cell_type": "code",
   "execution_count": 13,
   "metadata": {},
   "outputs": [
    {
     "name": "stdout",
     "output_type": "stream",
     "text": [
      "N w/ >100 HD genes: 15\n"
     ]
    }
   ],
   "source": [
    "tcga_outliers = tcga_del_per_sample[(tcga_del_per_sample.n_genes>100)]['patient'].reset_index(drop=True)\n",
    "print('N w/ >100 HD genes:', tcga_outliers.shape[0])\n",
    "tcga_outliers.to_csv(file_tcga_outliers, index=0)"
   ]
  },
  {
   "cell_type": "code",
   "execution_count": 14,
   "metadata": {},
   "outputs": [
    {
     "data": {
      "image/png": "[encoded data removed]",
      "text/plain": [
       "<Figure size 270x160 with 1 Axes>"
      ]
     },
     "metadata": {},
     "output_type": "display_data"
    }
   ],
   "source": [
    "f, ax = plt.subplots(1, 1, figsize=(2.7, 1.6))\n",
    "c = gp.get_color('blue')\n",
    "df = tcga_del_per_sample[tcga_del_per_sample.n_genes>0]\n",
    "sns.kdeplot(df.n_genes.clip(upper=300), ax=ax, color=c, fill=True, lw=0, alpha=.8)\n",
    "sns.rugplot(df.n_genes, ax=ax, color=c, height=0.1, alpha=.3)\n",
    "ax.axvline(100, color='#666', linestyle='--'); ax.axvspan(100,300, color='#f6f6f6', zorder=-10)\n",
    "ax.set_ylim([-0.01,0.06]); ax.set_xlim([0,300]);\n",
    "gp.set_axis_props(ax, xlabel='N. HD genes per sample', show_yticklabels=True, ytick_fontsize=7); plt.tight_layout()\n",
    "ax.text(200, 0.04, \"15 outlier\\nsamples\", ha='center', va='center', color='#666')\n",
    "plt.savefig('../figures/tcga_samples.png', bbox_inches='tight', dpi=500)"
   ]
  },
  {
   "cell_type": "markdown",
   "metadata": {},
   "source": [
    "#### Save filtered HD maps"
   ]
  },
  {
   "cell_type": "code",
   "execution_count": 15,
   "metadata": {},
   "outputs": [
    {
     "name": "stdout",
     "output_type": "stream",
     "text": [
      "N HDs: 11641\n"
     ]
    }
   ],
   "source": [
    "tcga_hd_map_final = tcga_hd_map[~tcga_hd_map.patient.isin(tcga_outliers) & (tcga_hd_map.del_len>0)].reset_index(drop=True)\n",
    "print('N HDs:', tcga_hd_map_final.shape[0])\n",
    "util.serialize_map(tcga_hd_map_final, folder_hd_maps(\"tcga_hd_map.csv\"))"
   ]
  },
  {
   "cell_type": "code",
   "execution_count": 16,
   "metadata": {},
   "outputs": [
    {
     "name": "stdout",
     "output_type": "stream",
     "text": [
      "N HDs: 11641\n"
     ]
    }
   ],
   "source": [
    "tcga_hd_map_partial_final = tcga_hd_map_partial[~tcga_hd_map_partial.patient.isin(tcga_outliers) & \n",
    "                                                (tcga_hd_map_partial.del_len>0)].reset_index(drop=True)\n",
    "print('N HDs:', tcga_hd_map_partial_final.shape[0])\n",
    "util.serialize_map(tcga_hd_map_partial_final, folder_hd_maps(\"tcga_part_hd_map.csv\"))"
   ]
  },
  {
   "cell_type": "markdown",
   "metadata": {},
   "source": [
    "#### Other graphs"
   ]
  },
  {
   "cell_type": "code",
   "execution_count": 17,
   "metadata": {},
   "outputs": [
    {
     "data": {
      "image/png": "[encoded data removed]",
      "text/plain": [
       "<Figure size 600x230 with 1 Axes>"
      ]
     },
     "metadata": {},
     "output_type": "display_data"
    }
   ],
   "source": [
    "f, ax = plt.subplots(1, 1, figsize=(6, 2.3))\n",
    "df = tcga_del_per_sample[(tcga_del_per_sample.n_genes>0) & (tcga_del_per_sample.n_genes<=100)]\n",
    "med = df.groupby('cancer_type').n_genes.median().sort_values()\n",
    "sns.boxplot(data=df.assign(cancer_type=pd.Categorical(df.cancer_type, categories=med.index)), \n",
    "            x='cancer_type', y='n_genes', ax=ax, color='w', **gp.get_boxplot_props())\n",
    "plt.xticks(rotation=90); ax.set_xlabel('Cancer type'); _=ax.set_ylabel('N. HD genes per sample')"
   ]
  },
  {
   "cell_type": "code",
   "execution_count": 18,
   "metadata": {},
   "outputs": [
    {
     "data": {
      "image/png": "[encoded data removed]",
      "text/plain": [
       "<Figure size 240x130 with 1 Axes>"
      ]
     },
     "metadata": {},
     "output_type": "display_data"
    }
   ],
   "source": [
    "# More deletions for metastatic samples?\n",
    "f, ax = plt.subplots(1, 1, figsize=(2.4, 1.3))\n",
    "sns.boxplot(data=tcga_del_per_sample, y='WGD', x='n_genes', showfliers=False, **gp.get_boxplot_props()); \n",
    "ax.set_ylabel('Tumor WGD'), ax.set_xlabel('N. HD genes per sample'); plt.tight_layout()"
   ]
  },
  {
   "cell_type": "markdown",
   "metadata": {},
   "source": [
    "### ICGC (PCAWG) HDs"
   ]
  },
  {
   "cell_type": "code",
   "execution_count": 18,
   "metadata": {
    "scrolled": true
   },
   "outputs": [
    {
     "name": "stdout",
     "output_type": "stream",
     "text": [
      "N PCAWG ICGC samples: 1782\n"
     ]
    },
    {
     "data": {
      "text/html": [
       "<div>\n",
       "<style scoped>\n",
       "    .dataframe tbody tr th:only-of-type {\n",
       "        vertical-align: middle;\n",
       "    }\n",
       "\n",
       "    .dataframe tbody tr th {\n",
       "        vertical-align: top;\n",
       "    }\n",
       "\n",
       "    .dataframe thead th {\n",
       "        text-align: right;\n",
       "    }\n",
       "</style>\n",
       "<table border=\"1\" class=\"dataframe\">\n",
       "  <thead>\n",
       "    <tr style=\"text-align: right;\">\n",
       "      <th></th>\n",
       "      <th>tumour_specimen_aliquot_id</th>\n",
       "      <th>normal_specimen_aliquot_id</th>\n",
       "      <th>icgc_donor_id</th>\n",
       "      <th>icgc_sample_id</th>\n",
       "      <th>icgc_specimen_id</th>\n",
       "      <th>dcc_specimen_type</th>\n",
       "      <th>project_code</th>\n",
       "      <th>gender</th>\n",
       "      <th>age</th>\n",
       "      <th>organ_system</th>\n",
       "      <th>...</th>\n",
       "      <th>specimen_donor_treatment_type</th>\n",
       "      <th>donor_wgs_included_excluded</th>\n",
       "      <th>specimen_library_strategy</th>\n",
       "      <th>gain_count</th>\n",
       "      <th>loss_count</th>\n",
       "      <th>hd_count</th>\n",
       "      <th>wgd</th>\n",
       "      <th>all.SNVs</th>\n",
       "      <th>all.MNVs</th>\n",
       "      <th>all.Indels</th>\n",
       "    </tr>\n",
       "  </thead>\n",
       "  <tbody>\n",
       "    <tr>\n",
       "      <th>0</th>\n",
       "      <td>0009b464-b376-4fbc-8a56-da538269a02f</td>\n",
       "      <td>5ef2ed4d-464e-4a51-95e0-401d9ae7be86</td>\n",
       "      <td>DO46416</td>\n",
       "      <td>SA505245</td>\n",
       "      <td>SP101724</td>\n",
       "      <td>Recurrent tumour - other</td>\n",
       "      <td>OV-AU</td>\n",
       "      <td>female</td>\n",
       "      <td>54.0</td>\n",
       "      <td>OVARY</td>\n",
       "      <td>...</td>\n",
       "      <td>other therapy</td>\n",
       "      <td>Included</td>\n",
       "      <td>WGS</td>\n",
       "      <td>288</td>\n",
       "      <td>349</td>\n",
       "      <td>0</td>\n",
       "      <td>1</td>\n",
       "      <td>15273</td>\n",
       "      <td>225</td>\n",
       "      <td>670</td>\n",
       "    </tr>\n",
       "  </tbody>\n",
       "</table>\n",
       "<p>1 rows × 61 columns</p>\n",
       "</div>"
      ],
      "text/plain": [
       "             tumour_specimen_aliquot_id            normal_specimen_aliquot_id  \\\n",
       "0  0009b464-b376-4fbc-8a56-da538269a02f  5ef2ed4d-464e-4a51-95e0-401d9ae7be86   \n",
       "\n",
       "  icgc_donor_id icgc_sample_id icgc_specimen_id         dcc_specimen_type  \\\n",
       "0       DO46416       SA505245         SP101724  Recurrent tumour - other   \n",
       "\n",
       "  project_code  gender   age organ_system  ... specimen_donor_treatment_type  \\\n",
       "0        OV-AU  female  54.0        OVARY  ...                 other therapy   \n",
       "\n",
       "  donor_wgs_included_excluded specimen_library_strategy gain_count loss_count  \\\n",
       "0                    Included                       WGS        288        349   \n",
       "\n",
       "  hd_count wgd  all.SNVs  all.MNVs  all.Indels  \n",
       "0        0   1     15273       225         670  \n",
       "\n",
       "[1 rows x 61 columns]"
      ]
     },
     "execution_count": 18,
     "metadata": {},
     "output_type": "execute_result"
    }
   ],
   "source": [
    "sample_list = pd.read_excel(file_pcawg_samples, engine='openpyxl', skiprows=2)\n",
    "icgc_samples = sample_list[sample_list.tcga_donor_uuid.isna()].reset_index(drop=True)\n",
    "print('N PCAWG ICGC samples:', icgc_samples.shape[0])\n",
    "assert(icgc_samples[icgc_samples.duplicated(subset=['icgc_donor_id'], keep=False)].shape[0]==0)\n",
    "icgc_samples[:1]"
   ]
  },
  {
   "cell_type": "code",
   "execution_count": 19,
   "metadata": {},
   "outputs": [
    {
     "name": "stdout",
     "output_type": "stream",
     "text": [
      "N samples w/ HDs: 844\n",
      "N HDs: 3545\n"
     ]
    },
    {
     "data": {
      "text/html": [
       "<div>\n",
       "<style scoped>\n",
       "    .dataframe tbody tr th:only-of-type {\n",
       "        vertical-align: middle;\n",
       "    }\n",
       "\n",
       "    .dataframe tbody tr th {\n",
       "        vertical-align: top;\n",
       "    }\n",
       "\n",
       "    .dataframe thead th {\n",
       "        text-align: right;\n",
       "    }\n",
       "</style>\n",
       "<table border=\"1\" class=\"dataframe\">\n",
       "  <thead>\n",
       "    <tr style=\"text-align: right;\">\n",
       "      <th></th>\n",
       "      <th>icgc_donor_id</th>\n",
       "      <th>chr</th>\n",
       "      <th>startpos</th>\n",
       "      <th>endpos</th>\n",
       "      <th>total_cn</th>\n",
       "      <th>del_len</th>\n",
       "    </tr>\n",
       "  </thead>\n",
       "  <tbody>\n",
       "    <tr>\n",
       "      <th>0</th>\n",
       "      <td>DO45049</td>\n",
       "      <td>10</td>\n",
       "      <td>114188018</td>\n",
       "      <td>114730699</td>\n",
       "      <td>0.0</td>\n",
       "      <td>542681</td>\n",
       "    </tr>\n",
       "  </tbody>\n",
       "</table>\n",
       "</div>"
      ],
      "text/plain": [
       "  icgc_donor_id  chr   startpos     endpos  total_cn  del_len\n",
       "0       DO45049   10  114188018  114730699       0.0   542681"
      ]
     },
     "execution_count": 19,
     "metadata": {},
     "output_type": "execute_result"
    }
   ],
   "source": [
    "icgc_hds = pd.read_csv(file_pcawg_icgc_homdels) # All segments with CN=0\n",
    "icgc_hds = icgc_hds[~icgc_hds['chr'].isin(['X','Y'])].astype({'chr':int}) # Drop X,Y chr segments\n",
    "icgc_hds = pd.merge(icgc_samples[['tumour_specimen_aliquot_id',\n",
    "                                  'icgc_donor_id']].rename(columns={'tumour_specimen_aliquot_id':'samplename'}), \n",
    "                    icgc_hds).drop(columns=['samplename'])\n",
    "print('N samples w/ HDs: %d' % icgc_hds['icgc_donor_id'].nunique())\n",
    "print('N HDs:', icgc_hds.shape[0])\n",
    "icgc_hds[:1]"
   ]
  },
  {
   "cell_type": "markdown",
   "metadata": {},
   "source": [
    "#### Map genes to segments"
   ]
  },
  {
   "cell_type": "code",
   "execution_count": 20,
   "metadata": {},
   "outputs": [],
   "source": [
    "icgc_hd_map = util.map_segments_to_genes(icgc_hds, genes, overlap_func=util.map_segment_full)"
   ]
  },
  {
   "cell_type": "code",
   "execution_count": 21,
   "metadata": {},
   "outputs": [],
   "source": [
    "icgc_hd_map_partial = util.map_segments_to_genes(icgc_hds, genes, overlap_func=util.map_segment_partial)"
   ]
  },
  {
   "cell_type": "markdown",
   "metadata": {},
   "source": [
    "#### HDs per sample"
   ]
  },
  {
   "cell_type": "code",
   "execution_count": 22,
   "metadata": {},
   "outputs": [
    {
     "name": "stdout",
     "output_type": "stream",
     "text": [
      "N samples w/ 1+ deleted gene: 533\n"
     ]
    }
   ],
   "source": [
    "icgc_del_per_sample = util.count_dels_per_sample(icgc_hd_map, 'icgc_donor_id')\n",
    "print('N samples w/ 1+ deleted gene:', icgc_del_per_sample[icgc_del_per_sample.n_genes>0].shape[0])"
   ]
  },
  {
   "cell_type": "markdown",
   "metadata": {},
   "source": [
    "#### Detecting outliers --- samples with extreme genomic instability"
   ]
  },
  {
   "cell_type": "code",
   "execution_count": 23,
   "metadata": {},
   "outputs": [
    {
     "name": "stdout",
     "output_type": "stream",
     "text": [
      "Max deleted genes per sample: 1201\n",
      "Median genes deleted per sample: 2.0\n",
      "Mean deleted genes per sample: 10.056872037914692\n"
     ]
    }
   ],
   "source": [
    "print('Max deleted genes per sample:', icgc_del_per_sample.n_genes.max())\n",
    "print('Median genes deleted per sample:', icgc_del_per_sample.n_genes.median())\n",
    "print('Mean deleted genes per sample:', icgc_del_per_sample.n_genes.mean())"
   ]
  },
  {
   "cell_type": "code",
   "execution_count": 24,
   "metadata": {},
   "outputs": [
    {
     "name": "stdout",
     "output_type": "stream",
     "text": [
      "N w/ >100 HD genes: 8\n"
     ]
    }
   ],
   "source": [
    "icgc_outliers = icgc_del_per_sample[(icgc_del_per_sample.n_genes>100)]['icgc_donor_id'].reset_index(drop=True)\n",
    "print('N w/ >100 HD genes:', icgc_outliers.shape[0])\n",
    "icgc_outliers.to_csv(file_icgc_outliers, index=0)"
   ]
  },
  {
   "cell_type": "code",
   "execution_count": 25,
   "metadata": {},
   "outputs": [
    {
     "data": {
      "image/png": "[encoded data removed]",
      "text/plain": [
       "<Figure size 270x160 with 1 Axes>"
      ]
     },
     "metadata": {},
     "output_type": "display_data"
    }
   ],
   "source": [
    "f, ax = plt.subplots(1, 1, figsize=(2.7, 1.6))\n",
    "c = gp.get_color('blue')\n",
    "df = icgc_del_per_sample[icgc_del_per_sample.n_genes>0]\n",
    "sns.kdeplot(df.n_genes.clip(upper=300), ax=ax, color=c, fill=True, lw=0, alpha=.8)\n",
    "sns.rugplot(df.n_genes, ax=ax, color=c, height=0.1, alpha=.3)\n",
    "ax.axvline(100, color='#666', linestyle='--'); ax.axvspan(100,300, color='#f6f6f6', zorder=-10)\n",
    "ax.set_ylim([-0.01,0.06]); ax.set_xlim([0,300]);\n",
    "gp.set_axis_props(ax, xlabel='N. HD genes per sample', show_yticklabels=True, ytick_fontsize=7); plt.tight_layout()\n",
    "ax.text(200, 0.04, \"8 outlier\\nsamples\", ha='center', va='center', color='#666')\n",
    "plt.savefig('../figures/icgc_samples.png', bbox_inches='tight', dpi=500)"
   ]
  },
  {
   "cell_type": "markdown",
   "metadata": {},
   "source": [
    "#### Save filtered HD maps"
   ]
  },
  {
   "cell_type": "code",
   "execution_count": 26,
   "metadata": {},
   "outputs": [
    {
     "name": "stdout",
     "output_type": "stream",
     "text": [
      "N HDs: 3487\n"
     ]
    }
   ],
   "source": [
    "icgc_hd_map_final = icgc_hd_map[~icgc_hd_map.icgc_donor_id.isin(icgc_outliers) & (icgc_hd_map.del_len>0)].reset_index(drop=True)\n",
    "print('N HDs:', icgc_hd_map_final.shape[0])\n",
    "util.serialize_map(icgc_hd_map_final, folder_hd_maps(\"icgc_hd_map.csv\"))"
   ]
  },
  {
   "cell_type": "markdown",
   "metadata": {},
   "source": [
    "### Generate binary HD matrix: samples x genes"
   ]
  },
  {
   "cell_type": "code",
   "execution_count": 27,
   "metadata": {},
   "outputs": [],
   "source": [
    "def generate_hd_mat(hd_map, sample_col, all_samples):\n",
    "    df = hd_map[[sample_col,'genes']].explode('genes').dropna().assign(val=1).reset_index(drop=True)\n",
    "    df = pd.merge(df.rename(columns={'genes':'entrez_id'}), genes[['entrez_id','symbol']])\n",
    "    hd_mat = df.pivot(index=sample_col, columns='symbol', values='val').fillna(0).astype(int)\n",
    "    print(hd_mat.shape)\n",
    "    # Add empty rows and columns for genes / samples without any HDs\n",
    "    hd_mat = hd_mat.reindex(index=all_samples, columns=genes.symbol, fill_value=0)\n",
    "    print(hd_mat.shape)\n",
    "    return hd_mat"
   ]
  },
  {
   "cell_type": "markdown",
   "metadata": {},
   "source": [
    "#### TCGA"
   ]
  },
  {
   "cell_type": "code",
   "execution_count": 28,
   "metadata": {},
   "outputs": [
    {
     "name": "stdout",
     "output_type": "stream",
     "text": [
      "(2780, 6012)\n",
      "(9951, 17572)\n"
     ]
    }
   ],
   "source": [
    "tcga_hd_mat = generate_hd_mat(tcga_hd_map_final, sample_col='patient',\n",
    "                              all_samples=ascat_summary[~ascat_summary.patient.isin(tcga_outliers)]['patient'])"
   ]
  },
  {
   "cell_type": "code",
   "execution_count": 29,
   "metadata": {},
   "outputs": [],
   "source": [
    "assert((tcga_hd_mat.sum()>0).sum()==6012)\n",
    "assert((tcga_hd_mat.sum(axis=1)>0).sum()==2780)"
   ]
  },
  {
   "cell_type": "code",
   "execution_count": 30,
   "metadata": {},
   "outputs": [
    {
     "data": {
      "text/html": [
       "<div>\n",
       "<style scoped>\n",
       "    .dataframe tbody tr th:only-of-type {\n",
       "        vertical-align: middle;\n",
       "    }\n",
       "\n",
       "    .dataframe tbody tr th {\n",
       "        vertical-align: top;\n",
       "    }\n",
       "\n",
       "    .dataframe thead th {\n",
       "        text-align: right;\n",
       "    }\n",
       "</style>\n",
       "<table border=\"1\" class=\"dataframe\">\n",
       "  <thead>\n",
       "    <tr style=\"text-align: right;\">\n",
       "      <th>symbol</th>\n",
       "      <th>A1BG</th>\n",
       "      <th>A1CF</th>\n",
       "      <th>A2M</th>\n",
       "      <th>A2ML1</th>\n",
       "      <th>A3GALT2</th>\n",
       "      <th>A4GALT</th>\n",
       "      <th>A4GNT</th>\n",
       "      <th>AAAS</th>\n",
       "      <th>AACS</th>\n",
       "      <th>AADAC</th>\n",
       "      <th>...</th>\n",
       "      <th>ZUP1</th>\n",
       "      <th>ZW10</th>\n",
       "      <th>ZWILCH</th>\n",
       "      <th>ZWINT</th>\n",
       "      <th>ZXDC</th>\n",
       "      <th>ZYG11A</th>\n",
       "      <th>ZYG11B</th>\n",
       "      <th>ZYX</th>\n",
       "      <th>ZZEF1</th>\n",
       "      <th>ZZZ3</th>\n",
       "    </tr>\n",
       "    <tr>\n",
       "      <th>patient</th>\n",
       "      <th></th>\n",
       "      <th></th>\n",
       "      <th></th>\n",
       "      <th></th>\n",
       "      <th></th>\n",
       "      <th></th>\n",
       "      <th></th>\n",
       "      <th></th>\n",
       "      <th></th>\n",
       "      <th></th>\n",
       "      <th></th>\n",
       "      <th></th>\n",
       "      <th></th>\n",
       "      <th></th>\n",
       "      <th></th>\n",
       "      <th></th>\n",
       "      <th></th>\n",
       "      <th></th>\n",
       "      <th></th>\n",
       "      <th></th>\n",
       "      <th></th>\n",
       "    </tr>\n",
       "  </thead>\n",
       "  <tbody>\n",
       "    <tr>\n",
       "      <th>TCGA-02-0001</th>\n",
       "      <td>0</td>\n",
       "      <td>0</td>\n",
       "      <td>0</td>\n",
       "      <td>0</td>\n",
       "      <td>0</td>\n",
       "      <td>0</td>\n",
       "      <td>0</td>\n",
       "      <td>0</td>\n",
       "      <td>0</td>\n",
       "      <td>0</td>\n",
       "      <td>...</td>\n",
       "      <td>0</td>\n",
       "      <td>0</td>\n",
       "      <td>0</td>\n",
       "      <td>0</td>\n",
       "      <td>0</td>\n",
       "      <td>0</td>\n",
       "      <td>0</td>\n",
       "      <td>0</td>\n",
       "      <td>0</td>\n",
       "      <td>0</td>\n",
       "    </tr>\n",
       "  </tbody>\n",
       "</table>\n",
       "<p>1 rows × 17572 columns</p>\n",
       "</div>"
      ],
      "text/plain": [
       "symbol        A1BG  A1CF  A2M  A2ML1  A3GALT2  A4GALT  A4GNT  AAAS  AACS  \\\n",
       "patient                                                                    \n",
       "TCGA-02-0001     0     0    0      0        0       0      0     0     0   \n",
       "\n",
       "symbol        AADAC  ...  ZUP1  ZW10  ZWILCH  ZWINT  ZXDC  ZYG11A  ZYG11B  \\\n",
       "patient              ...                                                    \n",
       "TCGA-02-0001      0  ...     0     0       0      0     0       0       0   \n",
       "\n",
       "symbol        ZYX  ZZEF1  ZZZ3  \n",
       "patient                         \n",
       "TCGA-02-0001    0      0     0  \n",
       "\n",
       "[1 rows x 17572 columns]"
      ]
     },
     "execution_count": 30,
     "metadata": {},
     "output_type": "execute_result"
    }
   ],
   "source": [
    "tcga_hd_mat[:1]"
   ]
  },
  {
   "cell_type": "code",
   "execution_count": 32,
   "metadata": {},
   "outputs": [],
   "source": [
    "tcga_hd_mat.to_csv(file_table_s1)"
   ]
  },
  {
   "cell_type": "markdown",
   "metadata": {},
   "source": [
    "#### ICGC"
   ]
  },
  {
   "cell_type": "code",
   "execution_count": 33,
   "metadata": {},
   "outputs": [
    {
     "name": "stdout",
     "output_type": "stream",
     "text": [
      "(525, 2092)\n",
      "(1774, 17572)\n"
     ]
    }
   ],
   "source": [
    "icgc_hd_mat = generate_hd_mat(icgc_hd_map_final, sample_col='icgc_donor_id',\n",
    "                              all_samples=icgc_samples[~icgc_samples.icgc_donor_id.isin(icgc_outliers)]['icgc_donor_id'])"
   ]
  },
  {
   "cell_type": "code",
   "execution_count": 34,
   "metadata": {},
   "outputs": [],
   "source": [
    "assert((icgc_hd_mat.sum()>0).sum()==2092)\n",
    "assert((icgc_hd_mat.sum(axis=1)>0).sum()==525)"
   ]
  },
  {
   "cell_type": "code",
   "execution_count": 35,
   "metadata": {},
   "outputs": [
    {
     "data": {
      "text/html": [
       "<div>\n",
       "<style scoped>\n",
       "    .dataframe tbody tr th:only-of-type {\n",
       "        vertical-align: middle;\n",
       "    }\n",
       "\n",
       "    .dataframe tbody tr th {\n",
       "        vertical-align: top;\n",
       "    }\n",
       "\n",
       "    .dataframe thead th {\n",
       "        text-align: right;\n",
       "    }\n",
       "</style>\n",
       "<table border=\"1\" class=\"dataframe\">\n",
       "  <thead>\n",
       "    <tr style=\"text-align: right;\">\n",
       "      <th>symbol</th>\n",
       "      <th>A1BG</th>\n",
       "      <th>A1CF</th>\n",
       "      <th>A2M</th>\n",
       "      <th>A2ML1</th>\n",
       "      <th>A3GALT2</th>\n",
       "      <th>A4GALT</th>\n",
       "      <th>A4GNT</th>\n",
       "      <th>AAAS</th>\n",
       "      <th>AACS</th>\n",
       "      <th>AADAC</th>\n",
       "      <th>...</th>\n",
       "      <th>ZUP1</th>\n",
       "      <th>ZW10</th>\n",
       "      <th>ZWILCH</th>\n",
       "      <th>ZWINT</th>\n",
       "      <th>ZXDC</th>\n",
       "      <th>ZYG11A</th>\n",
       "      <th>ZYG11B</th>\n",
       "      <th>ZYX</th>\n",
       "      <th>ZZEF1</th>\n",
       "      <th>ZZZ3</th>\n",
       "    </tr>\n",
       "    <tr>\n",
       "      <th>icgc_donor_id</th>\n",
       "      <th></th>\n",
       "      <th></th>\n",
       "      <th></th>\n",
       "      <th></th>\n",
       "      <th></th>\n",
       "      <th></th>\n",
       "      <th></th>\n",
       "      <th></th>\n",
       "      <th></th>\n",
       "      <th></th>\n",
       "      <th></th>\n",
       "      <th></th>\n",
       "      <th></th>\n",
       "      <th></th>\n",
       "      <th></th>\n",
       "      <th></th>\n",
       "      <th></th>\n",
       "      <th></th>\n",
       "      <th></th>\n",
       "      <th></th>\n",
       "      <th></th>\n",
       "    </tr>\n",
       "  </thead>\n",
       "  <tbody>\n",
       "    <tr>\n",
       "      <th>DO46416</th>\n",
       "      <td>0</td>\n",
       "      <td>0</td>\n",
       "      <td>0</td>\n",
       "      <td>0</td>\n",
       "      <td>0</td>\n",
       "      <td>0</td>\n",
       "      <td>0</td>\n",
       "      <td>0</td>\n",
       "      <td>0</td>\n",
       "      <td>0</td>\n",
       "      <td>...</td>\n",
       "      <td>0</td>\n",
       "      <td>0</td>\n",
       "      <td>0</td>\n",
       "      <td>0</td>\n",
       "      <td>0</td>\n",
       "      <td>0</td>\n",
       "      <td>0</td>\n",
       "      <td>0</td>\n",
       "      <td>0</td>\n",
       "      <td>0</td>\n",
       "    </tr>\n",
       "  </tbody>\n",
       "</table>\n",
       "<p>1 rows × 17572 columns</p>\n",
       "</div>"
      ],
      "text/plain": [
       "symbol         A1BG  A1CF  A2M  A2ML1  A3GALT2  A4GALT  A4GNT  AAAS  AACS  \\\n",
       "icgc_donor_id                                                               \n",
       "DO46416           0     0    0      0        0       0      0     0     0   \n",
       "\n",
       "symbol         AADAC  ...  ZUP1  ZW10  ZWILCH  ZWINT  ZXDC  ZYG11A  ZYG11B  \\\n",
       "icgc_donor_id         ...                                                    \n",
       "DO46416            0  ...     0     0       0      0     0       0       0   \n",
       "\n",
       "symbol         ZYX  ZZEF1  ZZZ3  \n",
       "icgc_donor_id                    \n",
       "DO46416          0      0     0  \n",
       "\n",
       "[1 rows x 17572 columns]"
      ]
     },
     "execution_count": 35,
     "metadata": {},
     "output_type": "execute_result"
    }
   ],
   "source": [
    "icgc_hd_mat[:1]"
   ]
  },
  {
   "cell_type": "code",
   "execution_count": 36,
   "metadata": {},
   "outputs": [],
   "source": [
    "icgc_hd_mat.to_csv(file_table_s2)"
   ]
  },
  {
   "cell_type": "code",
   "execution_count": null,
   "metadata": {},
   "outputs": [],
   "source": []
  }
 ],
 "metadata": {
  "kernelspec": {
   "display_name": "ParalogHDs",
   "language": "python",
   "name": "paraloghds"
  },
  "language_info": {
   "codemirror_mode": {
    "name": "ipython",
    "version": 3
   },
   "file_extension": ".py",
   "mimetype": "text/x-python",
   "name": "python",
   "nbconvert_exporter": "python",
   "pygments_lexer": "ipython3",
   "version": "3.7.13"
  }
 },
 "nbformat": 4,
 "nbformat_minor": 2
}
