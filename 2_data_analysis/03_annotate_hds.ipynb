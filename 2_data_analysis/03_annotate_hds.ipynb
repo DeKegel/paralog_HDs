{
 "cells": [
  {
   "cell_type": "markdown",
   "metadata": {},
   "source": [
    "## Annotate HD segments\n",
    "\n",
    "For each each segment note whether it:\n",
    "- overlaps a TSG (at least partially)\n",
    "- overlaps a fragile site\n",
    "- is telomere- or centromere-bound"
   ]
  },
  {
   "cell_type": "code",
   "execution_count": 1,
   "metadata": {},
   "outputs": [],
   "source": [
    "import pandas as pd\n",
    "import os\n",
    "import numpy as np\n",
    "import scipy.stats as stats\n",
    "import seaborn as sns\n",
    "import matplotlib.pyplot as plt\n",
    "from matplotlib_venn import venn3, venn2\n",
    "import random\n",
    "import itertools\n",
    "import re\n",
    "import sys\n",
    "sys.path.append(\"../1_data_processing\")\n",
    "import warnings\n",
    "warnings.simplefilter(\"ignore\")\n",
    "\n",
    "import graphing_params as gp\n",
    "import processing_utils as util\n",
    "%load_ext autoreload\n",
    "%autoreload 1\n",
    "%aimport graphing_params\n",
    "%aimport processing_utils\n",
    "\n",
    "get_data_path = lambda folders, fname: os.path.normpath(os.environ['THIRD_PARTY_DIR']+'/'+'/'.join(folders) +'/'+fname)\n",
    "get_local_data_path = lambda folders, fname: os.path.normpath('../local_data/' +'/'.join(folders) +'/'+ fname)\n",
    "\n",
    "file_genes = get_local_data_path(['processed'], 'HGNC_gene_annot_ens93_hg19.csv')\n",
    "folder_hd_maps = lambda fname: get_local_data_path(['processed','HD_maps'], fname)\n",
    "file_fragsites = get_local_data_path(['processed'], 'hg19_fragile_sites.csv')\n",
    "file_ascat_segment_bounds = get_local_data_path(['processed','TCGA','ASCAT'], 'segment_boundaries.csv')"
   ]
  },
  {
   "cell_type": "markdown",
   "metadata": {},
   "source": [
    "### Load data"
   ]
  },
  {
   "cell_type": "code",
   "execution_count": 2,
   "metadata": {},
   "outputs": [
    {
     "name": "stdout",
     "output_type": "stream",
     "text": [
      "N genes: 17572 16898\n"
     ]
    }
   ],
   "source": [
    "genes = pd.read_csv(file_genes)\n",
    "passenger_genes = genes[~genes.TSG & ~genes.OG & ~genes.within_driver & ~genes.outside_bounds]\n",
    "print('N genes:', genes.shape[0], passenger_genes.shape[0])"
   ]
  },
  {
   "cell_type": "code",
   "execution_count": 8,
   "metadata": {},
   "outputs": [],
   "source": [
    "tcga_hd_map = util.deserialize_map(folder_hd_maps(\"tcga_hd_map_full.csv\"))"
   ]
  },
  {
   "cell_type": "code",
   "execution_count": 9,
   "metadata": {},
   "outputs": [],
   "source": [
    "tcga_part_hd_map = util.deserialize_map(folder_hd_maps(\"tcga_part_hd_map_full.csv\"))"
   ]
  },
  {
   "cell_type": "code",
   "execution_count": 10,
   "metadata": {},
   "outputs": [],
   "source": [
    "tcga_hds = util.count_dels_per_gene(tcga_hd_map, genes)\n",
    "tcga_hds = pd.merge(util.count_dels_per_gene(tcga_part_hd_map, genes)[['entrez_id','n_del']]\\\n",
    "                        .rename(columns={'n_del':'n_part_del'}), tcga_hds)"
   ]
  },
  {
   "cell_type": "markdown",
   "metadata": {},
   "source": [
    "### 1. HDs overlapping TSGs"
   ]
  },
  {
   "cell_type": "code",
   "execution_count": 11,
   "metadata": {},
   "outputs": [
    {
     "name": "stdout",
     "output_type": "stream",
     "text": [
      "N. TSGs w/ 3+ HD: 86\n",
      "N. TSGs w/ 1+ HD: 202\n"
     ]
    },
    {
     "data": {
      "image/png": "[encoded data removed]",
      "text/plain": [
       "<Figure size 200x180 with 1 Axes>"
      ]
     },
     "metadata": {},
     "output_type": "display_data"
    }
   ],
   "source": [
    "print('N. TSGs w/ 3+ HD:', tcga_hds[tcga_hds.TSG & (tcga_hds.n_del>=3)].shape[0])\n",
    "print('N. TSGs w/ 1+ HD:', tcga_hds[tcga_hds.TSG & (tcga_hds.n_del>=1)].shape[0])\n",
    "#print('N. TSGs w/ 1+ partial HD:', tcga_hds[tcga_hds.TSG & (tcga_hds.n_part_del>=1)].shape[0])\n",
    "\n",
    "hd_tsgs = tcga_hds[tcga_hds.TSG & (tcga_hds.n_part_del>=1)].reset_index(drop=True)\n",
    "\n",
    "f, ax = plt.subplots(1, 1, figsize=(2, 1.8))\n",
    "v = venn2([set(hd_tsgs[hd_tsgs.TSG_CGC].symbol.values), set(hd_tsgs[hd_tsgs.TSG_Bailey].symbol.values)],\n",
    "          ('CGC', 'Bailey et al.'), set_colors=['red','orange'], ax=ax)"
   ]
  },
  {
   "cell_type": "code",
   "execution_count": 12,
   "metadata": {},
   "outputs": [],
   "source": [
    "df = tcga_part_hd_map[['patient','chr','startpos','endpos','del_len','genes']].explode('genes')\\\n",
    "                     .rename(columns={'genes':'entrez_id'})\n",
    "tsg_segments = df[df.entrez_id.isin(hd_tsgs.entrez_id)].drop(columns=['entrez_id']).drop_duplicates()"
   ]
  },
  {
   "cell_type": "code",
   "execution_count": 13,
   "metadata": {},
   "outputs": [
    {
     "name": "stdout",
     "output_type": "stream",
     "text": [
      "N TCGA HDs associated with TSGs: 3165 / 11811 = 26.80%\n"
     ]
    }
   ],
   "source": [
    "print('N TCGA HDs associated with TSGs: %d / %d = %.2f%%' % \n",
    "      (tsg_segments.shape[0], tcga_hd_map.shape[0], tsg_segments.shape[0]/tcga_hd_map.shape[0]*100))"
   ]
  },
  {
   "cell_type": "markdown",
   "metadata": {},
   "source": [
    "### 2. Fragile sites\n",
    "\n",
    "Fragile sites from PCAWG:  \n",
    "Supplementary Table 5: Major fragile sites defined for the PCAWG dataset, in hg19 co-ordinates. Locations\n",
    "(chromosome and co-ordinates) of major fragile sites, the genes containing the fragile site, and the name of\n",
    "the fragile site. CFS, common fragile site."
   ]
  },
  {
   "cell_type": "code",
   "execution_count": 14,
   "metadata": {},
   "outputs": [],
   "source": [
    "fragsites = pd.read_csv(file_fragsites)"
   ]
  },
  {
   "cell_type": "code",
   "execution_count": 15,
   "metadata": {},
   "outputs": [],
   "source": [
    "def identify_fragsite_HDs(del_segs, fragsites):\n",
    "    fragsite_hds = pd.DataFrame()\n",
    "    for row in fragsites.iterrows():\n",
    "        # 1. Find segments that start or end in fragile site\n",
    "        df = del_segs[(del_segs.chr==row[1]['chr']) &\n",
    "                      (((del_segs.startpos>=row[1].startpos) & (del_segs.startpos<=row[1].endpos)) |\n",
    "                       ((del_segs.endpos>=row[1].startpos) & (del_segs.endpos<=row[1].endpos)))]\n",
    "        # 2. Find segments that fully overlap fragile sites\n",
    "        df2 = del_segs[(del_segs.chr==row[1]['chr']) & \n",
    "                       (del_segs.startpos<=row[1].startpos) & (del_segs.endpos>=row[1].endpos)]\n",
    "        fragsite_hds = pd.concat([fragsite_hds, df.assign(CFS_name=row[1].CFS_name), \n",
    "                                  df2.assign(CFS_name=row[1].CFS_name)]).drop_duplicates()\n",
    "    return fragsite_hds"
   ]
  },
  {
   "cell_type": "code",
   "execution_count": 16,
   "metadata": {},
   "outputs": [],
   "source": [
    "fragsite_segments = identify_fragsite_HDs(tcga_hd_map.drop(columns=['genes']), fragsites)\n",
    "fragsite_segments = pd.merge(tcga_hd_map, fragsite_segments)\n",
    "fragsite_segments['gene_del'] = fragsite_segments.genes.apply(lambda x: len(x)>0)"
   ]
  },
  {
   "cell_type": "code",
   "execution_count": 17,
   "metadata": {},
   "outputs": [
    {
     "name": "stdout",
     "output_type": "stream",
     "text": [
      "N TCGA HDs associated with fragile sites: 1479 / 11811 = 12.52%\n",
      "N fragile site HD segments that fully delete a gene: 54\n",
      "N total affected samples: 916\n"
     ]
    }
   ],
   "source": [
    "print('N TCGA HDs associated with fragile sites: %d / %d = %.2f%%' % \n",
    "      (fragsite_segments.shape[0], tcga_hd_map.shape[0], fragsite_segments.shape[0]/tcga_hd_map.shape[0]*100))\n",
    "print('N fragile site HD segments that fully delete a gene:', fragsite_segments[fragsite_segments.gene_del].shape[0])\n",
    "print('N total affected samples:', fragsite_segments['patient'].nunique())"
   ]
  },
  {
   "cell_type": "code",
   "execution_count": 18,
   "metadata": {},
   "outputs": [
    {
     "data": {
      "image/png": "[encoded data removed]",
      "text/plain": [
       "<Figure size 250x290 with 1 Axes>"
      ]
     },
     "metadata": {},
     "output_type": "display_data"
    }
   ],
   "source": [
    "f, ax = plt.subplots(1, 1, figsize=(2.5, 2.9))\n",
    "tab = fragsite_segments.groupby(['CFS_name','gene_del'])['patient'].nunique()\n",
    "tab = pd.merge(tab.reset_index(), fragsites[['CFS_name','gene_name']])\n",
    "tab.CFS_name = tab.CFS_name + ' - $\\it{'+tab.gene_name+'}$'\n",
    "tab = tab.pivot(index='CFS_name', columns='gene_del', values='patient')\n",
    "tab['total'] = tab.sum(axis=1)\n",
    "tab.sort_values('total').iloc[:,[1,0]].plot.barh(stacked=True, width=0.9, color=['#111','#ccc'], ax=ax); \n",
    "ax.legend(title='1+ gene HDs'); ax.grid(axis=\"x\")\n",
    "gp.set_axis_props(ax, xlabel='N. samples with HDs', ylabel='', show_yticks=False);\n",
    "plt.savefig('../figures/fragile_site_HDs.png', bbox_inches='tight', dpi=400)"
   ]
  },
  {
   "cell_type": "code",
   "execution_count": 19,
   "metadata": {},
   "outputs": [
    {
     "name": "stdout",
     "output_type": "stream",
     "text": [
      "0.35Mb\n",
      "0.85Mb\n",
      "MannwhitneyuResult(statistic=6685166.5, pvalue=3.361748467402083e-15)\n"
     ]
    },
    {
     "data": {
      "image/png": "[encoded data removed]",
      "text/plain": [
       "<Figure size 150x200 with 1 Axes>"
      ]
     },
     "metadata": {},
     "output_type": "display_data"
    }
   ],
   "source": [
    "df = pd.merge(tcga_hd_map, fragsite_segments.drop(columns=['genes']), indicator=True, how='left')\\\n",
    "       .sort_values('_merge', ascending=False)\n",
    "df['_merge'] = df['_merge'].apply(lambda x: 'Fragile\\nsite' if x=='both' else 'Other')\n",
    "print('%.2fMb' % (df[df._merge=='Fragile\\nsite'].del_len.mean()/1000000))\n",
    "print('%.2fMb' % (df[df._merge=='Other'].del_len.mean()/1000000))\n",
    "\n",
    "f, ax = plt.subplots(1, 1, figsize=(1.5, 2))\n",
    "sns.boxplot(y=df.del_len/1000000, x=df._merge, palette=[gp.get_color('sky-blue'),'#bbb'], ax=ax, showfliers=False, \n",
    "            **gp.get_boxplot_props())\n",
    "gp.set_axis_props(ax, xlabel='', ylabel='HD length (Mb)', show_xticks=False, xtick_fontsize=9)\n",
    "print(stats.mannwhitneyu(df[df._merge=='Other'].del_len, df[df._merge=='Fragile\\nsite'].del_len))\n",
    "plt.tight_layout()"
   ]
  },
  {
   "cell_type": "markdown",
   "metadata": {},
   "source": [
    "### 3. Telomeres"
   ]
  },
  {
   "cell_type": "code",
   "execution_count": 20,
   "metadata": {},
   "outputs": [],
   "source": [
    "ascat_seg_bounds = pd.read_csv(file_ascat_segment_bounds, index_col=0)"
   ]
  },
  {
   "cell_type": "code",
   "execution_count": 21,
   "metadata": {},
   "outputs": [],
   "source": [
    "def identify_telomere_bound_HDs(del_segs):\n",
    "    telomere_hds = pd.DataFrame()\n",
    "    for chrom in range(1,23):\n",
    "        # Don't check start bound for chromosomes 13,14,15,22 there are 0 segments on short arm for these chrs\n",
    "        if not chrom in [13,14,15,22]:\n",
    "            df1 = del_segs[(del_segs.chr==chrom) & \n",
    "                           (del_segs.startpos==ascat_seg_bounds.loc[chrom].startpos)].assign(telomere='start')\n",
    "        else: df1 = pd.DataFrame()\n",
    "        df2 = del_segs[(del_segs.chr==chrom) & \n",
    "                       (del_segs.endpos==ascat_seg_bounds.loc[chrom].endpos)].assign(telomere='end')\n",
    "        telomere_hds = pd.concat([telomere_hds, df1, df2])\n",
    "    return telomere_hds.drop_duplicates()"
   ]
  },
  {
   "cell_type": "code",
   "execution_count": 22,
   "metadata": {},
   "outputs": [],
   "source": [
    "telomere_segments = identify_telomere_bound_HDs(tcga_hd_map.drop(columns=['genes']))"
   ]
  },
  {
   "cell_type": "code",
   "execution_count": 23,
   "metadata": {},
   "outputs": [
    {
     "name": "stdout",
     "output_type": "stream",
     "text": [
      "N HDs associated with telomeres: 390 / 11811 = 3.30%\n"
     ]
    }
   ],
   "source": [
    "print('N HDs associated with telomeres: %d / %d = %.2f%%' % \n",
    "      (telomere_segments.shape[0], tcga_hd_map.shape[0], telomere_segments.shape[0]/tcga_hd_map.shape[0]*100))"
   ]
  },
  {
   "cell_type": "markdown",
   "metadata": {},
   "source": [
    "### 4. Centromeres"
   ]
  },
  {
   "cell_type": "code",
   "execution_count": 24,
   "metadata": {},
   "outputs": [],
   "source": [
    "def identify_centromere_bound_HDs(del_segs):\n",
    "    centromere_hds = pd.DataFrame()\n",
    "    for chrom in range(1,23):\n",
    "        # Find segments that start or end at last found bound after/before centromere\n",
    "        # Don't check centromere start bound for chromosomes 13,14,15,22 (no short arm segments)\n",
    "        if chrom in [13,14,15,22]:\n",
    "            df = del_segs[(del_segs.chr==chrom) & \n",
    "                           (del_segs.startpos==ascat_seg_bounds.loc[chrom].cent_end)]\n",
    "        else:\n",
    "            df = del_segs[(del_segs.chr==chrom) & \n",
    "                          ((del_segs.startpos==ascat_seg_bounds.loc[chrom].cent_end) |\n",
    "                           (del_segs.endpos==ascat_seg_bounds.loc[chrom].cent_start))]\n",
    "        centromere_hds = pd.concat([centromere_hds, df])\n",
    "    return centromere_hds"
   ]
  },
  {
   "cell_type": "code",
   "execution_count": 25,
   "metadata": {},
   "outputs": [],
   "source": [
    "centromere_segments = identify_centromere_bound_HDs(tcga_hd_map.drop(columns=['genes']))"
   ]
  },
  {
   "cell_type": "code",
   "execution_count": 26,
   "metadata": {},
   "outputs": [
    {
     "name": "stdout",
     "output_type": "stream",
     "text": [
      "N HDs associated with centromere: 55 / 11811 = 0.47%\n"
     ]
    }
   ],
   "source": [
    "print('N HDs associated with centromere: %d / %d = %.2f%%' % \n",
    "      (centromere_segments.shape[0], tcga_hd_map.shape[0], centromere_segments.shape[0]/tcga_hd_map.shape[0]*100))"
   ]
  },
  {
   "cell_type": "markdown",
   "metadata": {},
   "source": [
    "### Annotate HD map with segment types"
   ]
  },
  {
   "cell_type": "code",
   "execution_count": 33,
   "metadata": {},
   "outputs": [],
   "source": [
    "cols = ['patient','chr','startpos','endpos']\n",
    "hd_map_annot = pd.merge(tcga_hd_map, tsg_segments[cols], how='left', indicator='tsg')\n",
    "hd_map_annot = pd.merge(hd_map_annot, fragsite_segments[cols], how='left', indicator='fragsite')\n",
    "hd_map_annot = pd.merge(hd_map_annot, telomere_segments[cols], how='left', indicator='telomere')\n",
    "hd_map_annot = pd.merge(hd_map_annot, centromere_segments[cols], how='left', indicator='centromere')\n",
    "for col in ['tsg','fragsite','telomere','centromere']: \n",
    "    hd_map_annot[col] = hd_map_annot[col]=='both'\n",
    "hd_map_annot['to_drop'] = hd_map_annot.tsg | hd_map_annot.fragsite | hd_map_annot.centromere | hd_map_annot.telomere\n",
    "assert(hd_map_annot.shape[0] == tcga_hd_map.shape[0])"
   ]
  },
  {
   "cell_type": "code",
   "execution_count": 34,
   "metadata": {},
   "outputs": [],
   "source": [
    "def calc_hd_event_for_cat(cat):\n",
    "    #df = pd.merge(hd_map_an.drop(columns=['genes']), tcga_hds)\n",
    "    gene_hds = hd_map_annot[hd_map_annot.genes.apply(lambda x: len(x)>0)]\n",
    "    print('N HD events %s:\\t%d = %.2f%%\\t--- gene HDs: %d = %.2f%%' % \n",
    "          (cat, sum(hd_map_annot[cat]), sum(hd_map_annot[cat])/hd_map_annot.shape[0]*100, \n",
    "           sum(gene_hds[cat]), sum(gene_hds[cat])/gene_hds.shape[0]*100))"
   ]
  },
  {
   "cell_type": "code",
   "execution_count": 35,
   "metadata": {},
   "outputs": [
    {
     "name": "stdout",
     "output_type": "stream",
     "text": [
      "N HD events tsg:\t3165 = 26.80%\t--- gene HDs: 2271 = 49.18%\n",
      "N HD events fragsite:\t1479 = 12.52%\t--- gene HDs: 54 = 1.17%\n",
      "N HD events telomere:\t390 = 3.30%\t--- gene HDs: 317 = 6.86%\n",
      "N HD events centromere:\t55 = 0.47%\t--- gene HDs: 48 = 1.04%\n",
      "N HD events to_drop:\t4416 = 37.39%\t--- gene HDs: 2559 = 55.41%\n"
     ]
    }
   ],
   "source": [
    "calc_hd_event_for_cat('tsg')\n",
    "calc_hd_event_for_cat('fragsite')\n",
    "calc_hd_event_for_cat('telomere')\n",
    "calc_hd_event_for_cat('centromere')\n",
    "calc_hd_event_for_cat('to_drop')"
   ]
  },
  {
   "cell_type": "code",
   "execution_count": 36,
   "metadata": {},
   "outputs": [
    {
     "data": {
      "image/png": "[encoded data removed]",
      "text/plain": [
       "<Figure size 320x170 with 1 Axes>"
      ]
     },
     "metadata": {},
     "output_type": "display_data"
    }
   ],
   "source": [
    "f, ax = plt.subplots(1, 1, figsize=(3.2, 1.7))\n",
    "df = hd_map_annot\n",
    "df = pd.concat([df[df.tsg].assign(t='TSG (n=3126)'), df[df.fragsite].assign(t='Fragile site (n=1475)'), \n",
    "                df[df.telomere].assign(t='Telomere (n=376)'), df[df.centromere].assign(t='Centromere (n=52)'), \n",
    "                df[df['to_drop']==False].assign(t='Unclassified (n=7274)')])\n",
    "\n",
    "sns.boxplot(x=df.del_len/1000000, y=df.t, **gp.get_boxplot_props(), \n",
    "            palette=[gp.get_color('orange')]+[gp.get_color('sky-blue') for i in range(3)] + ['#ddd']);\n",
    "gp.set_axis_props(ax, xlabel='HD length (Mb)', ylabel='', ytick_fontsize=9, show_yticks=False)\n",
    "ax.grid(axis='x'); ax.set_xlim([-1,18]);\n",
    "#plt.savefig('../figures/tcga_hd_length.png', bbox_inches='tight', dpi=500, transparent=True)"
   ]
  },
  {
   "cell_type": "code",
   "execution_count": 37,
   "metadata": {},
   "outputs": [
    {
     "data": {
      "text/plain": [
       "Unclassified (n=7274)    7395\n",
       "TSG (n=3126)             3165\n",
       "Fragile site (n=1475)    1479\n",
       "Telomere (n=376)          390\n",
       "Centromere (n=52)          55\n",
       "Name: t, dtype: int64"
      ]
     },
     "execution_count": 37,
     "metadata": {},
     "output_type": "execute_result"
    }
   ],
   "source": [
    "df['t'].value_counts()"
   ]
  },
  {
   "cell_type": "code",
   "execution_count": 38,
   "metadata": {},
   "outputs": [],
   "source": [
    "util.serialize_map(hd_map_annot, folder_hd_maps(\"tcga_hd_map_annot_full.csv\"))"
   ]
  },
  {
   "cell_type": "code",
   "execution_count": null,
   "metadata": {},
   "outputs": [],
   "source": []
  }
 ],
 "metadata": {
  "kernelspec": {
   "display_name": "Python [conda env:paralogHDs]",
   "language": "python",
   "name": "conda-env-paralogHDs-py"
  },
  "language_info": {
   "codemirror_mode": {
    "name": "ipython",
    "version": 3
   },
   "file_extension": ".py",
   "mimetype": "text/x-python",
   "name": "python",
   "nbconvert_exporter": "python",
   "pygments_lexer": "ipython3",
   "version": "3.7.16"
  },
  "toc": {
   "base_numbering": 1,
   "nav_menu": {},
   "number_sections": true,
   "sideBar": true,
   "skip_h1_title": true,
   "title_cell": "Table of Contents",
   "title_sidebar": "Contents",
   "toc_cell": false,
   "toc_position": {},
   "toc_section_display": true,
   "toc_window_display": true
  }
 },
 "nbformat": 4,
 "nbformat_minor": 2
}
