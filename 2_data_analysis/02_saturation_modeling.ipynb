{
 "cells": [
  {
   "cell_type": "markdown",
   "metadata": {},
   "source": [
    "## Gene HD saturation modelling\n",
    "\n",
    "For random subsets of the TCGA samples, count how many unique gene HDs are observed."
   ]
  },
  {
   "cell_type": "code",
   "execution_count": 1,
   "metadata": {},
   "outputs": [],
   "source": [
    "import pandas as pd\n",
    "import os\n",
    "import numpy as np\n",
    "import scipy.stats as stats\n",
    "import seaborn as sns\n",
    "import matplotlib.pyplot as plt\n",
    "import random\n",
    "import itertools\n",
    "import re\n",
    "import sys\n",
    "sys.path.append(\"../1_data_processing\")\n",
    "import warnings\n",
    "warnings.simplefilter(\"ignore\")\n",
    "\n",
    "import graphing_params as gp\n",
    "import processing_utils as util\n",
    "%load_ext autoreload\n",
    "%autoreload 1\n",
    "%aimport graphing_params\n",
    "%aimport processing_utils\n",
    "\n",
    "get_data_path = lambda folders, fname: os.path.normpath(os.environ['THIRD_PARTY_DIR']+'/'+'/'.join(folders) +'/'+fname)\n",
    "get_local_data_path = lambda folders, fname: os.path.normpath('../local_data/' +'/'.join(folders) +'/'+ fname)\n",
    "\n",
    "file_genes = get_local_data_path(['processed'], 'HGNC_gene_annot_ens93_hg19.csv')\n",
    "file_ascat_summary = get_data_path(['TCGA','ASCATv3_SNP6_hg19'],'summary.ascatv3TCGA.penalty70.hg19.tsv')\n",
    "file_pcawg_samples = get_data_path(['PCAWG'], 'pcawg_donors_tableS1.xlsx')\n",
    "folder_hd_maps = lambda fname: get_local_data_path(['processed','HD_maps'], fname)\n",
    "file_tcga_outliers = get_local_data_path(['processed','TCGA','ASCAT'], 'outlier_samples.csv')\n",
    "file_icgc_outliers = get_local_data_path(['processed','ICGC'], 'outlier_samples.csv')"
   ]
  },
  {
   "cell_type": "markdown",
   "metadata": {},
   "source": [
    "### Load data"
   ]
  },
  {
   "cell_type": "code",
   "execution_count": 2,
   "metadata": {},
   "outputs": [
    {
     "name": "stdout",
     "output_type": "stream",
     "text": [
      "N genes: 17572 16898\n"
     ]
    }
   ],
   "source": [
    "genes = pd.read_csv(file_genes)\n",
    "passenger_genes = genes[~genes.TSG & ~genes.OG & ~genes.within_driver & ~genes.outside_bounds]\n",
    "print('N genes:', genes.shape[0], passenger_genes.shape[0])"
   ]
  },
  {
   "cell_type": "code",
   "execution_count": 3,
   "metadata": {},
   "outputs": [],
   "source": [
    "tcga_hd_map = util.deserialize_map(folder_hd_maps(\"tcga_hd_map.csv\"))"
   ]
  },
  {
   "cell_type": "code",
   "execution_count": 4,
   "metadata": {},
   "outputs": [],
   "source": [
    "icgc_hd_map = util.deserialize_map(folder_hd_maps(\"icgc_hd_map.csv\"))"
   ]
  },
  {
   "cell_type": "code",
   "execution_count": 5,
   "metadata": {},
   "outputs": [],
   "source": [
    "tcga_gene_hds = util.count_dels_per_gene(tcga_hd_map, genes)"
   ]
  },
  {
   "cell_type": "code",
   "execution_count": 6,
   "metadata": {},
   "outputs": [],
   "source": [
    "icgc_gene_hds = util.count_dels_per_gene(icgc_hd_map, genes)"
   ]
  },
  {
   "cell_type": "code",
   "execution_count": 7,
   "metadata": {},
   "outputs": [],
   "source": [
    "comb_gene_hds = pd.merge(tcga_gene_hds, icgc_gene_hds[['symbol','n_del']], on=['symbol'])\n",
    "comb_gene_hds['n_del'] = comb_gene_hds.n_del_x + comb_gene_hds.n_del_y"
   ]
  },
  {
   "cell_type": "code",
   "execution_count": 8,
   "metadata": {},
   "outputs": [
    {
     "name": "stdout",
     "output_type": "stream",
     "text": [
      "TCGA: Genes deleted (1+): 6012\n",
      "ICGC: Genes deleted (1+): 2092\n",
      "Combined: Genes deleted (1+): 6745\n"
     ]
    }
   ],
   "source": [
    "print('TCGA: Genes deleted (1+):', sum(tcga_gene_hds.n_del>0))\n",
    "print('ICGC: Genes deleted (1+):', sum(icgc_gene_hds.n_del>0))\n",
    "print('Combined: Genes deleted (1+):', sum(comb_gene_hds.n_del>0))"
   ]
  },
  {
   "cell_type": "code",
   "execution_count": 9,
   "metadata": {},
   "outputs": [
    {
     "name": "stdout",
     "output_type": "stream",
     "text": [
      "N TCGA samples (minus outliers): 9951\n"
     ]
    }
   ],
   "source": [
    "ascat_summary_all = pd.read_csv(file_ascat_summary, sep='\\t')\n",
    "ascat_summary = ascat_summary_all[(ascat_summary_all['QC']=='Pass')]\n",
    "tcga_outliers = pd.read_csv(file_tcga_outliers)\n",
    "ascat_summary = ascat_summary[~ascat_summary.patient.isin(tcga_outliers.patient)]\n",
    "print('N TCGA samples (minus outliers):', ascat_summary.patient.nunique())"
   ]
  },
  {
   "cell_type": "code",
   "execution_count": 10,
   "metadata": {},
   "outputs": [
    {
     "name": "stdout",
     "output_type": "stream",
     "text": [
      "N ICGC samples (minus outliers): 1774\n"
     ]
    }
   ],
   "source": [
    "sample_list = pd.read_excel(file_pcawg_samples, engine='openpyxl', skiprows=2)\n",
    "icgc_samples = sample_list[sample_list.tcga_donor_uuid.isna()].reset_index(drop=True)\n",
    "icgc_outliers = pd.read_csv(file_icgc_outliers)\n",
    "icgc_samples = icgc_samples[~icgc_samples.icgc_donor_id.isin(icgc_outliers.icgc_donor_id)]\n",
    "print('N ICGC samples (minus outliers):', icgc_samples.icgc_donor_id.nunique())"
   ]
  },
  {
   "cell_type": "markdown",
   "metadata": {},
   "source": [
    "### Sub-sample TCGA samples, count all gene HDs"
   ]
  },
  {
   "cell_type": "code",
   "execution_count": 11,
   "metadata": {},
   "outputs": [],
   "source": [
    "# For reproducibility\n",
    "random.seed(15)\n",
    "randomlist = random.sample(range(0, 150), 100)"
   ]
  },
  {
   "cell_type": "code",
   "execution_count": 19,
   "metadata": {},
   "outputs": [],
   "source": [
    "hds_est = {key:[] for key in range(1000,10000,1000)}\n",
    "for n in hds_est.keys():\n",
    "    for i in range(0,100):\n",
    "        samples_subset = ascat_summary.patient.sample(n=n, replace=False, random_state=randomlist[i])\n",
    "        gene_hds = util.count_dels_per_gene(tcga_hd_map[tcga_hd_map.patient.isin(samples_subset)], genes)\n",
    "        hds_est[n].append(sum(gene_hds.n_del>0)) # Count number of genes deleted in this subset of samples\n",
    "hds_est_df = pd.DataFrame(hds_est)"
   ]
  },
  {
   "cell_type": "code",
   "execution_count": 21,
   "metadata": {
    "scrolled": true
   },
   "outputs": [
    {
     "data": {
      "image/png": "[encoded data removed]",
      "text/plain": [
       "<Figure size 280x280 with 1 Axes>"
      ]
     },
     "metadata": {},
     "output_type": "display_data"
    }
   ],
   "source": [
    "f, ax = plt.subplots(1, 1, figsize=(2.8,2.8))\n",
    "df = pd.melt(hds_est_df, var_name='n_samples', value_name='n_gene_hds')\n",
    "means = df.groupby('n_samples').n_gene_hds.mean()\n",
    "\n",
    "# args: x, y, yerr=difference from mean (error amount, not absolute)\n",
    "ax.errorbar(df.n_samples.unique(), means, \n",
    "            [means-df.groupby('n_samples').n_gene_hds.min(), df.groupby('n_samples').n_gene_hds.max()-means], \n",
    "            linestyle='None', marker='o', ms=4, color='#888', elinewidth=1, label='TCGA sampled 100x')\n",
    "\n",
    "sns.scatterplot([ascat_summary.shape[0]], [sum(tcga_gene_hds.n_del>0)], color='black', label='TCGA')\n",
    "\n",
    "sns.scatterplot([icgc_samples.shape[0]], [sum(icgc_gene_hds.n_del>0)], color=gp.get_color('blue'), zorder=3, label='ICGC')\n",
    "\n",
    "sns.scatterplot([ascat_summary.shape[0]+icgc_samples.shape[0]], [sum(comb_gene_hds.n_del>0)], \n",
    "                color=gp.get_color('pink'), zorder=3, label='TCGA+ICGC')\n",
    "\n",
    "ax.set_xlim([0,12000]); ax.set_ylim([0,12000]);\n",
    "ax.plot([0, 1], [0, 1], transform=ax.transAxes, linestyle='--', color='k')\n",
    "gp.set_axis_props(ax, xlabel='N. samples', ylabel='N. genes with 1+ HDs')\n",
    "ax.legend(loc='upper left', bbox_to_anchor=(0,1.05))\n",
    "plt.savefig('../figures/saturation_analysis.png', bbox_inches='tight', dpi=500)"
   ]
  },
  {
   "cell_type": "code",
   "execution_count": null,
   "metadata": {},
   "outputs": [],
   "source": []
  }
 ],
 "metadata": {
  "kernelspec": {
   "display_name": "Python [conda env:paralogHDs]",
   "language": "python",
   "name": "conda-env-paralogHDs-py"
  },
  "language_info": {
   "codemirror_mode": {
    "name": "ipython",
    "version": 3
   },
   "file_extension": ".py",
   "mimetype": "text/x-python",
   "name": "python",
   "nbconvert_exporter": "python",
   "pygments_lexer": "ipython3",
   "version": "3.7.16"
  },
  "toc": {
   "base_numbering": 1,
   "nav_menu": {},
   "number_sections": true,
   "sideBar": true,
   "skip_h1_title": true,
   "title_cell": "Table of Contents",
   "title_sidebar": "Contents",
   "toc_cell": false,
   "toc_position": {},
   "toc_section_display": true,
   "toc_window_display": true
  }
 },
 "nbformat": 4,
 "nbformat_minor": 2
}
