{
 "cells": [
  {
   "cell_type": "markdown",
   "metadata": {},
   "source": [
    "## Logistic regression models for passenger gene HDs\n"
   ]
  },
  {
   "cell_type": "code",
   "execution_count": 28,
   "metadata": {},
   "outputs": [
    {
     "name": "stdout",
     "output_type": "stream",
     "text": [
      "The autoreload extension is already loaded. To reload it, use:\n",
      "  %reload_ext autoreload\n"
     ]
    }
   ],
   "source": [
    "import pandas as pd\n",
    "import os\n",
    "import numpy as np\n",
    "import scipy.stats as stats\n",
    "import seaborn as sns\n",
    "import matplotlib.pyplot as plt\n",
    "import statsmodels.formula.api as smf\n",
    "from sklearn.metrics import roc_curve, auc, roc_auc_score\n",
    "import statsmodels.api as sm\n",
    "from patsy import dmatrices\n",
    "import random\n",
    "from math import floor\n",
    "import itertools\n",
    "import re\n",
    "import io\n",
    "import sys\n",
    "sys.path.append(\"../1_data_processing\")\n",
    "import warnings\n",
    "warnings.simplefilter(\"ignore\")\n",
    "\n",
    "import graphing_params as gp\n",
    "import processing_utils as util\n",
    "import analysis_utils as au\n",
    "%load_ext autoreload\n",
    "%autoreload 1\n",
    "%aimport graphing_params\n",
    "%aimport processing_utils\n",
    "%aimport analysis_utils\n",
    "\n",
    "get_data_path = lambda folders, fname: os.path.normpath(os.environ['THIRD_PARTY_DIR']+'/'+'/'.join(folders) +'/'+fname)\n",
    "get_local_data_path = lambda folders, fname: os.path.normpath('../local_data/' +'/'.join(folders) +'/'+ fname)\n",
    "get_fig_path = lambda fname: os.path.normpath('../figures/' + fname)\n",
    "\n",
    "file_chrom_info = get_local_data_path(['processed'], 'hg19_chrom_info.csv')\n",
    "file_fragsites = get_local_data_path(['processed'], 'hg19_fragile_sites.csv')\n",
    "file_annot_genes = get_local_data_path(['processed'], 'HGNC_gene_annot_ens93_hg19.csv')\n",
    "file_gene_HDs = get_local_data_path(['processed'], 'all_gene_HDs.csv')\n",
    "\n",
    "# Output\n",
    "file_table_s3 = get_local_data_path(['tables'], 'Table_S3_annotated_passenger_genes.csv')"
   ]
  },
  {
   "cell_type": "markdown",
   "metadata": {},
   "source": [
    "### Annotate passenger genes w/ HD related features"
   ]
  },
  {
   "cell_type": "code",
   "execution_count": 29,
   "metadata": {},
   "outputs": [],
   "source": [
    "chrom_info = pd.read_csv(file_chrom_info, index_col=0).reset_index()\n",
    "chrom_info = chrom_info[~chrom_info.chr.isin(['X','Y'])].astype({'chr':int})"
   ]
  },
  {
   "cell_type": "code",
   "execution_count": 30,
   "metadata": {},
   "outputs": [
    {
     "name": "stdout",
     "output_type": "stream",
     "text": [
      "N: 15\n"
     ]
    }
   ],
   "source": [
    "fragsites = pd.read_csv(file_fragsites)\n",
    "print('N:', fragsites.shape[0])\n",
    "fragsites['midpos'] = fragsites.startpos + ((fragsites.endpos-fragsites.startpos)*0.5)"
   ]
  },
  {
   "cell_type": "code",
   "execution_count": 31,
   "metadata": {},
   "outputs": [],
   "source": [
    "# Limit influence to 10Mb\n",
    "def calc_dist_to_nearest_tsg(g, tsgs, maxd=10):\n",
    "    chr_tsgs = tsgs[tsgs.chr==g.chr]\n",
    "    if chr_tsgs.shape[0]==0: return 0 # No TSG on this chromosome\n",
    "    chr_tsgs = chr_tsgs[['symbol','n_del']].assign(d = abs(g.cds_mid - chr_tsgs.cds_mid)/1000000)\n",
    "    closest = chr_tsgs[chr_tsgs.d == chr_tsgs.d.min()].iloc[0]\n",
    "    return max(maxd-closest.d, 0)\n",
    "\n",
    "def calc_dist_to_fragsite(g, fragsites, maxd=10):\n",
    "    sites = fragsites[fragsites.chr==g.chr]\n",
    "    if sites.shape[0]==0: return 0 # No fragile sites on this chromosome\n",
    "    sites = sites.assign(d = abs(g.cds_mid - sites.midpos)/1000000)\n",
    "    closest = sites[sites.d == sites.d.min()].iloc[0]\n",
    "    return max(maxd-closest.d, 0)\n",
    "\n",
    "def calc_dist_to_centromere(g, maxd=10):\n",
    "    info = chrom_info[chrom_info.chr==g.chr].iloc[0]\n",
    "    if pd.isna(info.centStart):\n",
    "        d = abs(info.centEnd - g.cds_mid)/1000000\n",
    "    else:\n",
    "        d = min(abs(info.centStart - g.cds_mid), abs(info.centEnd - g.cds_mid))/1000000\n",
    "    return max(maxd-d, 0)\n",
    "\n",
    "# From chroms 13,14,15,21,22 ONLY calculate distance from end\n",
    "def calc_dist_to_telomere(g, maxd=10):\n",
    "    chrom = chrom_info[chrom_info.chr==g.chr].iloc[0]\n",
    "    if g.cds_mid > chrom.centEnd:\n",
    "        d = (chrom['size'] - g.cds_mid)/1000000\n",
    "    elif g.chr not in [13,14,15,22]:\n",
    "        d = g.cds_mid/1000000\n",
    "    else: return 0\n",
    "    return max(maxd-d, 0)"
   ]
  },
  {
   "cell_type": "code",
   "execution_count": 32,
   "metadata": {},
   "outputs": [],
   "source": [
    "gene_hds = pd.read_csv(file_gene_HDs)"
   ]
  },
  {
   "cell_type": "code",
   "execution_count": 33,
   "metadata": {},
   "outputs": [
    {
     "name": "stdout",
     "output_type": "stream",
     "text": [
      "N 3+ HD TSGs: 103\n"
     ]
    }
   ],
   "source": [
    "recur_hd_tsgs = gene_hds[gene_hds.TSG & (gene_hds.n_del>=3)]\n",
    "print('N 3+ HD TSGs:', recur_hd_tsgs.shape[0])"
   ]
  },
  {
   "cell_type": "code",
   "execution_count": 34,
   "metadata": {},
   "outputs": [
    {
     "name": "stdout",
     "output_type": "stream",
     "text": [
      "N: 16898\n"
     ]
    }
   ],
   "source": [
    "passengers = gene_hds[~gene_hds.TSG & ~gene_hds.OG & ~gene_hds.within_driver & ~gene_hds.outside_bounds].reset_index(drop=True)\n",
    "passengers = passengers[['symbol','entrez_id','ensembl_id','n_del','cds_from','cds_to','cds_mid','chr','cds_len',\n",
    "                         'paralog','n_paralogs','WGD','max_seq_id']]\n",
    "print('N:', passengers.shape[0])"
   ]
  },
  {
   "cell_type": "code",
   "execution_count": 35,
   "metadata": {},
   "outputs": [],
   "source": [
    "data = passengers.assign(hd_tsg = passengers.apply(calc_dist_to_nearest_tsg, args=[recur_hd_tsgs], axis=1))\n",
    "data = data.assign(fragsite = data.apply(calc_dist_to_fragsite, args=[fragsites], axis=1))\n",
    "data = data.assign(centromere = data.apply(calc_dist_to_centromere, axis=1))\n",
    "data = data.assign(telomere = data.apply(calc_dist_to_telomere, axis=1))"
   ]
  },
  {
   "cell_type": "code",
   "execution_count": 9,
   "metadata": {},
   "outputs": [],
   "source": [
    "table_s3 = data[['symbol','entrez_id','ensembl_id','n_del','hd_tsg','fragsite','centromere','telomere','cds_len',\n",
    "                     'paralog','n_paralogs','max_seq_id','WGD']]\n",
    "table_s3['big_family'] = table_s3.n_paralogs.apply(lambda x: x>3 if not pd.isna(x) else x)\n",
    "table_s3 = table_s3.rename(columns={'n_del':'n_HDs','hd_tsg':'dist_tsg','fragsite':'dist_fragsite',\n",
    "                                    'centromere':'dist_centromere','telomere':'dist_telomere',\n",
    "                                    'cds_len':'gene_length'}).drop(columns=['n_paralogs'])"
   ]
  },
  {
   "cell_type": "code",
   "execution_count": 10,
   "metadata": {},
   "outputs": [
    {
     "data": {
      "text/html": [
       "<div>\n",
       "<style scoped>\n",
       "    .dataframe tbody tr th:only-of-type {\n",
       "        vertical-align: middle;\n",
       "    }\n",
       "\n",
       "    .dataframe tbody tr th {\n",
       "        vertical-align: top;\n",
       "    }\n",
       "\n",
       "    .dataframe thead th {\n",
       "        text-align: right;\n",
       "    }\n",
       "</style>\n",
       "<table border=\"1\" class=\"dataframe\">\n",
       "  <thead>\n",
       "    <tr style=\"text-align: right;\">\n",
       "      <th></th>\n",
       "      <th>symbol</th>\n",
       "      <th>entrez_id</th>\n",
       "      <th>ensembl_id</th>\n",
       "      <th>n_HDs</th>\n",
       "      <th>dist_tsg</th>\n",
       "      <th>dist_fragsite</th>\n",
       "      <th>dist_centromere</th>\n",
       "      <th>dist_telomere</th>\n",
       "      <th>gene_length</th>\n",
       "      <th>paralog</th>\n",
       "      <th>max_seq_id</th>\n",
       "      <th>WGD</th>\n",
       "      <th>big_family</th>\n",
       "    </tr>\n",
       "  </thead>\n",
       "  <tbody>\n",
       "    <tr>\n",
       "      <th>0</th>\n",
       "      <td>CDKN2B</td>\n",
       "      <td>1030</td>\n",
       "      <td>ENSG00000147883</td>\n",
       "      <td>1277.0</td>\n",
       "      <td>9.975197</td>\n",
       "      <td>0.0</td>\n",
       "      <td>0.0</td>\n",
       "      <td>0.0</td>\n",
       "      <td>2966</td>\n",
       "      <td>True</td>\n",
       "      <td>78.9855</td>\n",
       "      <td>True</td>\n",
       "      <td>False</td>\n",
       "    </tr>\n",
       "    <tr>\n",
       "      <th>1</th>\n",
       "      <td>MTAP</td>\n",
       "      <td>4507</td>\n",
       "      <td>ENSG00000099810</td>\n",
       "      <td>875.0</td>\n",
       "      <td>9.849714</td>\n",
       "      <td>0.0</td>\n",
       "      <td>0.0</td>\n",
       "      <td>0.0</td>\n",
       "      <td>59265</td>\n",
       "      <td>False</td>\n",
       "      <td>NaN</td>\n",
       "      <td>NaN</td>\n",
       "      <td>NaN</td>\n",
       "    </tr>\n",
       "    <tr>\n",
       "      <th>2</th>\n",
       "      <td>DMRTA1</td>\n",
       "      <td>63951</td>\n",
       "      <td>ENSG00000176399</td>\n",
       "      <td>726.0</td>\n",
       "      <td>9.533178</td>\n",
       "      <td>0.0</td>\n",
       "      <td>0.0</td>\n",
       "      <td>0.0</td>\n",
       "      <td>4845</td>\n",
       "      <td>True</td>\n",
       "      <td>38.4921</td>\n",
       "      <td>False</td>\n",
       "      <td>False</td>\n",
       "    </tr>\n",
       "  </tbody>\n",
       "</table>\n",
       "</div>"
      ],
      "text/plain": [
       "   symbol  entrez_id       ensembl_id   n_HDs  dist_tsg  dist_fragsite  \\\n",
       "0  CDKN2B       1030  ENSG00000147883  1277.0  9.975197            0.0   \n",
       "1    MTAP       4507  ENSG00000099810   875.0  9.849714            0.0   \n",
       "2  DMRTA1      63951  ENSG00000176399   726.0  9.533178            0.0   \n",
       "\n",
       "   dist_centromere  dist_telomere  gene_length  paralog  max_seq_id    WGD  \\\n",
       "0              0.0            0.0         2966     True     78.9855   True   \n",
       "1              0.0            0.0        59265    False         NaN    NaN   \n",
       "2              0.0            0.0         4845     True     38.4921  False   \n",
       "\n",
       "  big_family  \n",
       "0      False  \n",
       "1        NaN  \n",
       "2      False  "
      ]
     },
     "execution_count": 10,
     "metadata": {},
     "output_type": "execute_result"
    }
   ],
   "source": [
    "table_s3[:3]"
   ]
  },
  {
   "cell_type": "code",
   "execution_count": 11,
   "metadata": {},
   "outputs": [],
   "source": [
    "table_s3.to_csv(file_table_s3, index=0)"
   ]
  },
  {
   "cell_type": "markdown",
   "metadata": {},
   "source": [
    "### Normalize variables"
   ]
  },
  {
   "cell_type": "code",
   "execution_count": 36,
   "metadata": {},
   "outputs": [],
   "source": [
    "variables = ['dist_tsg','dist_fragsite','dist_centromere','dist_telomere','gene_length']\n",
    "\n",
    "def zscore_data(data):\n",
    "    normdata = data.assign(\n",
    "        del1 = (data.n_HDs>=1).astype(int),\n",
    "        del3 = (data.n_HDs>=3).astype(int)\n",
    "    )\n",
    "    for col in variables:\n",
    "        normdata[col] = stats.zscore(data[col])\n",
    "    return normdata"
   ]
  },
  {
   "cell_type": "code",
   "execution_count": 37,
   "metadata": {},
   "outputs": [],
   "source": [
    "normdata = zscore_data(table_s3)"
   ]
  },
  {
   "cell_type": "code",
   "execution_count": 38,
   "metadata": {},
   "outputs": [
    {
     "data": {
      "text/plain": [
       "1.0000295906138639"
      ]
     },
     "execution_count": 38,
     "metadata": {},
     "output_type": "execute_result"
    }
   ],
   "source": [
    "normdata.dist_tsg.std()"
   ]
  },
  {
   "cell_type": "markdown",
   "metadata": {},
   "source": [
    "### Models for all passenger deletions"
   ]
  },
  {
   "cell_type": "code",
   "execution_count": 39,
   "metadata": {},
   "outputs": [],
   "source": [
    "def convert_model_res(m):\n",
    "    df =  pd.read_csv(io.StringIO(m.summary().tables[1].as_csv()), index_col=0)\n",
    "    df.columns = [x.strip() for x in df.columns]\n",
    "    df.index = [x.strip() for x in df.index]\n",
    "    df = df.rename(columns={'[0.025':'lower','0.975]':'upper'})\n",
    "    var_dict = {'paralog[T.True]':'Paralog', \n",
    "                'dist_tsg':'Distance to TSG', \n",
    "                'dist_fragsite':'Distance to fragile site', \n",
    "                'dist_centromere':'Distance to centromere', \n",
    "                'dist_telomere':'Distance to telomere',\n",
    "                'gene_length':'Gene length',\n",
    "                'big_family[T.True]':'Big family',\n",
    "                'WGD[T.True]':'WGD', \n",
    "                'seqid':'Sequence Id.'}\n",
    "    df['term'] = df.index\n",
    "    df = df.replace(var_dict)\n",
    "    df['cat'] = df.term.apply(lambda x: 'black' if x in ['Paralog','Big family','WGD','Sequence Id.'] else \n",
    "                              ('orange' if 'TSG' in x else \n",
    "                                ('sky-blue' if 'Distance to' in x else '#aaa')))\n",
    "    df = df.reset_index(drop=True)\n",
    "    return df"
   ]
  },
  {
   "cell_type": "code",
   "execution_count": 40,
   "metadata": {},
   "outputs": [],
   "source": [
    "def draw_coefs_logit(mres, ax, n=1):\n",
    "    sns.pointplot(np.exp(mres[1:].coef), mres[1:].term, join=False, scale=1.1, zorder=10, ax=ax,\n",
    "                  palette=[gp.get_color(c) for c in mres[1:]['cat']]);\n",
    "    for row in mres[1:].iterrows():\n",
    "        clr = gp.get_color(row[1]['cat'])\n",
    "        ax.hlines(y=row[0]-1, xmin=np.exp(row[1].lower), xmax=np.exp(row[1].upper), linewidth=2, color=clr, lw=1)\n",
    "        ax.text(y=row[0]-1, x=np.exp(row[1].upper)+.02, \n",
    "                s='%.2f%s' % (np.exp(row[1].coef), ('**' if row[1]['P>|z|']<0.01 else ('*' if row[1]['P>|z|']<0.05 else ''))), \n",
    "                color=clr, va='center')\n",
    "    gp.set_axis_props(ax, ytick_fontsize=9, xlabel='(Change in) Odds ratio', ylabel='', show_yticks=False)\n",
    "    ax.set_title(str(n)+'+ HDs', fontweight='bold', fontsize=9)"
   ]
  },
  {
   "cell_type": "markdown",
   "metadata": {},
   "source": [
    "#### 0 vs. 1+ / 0 vs. 3+ HDs"
   ]
  },
  {
   "cell_type": "code",
   "execution_count": 28,
   "metadata": {
    "scrolled": false
   },
   "outputs": [
    {
     "name": "stdout",
     "output_type": "stream",
     "text": [
      "Optimization terminated successfully.\n",
      "         Current function value: 0.634692\n",
      "         Iterations 5\n",
      "Optimization terminated successfully.\n",
      "         Current function value: 0.353784\n",
      "         Iterations 7\n",
      "ROC AUC 1+: 0.64\n",
      "ROC AUC 3+: 0.74\n"
     ]
    },
    {
     "data": {
      "image/png": "[encoded data removed]",
      "text/plain": [
       "<Figure size 570x175 with 2 Axes>"
      ]
     },
     "metadata": {},
     "output_type": "display_data"
    }
   ],
   "source": [
    "f, ax = plt.subplots(1, 2, figsize=(5.7, 1.75), sharey=True, gridspec_kw={'width_ratios':[0.56,1]})\n",
    "m1 = smf.logit(\"del1 ~ paralog + gene_length + dist_tsg + dist_fragsite + dist_centromere + dist_telomere\", data=normdata).fit()\n",
    "draw_coefs_logit(convert_model_res(m1), ax[0], 1)\n",
    "ax[0].set_xlim([0.8,1.75]); ax[0].set_ylim([-0.5,len(m1.params)-1.5]); ax[0].axvline(1, linestyle='--', color='#aaa')\n",
    "\n",
    "m3 = smf.logit(\"del3 ~ paralog + gene_length + dist_tsg + dist_fragsite + dist_centromere + dist_telomere\", \n",
    "               data=normdata[(normdata.n_HDs==0) | (normdata.n_HDs>=3)]).fit()\n",
    "draw_coefs_logit(convert_model_res(m3), ax[1], 3)\n",
    "ax[1].set_xlim([0.8,2.5]); ax[1].set_ylim([-0.5,len(m1.params)-1.5]); ax[1].axvline(1, linestyle='--', color='k')\n",
    "\n",
    "ypred=m1.predict()\n",
    "print('ROC AUC 1+: %.2f' % (roc_auc_score(normdata.del1, ypred)))\n",
    "ypred=m3.predict()\n",
    "print('ROC AUC 3+: %.2f' % (roc_auc_score(normdata[(normdata.n_HDs==0) | (normdata.n_HDs>=3)].del3, ypred)))\n",
    "\n",
    "plt.tight_layout()\n",
    "plt.savefig('../figures/logit_model_all_dels.png', bbox_inches='tight', dpi=500)"
   ]
  },
  {
   "cell_type": "code",
   "execution_count": 44,
   "metadata": {
    "scrolled": false
   },
   "outputs": [
    {
     "name": "stdout",
     "output_type": "stream",
     "text": [
      "Optimization terminated successfully.\n",
      "         Current function value: 0.644016\n",
      "         Iterations 5\n",
      "Optimization terminated successfully.\n",
      "         Current function value: 0.426886\n",
      "         Iterations 6\n",
      "ROC AUC 1+: 0.67\n",
      "ROC AUC 3+: 0.79\n"
     ]
    },
    {
     "data": {
      "image/png": "[encoded data removed]",
      "text/plain": [
       "<Figure size 570x175 with 2 Axes>"
      ]
     },
     "metadata": {},
     "output_type": "display_data"
    }
   ],
   "source": [
    "f, ax = plt.subplots(1, 2, figsize=(5.7, 1.75), sharey=True, gridspec_kw={'width_ratios':[0.56,1]})\n",
    "m1 = smf.logit(\"del1 ~ paralog + gene_length + dist_tsg + dist_fragsite + dist_centromere + dist_telomere\", data=normdata).fit()\n",
    "draw_coefs_logit(convert_model_res(m1), ax[0], 1)\n",
    "ax[0].set_xlim([0.8,1.75]); ax[0].set_ylim([-0.5,len(m1.params)-1.5]); ax[0].axvline(1, linestyle='--', color='#aaa')\n",
    "\n",
    "m3 = smf.logit(\"del3 ~ paralog + gene_length + dist_tsg + dist_fragsite + dist_centromere + dist_telomere\", \n",
    "               data=normdata[(normdata.n_HDs==0) | (normdata.n_HDs>=3)]).fit()\n",
    "draw_coefs_logit(convert_model_res(m3), ax[1], 3)\n",
    "ax[1].set_xlim([0.8,2.7]); ax[1].set_ylim([-0.5,len(m1.params)-1.5]); ax[1].axvline(1, linestyle='--', color='k')\n",
    "\n",
    "ypred=m1.predict()\n",
    "print('ROC AUC 1+: %.2f' % (roc_auc_score(normdata.del1, ypred)))\n",
    "ypred=m3.predict()\n",
    "print('ROC AUC 3+: %.2f' % (roc_auc_score(normdata[(normdata.n_HDs==0) | (normdata.n_HDs>=3)].del3, ypred)))\n",
    "\n",
    "plt.tight_layout()\n",
    "plt.savefig('../figures/logit_model_all_dels.png', bbox_inches='tight', dpi=500)"
   ]
  },
  {
   "cell_type": "markdown",
   "metadata": {},
   "source": [
    "#### Likelihood ratio tests"
   ]
  },
  {
   "cell_type": "code",
   "execution_count": 17,
   "metadata": {},
   "outputs": [],
   "source": [
    "def lr_test(m_full, m_rest):\n",
    "    llf_full = m_full.llf\n",
    "    llf_rest = m_rest.llf\n",
    "    df_full = m_full.df_resid\n",
    "    df_rest = m_rest.df_resid \n",
    "    lrdf = (df_rest - df_full)\n",
    "    lrstat = -2*(llf_rest - llf_full)\n",
    "    lr_pvalue = stats.chi2.sf(lrstat, df=lrdf)\n",
    "    return lr_pvalue"
   ]
  },
  {
   "cell_type": "code",
   "execution_count": 18,
   "metadata": {},
   "outputs": [
    {
     "name": "stdout",
     "output_type": "stream",
     "text": [
      "Optimization terminated successfully.\n",
      "         Current function value: 0.644016\n",
      "         Iterations 5\n",
      "Optimization terminated successfully.\n",
      "         Current function value: 0.645386\n",
      "         Iterations 5\n",
      "1.0200454940672479e-11\n"
     ]
    }
   ],
   "source": [
    "m_full = smf.logit(\"del1 ~ paralog + gene_length + dist_tsg + dist_fragsite + dist_centromere + dist_telomere\", \n",
    "                   data=normdata).fit()\n",
    "m_rest = smf.logit(\"del1 ~ gene_length + dist_tsg + dist_fragsite + dist_centromere + dist_telomere\", data=normdata).fit()\n",
    "print(lr_test(m_full, m_rest))"
   ]
  },
  {
   "cell_type": "code",
   "execution_count": 19,
   "metadata": {},
   "outputs": [
    {
     "name": "stdout",
     "output_type": "stream",
     "text": [
      "Optimization terminated successfully.\n",
      "         Current function value: 0.348219\n",
      "         Iterations 7\n",
      "Optimization terminated successfully.\n",
      "         Current function value: 0.349498\n",
      "         Iterations 7\n",
      "4.852679315142743e-11\n"
     ]
    }
   ],
   "source": [
    "m_full = smf.logit(\"del3 ~ paralog + gene_length + dist_tsg + dist_fragsite + dist_centromere + dist_telomere\", \n",
    "                   data=normdata).fit()\n",
    "m_rest = smf.logit(\"del3 ~ gene_length + dist_tsg + dist_fragsite + dist_centromere + dist_telomere\", data=normdata).fit()\n",
    "print(lr_test(m_full, m_rest))"
   ]
  },
  {
   "cell_type": "markdown",
   "metadata": {},
   "source": [
    "### Models for paralog passenger deletions only"
   ]
  },
  {
   "cell_type": "code",
   "execution_count": 45,
   "metadata": {},
   "outputs": [],
   "source": [
    "def norm_paralog_vars(data):\n",
    "    normdata = data.assign(\n",
    "        seqid = stats.zscore(data.max_seq_id)\n",
    "    ).astype({'big_family':bool, 'WGD':bool})\n",
    "    return normdata"
   ]
  },
  {
   "cell_type": "code",
   "execution_count": 46,
   "metadata": {},
   "outputs": [
    {
     "data": {
      "text/plain": [
       "10588"
      ]
     },
     "execution_count": 46,
     "metadata": {},
     "output_type": "execute_result"
    }
   ],
   "source": [
    "pdata = normdata[normdata.paralog]\n",
    "pdata = norm_paralog_vars(pdata)\n",
    "pdata.shape[0]"
   ]
  },
  {
   "cell_type": "markdown",
   "metadata": {},
   "source": [
    "#### 0 vs. 1+ / 0 vs. 3+ HDs"
   ]
  },
  {
   "cell_type": "code",
   "execution_count": 48,
   "metadata": {
    "scrolled": false
   },
   "outputs": [
    {
     "name": "stdout",
     "output_type": "stream",
     "text": [
      "Optimization terminated successfully.\n",
      "         Current function value: 0.636498\n",
      "         Iterations 5\n",
      "Optimization terminated successfully.\n",
      "         Current function value: 0.442196\n",
      "         Iterations 6\n",
      "ROC AUC 1+: 0.68\n",
      "ROC AUC 3+: 0.80\n"
     ]
    },
    {
     "data": {
      "image/png": "[encoded data removed]",
      "text/plain": [
       "<Figure size 560x210 with 2 Axes>"
      ]
     },
     "metadata": {},
     "output_type": "display_data"
    }
   ],
   "source": [
    "f, ax = plt.subplots(1, 2, figsize=(5.6, 2.1), sharey=True, gridspec_kw={'width_ratios':[0.6,1]})\n",
    "m1 = smf.logit(\"del1 ~ WGD + big_family + seqid + gene_length + dist_tsg + dist_fragsite + dist_centromere + dist_telomere\",\n",
    "               data=pdata).fit()\n",
    "draw_coefs_logit(convert_model_res(m1), ax[0], 1)\n",
    "ax[0].set_xlim([0.6,1.8]); ax[0].set_ylim([-0.5,len(m1.params)-1.5]); ax[0].axvline(1, linestyle='--', color='k')\n",
    "\n",
    "m3 = smf.logit(\"del3 ~ WGD + big_family + seqid + + gene_length + dist_tsg + dist_fragsite + dist_centromere + dist_telomere\",\n",
    "               data=pdata[(pdata.n_HDs==0) | (pdata.n_HDs>=3)]).fit()\n",
    "draw_coefs_logit(convert_model_res(m3), ax[1], 3)\n",
    "ax[1].set_xlim([0.6,2.7]); ax[1].set_ylim([-0.5,len(m3.params)-1.5]); ax[1].axvline(1, linestyle='--', color='k')\n",
    "\n",
    "ypred=m1.predict()\n",
    "print('ROC AUC 1+: %.2f' % (roc_auc_score(pdata.del1, ypred)))\n",
    "ypred=m3.predict()\n",
    "print('ROC AUC 3+: %.2f' % (roc_auc_score(pdata[(pdata.n_HDs==0) | (pdata.n_HDs>=3)].del3, ypred)))\n",
    "\n",
    "plt.tight_layout()\n",
    "plt.savefig('../figures/logit_model_paralog_dels.png', bbox_inches='tight', dpi=500, transparent=True)"
   ]
  },
  {
   "cell_type": "markdown",
   "metadata": {},
   "source": [
    "#### Likelihood ratio tests"
   ]
  },
  {
   "cell_type": "code",
   "execution_count": 43,
   "metadata": {},
   "outputs": [
    {
     "name": "stdout",
     "output_type": "stream",
     "text": [
      "Optimization terminated successfully.\n",
      "         Current function value: 0.641486\n",
      "         Iterations 5\n",
      "Optimization terminated successfully.\n",
      "         Current function value: 0.641815\n",
      "         Iterations 5\n",
      "W/out WGD: 0.008394368746150968\n",
      "Optimization terminated successfully.\n",
      "         Current function value: 0.642096\n",
      "         Iterations 5\n",
      "W/out big_family: 0.00032758757168380837\n",
      "Optimization terminated successfully.\n",
      "         Current function value: 0.642087\n",
      "         Iterations 5\n",
      "W/out seqid: 0.0003620054611644381\n"
     ]
    }
   ],
   "source": [
    "m_full = smf.logit(\"del1 ~ WGD + big_family + seqid + \"\n",
    "                   \"gene_length + dist_tsg + dist_fragsite + dist_centromere + dist_telomere\", data=pdata).fit()\n",
    "\n",
    "m_rest = smf.logit(\"del1 ~ big_family + seqid + \"\n",
    "                   \"gene_length + dist_tsg + dist_fragsite + dist_centromere + dist_telomere\", data=pdata).fit()\n",
    "print('W/out WGD:', lr_test(m_full, m_rest))\n",
    "\n",
    "m_rest = smf.logit(\"del1 ~ WGD + seqid + \"\n",
    "                   \"gene_length + dist_tsg + dist_fragsite + dist_centromere + dist_telomere\", data=pdata).fit()\n",
    "print('W/out big_family:', lr_test(m_full, m_rest))\n",
    "\n",
    "m_rest = smf.logit(\"del1 ~ WGD + big_family + \"\n",
    "                   \"gene_length + dist_tsg + dist_fragsite + dist_centromere + dist_telomere\", data=pdata).fit()\n",
    "print('W/out seqid:', lr_test(m_full, m_rest))"
   ]
  },
  {
   "cell_type": "code",
   "execution_count": 23,
   "metadata": {},
   "outputs": [
    {
     "name": "stdout",
     "output_type": "stream",
     "text": [
      "Optimization terminated successfully.\n",
      "         Current function value: 0.636498\n",
      "         Iterations 5\n",
      "Optimization terminated successfully.\n",
      "         Current function value: 0.637440\n",
      "         Iterations 5\n",
      "W/out WGD: 7.947518595588395e-06\n",
      "Optimization terminated successfully.\n",
      "         Current function value: 0.637813\n",
      "         Iterations 5\n",
      "W/out big_family: 1.3101762302526085e-07\n",
      "Optimization terminated successfully.\n",
      "         Current function value: 0.637210\n",
      "         Iterations 5\n",
      "W/out seqid: 0.00010378366539620136\n"
     ]
    }
   ],
   "source": [
    "m_full = smf.logit(\"del1 ~ WGD + big_family + seqid + \"\n",
    "                   \"gene_length + dist_tsg + dist_fragsite + dist_centromere + dist_telomere\", data=pdata).fit()\n",
    "\n",
    "m_rest = smf.logit(\"del1 ~ big_family + seqid + \"\n",
    "                   \"gene_length + dist_tsg + dist_fragsite + dist_centromere + dist_telomere\", data=pdata).fit()\n",
    "print('W/out WGD:', lr_test(m_full, m_rest))\n",
    "\n",
    "m_rest = smf.logit(\"del1 ~ WGD + seqid + \"\n",
    "                   \"gene_length + dist_tsg + dist_fragsite + dist_centromere + dist_telomere\", data=pdata).fit()\n",
    "print('W/out big_family:', lr_test(m_full, m_rest))\n",
    "\n",
    "m_rest = smf.logit(\"del1 ~ WGD + big_family + \"\n",
    "                   \"gene_length + dist_tsg + dist_fragsite + dist_centromere + dist_telomere\", data=pdata).fit()\n",
    "print('W/out seqid:', lr_test(m_full, m_rest))"
   ]
  },
  {
   "cell_type": "code",
   "execution_count": null,
   "metadata": {},
   "outputs": [],
   "source": []
  }
 ],
 "metadata": {
  "kernelspec": {
   "display_name": "Python [conda env:paralogHDs]",
   "language": "python",
   "name": "conda-env-paralogHDs-py"
  },
  "language_info": {
   "codemirror_mode": {
    "name": "ipython",
    "version": 3
   },
   "file_extension": ".py",
   "mimetype": "text/x-python",
   "name": "python",
   "nbconvert_exporter": "python",
   "pygments_lexer": "ipython3",
   "version": "3.7.16"
  },
  "toc": {
   "base_numbering": 1,
   "nav_menu": {},
   "number_sections": true,
   "sideBar": true,
   "skip_h1_title": true,
   "title_cell": "Table of Contents",
   "title_sidebar": "Contents",
   "toc_cell": false,
   "toc_position": {},
   "toc_section_display": true,
   "toc_window_display": true
  }
 },
 "nbformat": 4,
 "nbformat_minor": 2
}
