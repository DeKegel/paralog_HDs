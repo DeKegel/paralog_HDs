{
 "cells": [
  {
   "cell_type": "markdown",
   "metadata": {},
   "source": [
    "## Features of paralogs influencing HD likelihood"
   ]
  },
  {
   "cell_type": "code",
   "execution_count": 7,
   "metadata": {},
   "outputs": [
    {
     "name": "stdout",
     "output_type": "stream",
     "text": [
      "The autoreload extension is already loaded. To reload it, use:\n",
      "  %reload_ext autoreload\n"
     ]
    }
   ],
   "source": [
    "import pandas as pd\n",
    "import os\n",
    "import numpy as np\n",
    "import scipy.stats as stats\n",
    "import seaborn as sns\n",
    "import matplotlib.pyplot as plt\n",
    "import itertools\n",
    "import re\n",
    "import sys\n",
    "sys.path.append(\"../1_data_processing\")\n",
    "import warnings\n",
    "warnings.simplefilter(\"ignore\")\n",
    "\n",
    "import graphing_params as gp\n",
    "import processing_utils as util\n",
    "import analysis_utils as au\n",
    "%load_ext autoreload\n",
    "%autoreload 1\n",
    "%aimport graphing_params\n",
    "%aimport processing_utils\n",
    "%aimport analysis_utils\n",
    "\n",
    "get_data_path = lambda folders, fname: os.path.normpath(os.environ['THIRD_PARTY_DIR']+'/'+'/'.join(folders) +'/'+fname)\n",
    "get_local_data_path = lambda folders, fname: os.path.normpath('../local_data/' +'/'.join(folders) +'/'+ fname)\n",
    "\n",
    "file_annot_genes = get_local_data_path(['processed'], 'HGNC_gene_annot_ens93_hg19.csv')\n",
    "file_gene_HDs = get_local_data_path(['processed'], 'all_gene_HDs.csv')\n",
    "folder_hd_maps = lambda fname: get_local_data_path(['processed','HD_maps'], fname)\n",
    "file_unique_pairs = get_local_data_path(['processed', 'ensembl_93'], 'unique_pairs.csv')"
   ]
  },
  {
   "cell_type": "markdown",
   "metadata": {},
   "source": [
    "### Load annotated genes"
   ]
  },
  {
   "cell_type": "code",
   "execution_count": 3,
   "metadata": {},
   "outputs": [
    {
     "name": "stdout",
     "output_type": "stream",
     "text": [
      "N genes: 17572\n",
      "N TSG: 411\n",
      "N passenger genes: 16898\n",
      "Paralogs: 10588 = 62.66%\n"
     ]
    },
    {
     "data": {
      "text/html": [
       "<div>\n",
       "<style scoped>\n",
       "    .dataframe tbody tr th:only-of-type {\n",
       "        vertical-align: middle;\n",
       "    }\n",
       "\n",
       "    .dataframe tbody tr th {\n",
       "        vertical-align: top;\n",
       "    }\n",
       "\n",
       "    .dataframe thead th {\n",
       "        text-align: right;\n",
       "    }\n",
       "</style>\n",
       "<table border=\"1\" class=\"dataframe\">\n",
       "  <thead>\n",
       "    <tr style=\"text-align: right;\">\n",
       "      <th></th>\n",
       "      <th>symbol</th>\n",
       "      <th>entrez_id</th>\n",
       "      <th>ensembl_id</th>\n",
       "      <th>chr</th>\n",
       "      <th>cds_from</th>\n",
       "      <th>cds_to</th>\n",
       "      <th>ccds_id</th>\n",
       "      <th>cds_len</th>\n",
       "      <th>cds_mid</th>\n",
       "      <th>n_paralogs</th>\n",
       "      <th>...</th>\n",
       "      <th>depmap_ess</th>\n",
       "      <th>depmap_ess_cat</th>\n",
       "      <th>ess_gt</th>\n",
       "      <th>ess_3D</th>\n",
       "      <th>TSG_CGC</th>\n",
       "      <th>TSG_Bailey</th>\n",
       "      <th>TSG</th>\n",
       "      <th>OG</th>\n",
       "      <th>within_driver</th>\n",
       "      <th>outside_bounds</th>\n",
       "    </tr>\n",
       "  </thead>\n",
       "  <tbody>\n",
       "    <tr>\n",
       "      <th>0</th>\n",
       "      <td>A1BG</td>\n",
       "      <td>1</td>\n",
       "      <td>ENSG00000121410</td>\n",
       "      <td>19</td>\n",
       "      <td>58858387</td>\n",
       "      <td>58864802</td>\n",
       "      <td>CCDS12976</td>\n",
       "      <td>6415</td>\n",
       "      <td>58861594.5</td>\n",
       "      <td>NaN</td>\n",
       "      <td>...</td>\n",
       "      <td>False</td>\n",
       "      <td>never</td>\n",
       "      <td>False</td>\n",
       "      <td>False</td>\n",
       "      <td>False</td>\n",
       "      <td>False</td>\n",
       "      <td>False</td>\n",
       "      <td>False</td>\n",
       "      <td>False</td>\n",
       "      <td>False</td>\n",
       "    </tr>\n",
       "  </tbody>\n",
       "</table>\n",
       "<p>1 rows × 23 columns</p>\n",
       "</div>"
      ],
      "text/plain": [
       "  symbol  entrez_id       ensembl_id  chr  cds_from    cds_to    ccds_id  \\\n",
       "0   A1BG          1  ENSG00000121410   19  58858387  58864802  CCDS12976   \n",
       "\n",
       "   cds_len     cds_mid  n_paralogs  ... depmap_ess  depmap_ess_cat  ess_gt  \\\n",
       "0     6415  58861594.5         NaN  ...      False           never   False   \n",
       "\n",
       "  ess_3D TSG_CGC TSG_Bailey    TSG     OG  within_driver  outside_bounds  \n",
       "0  False   False      False  False  False          False           False  \n",
       "\n",
       "[1 rows x 23 columns]"
      ]
     },
     "metadata": {},
     "output_type": "display_data"
    }
   ],
   "source": [
    "genes = pd.read_csv(file_annot_genes)\n",
    "passenger_genes = genes[~genes.TSG & ~genes.within_driver & ~genes.outside_bounds & ~genes.OG]\n",
    "print('N genes:', genes.shape[0])\n",
    "print('N TSG:', sum(genes.TSG))\n",
    "print('N passenger genes:', passenger_genes.shape[0])\n",
    "print('Paralogs: %d = %.2f%%' % (sum(passenger_genes.paralog), sum(passenger_genes.paralog)/passenger_genes.shape[0]*100))\n",
    "display(genes[:1])"
   ]
  },
  {
   "cell_type": "markdown",
   "metadata": {},
   "source": [
    "### HDs per gene (across both cohorts)"
   ]
  },
  {
   "cell_type": "code",
   "execution_count": 4,
   "metadata": {},
   "outputs": [],
   "source": [
    "all_gene_hds = pd.read_csv(file_gene_HDs)\n",
    "passenger_hds = all_gene_hds[all_gene_hds.symbol.isin(passenger_genes.symbol)].reset_index(drop=True)"
   ]
  },
  {
   "cell_type": "markdown",
   "metadata": {},
   "source": [
    "### Compute paralog features"
   ]
  },
  {
   "cell_type": "code",
   "execution_count": 4,
   "metadata": {},
   "outputs": [],
   "source": [
    "def get_paralog_dels(passenger_hds):\n",
    "    dels = passenger_hds[passenger_hds.paralog].reset_index(drop=True)\n",
    "    dels['big_family'] = dels.n_paralogs>3\n",
    "    return dels\n",
    "\n",
    "paralog_hds = get_paralog_dels(passenger_hds)"
   ]
  },
  {
   "cell_type": "code",
   "execution_count": 19,
   "metadata": {},
   "outputs": [],
   "source": [
    "def draw_feature_box_plot(paralog_hds, ax, feature, label='', title='', bins=['0','1+','3+'], fraction=0.05):\n",
    "    df = pd.concat([au.compute_bin(paralog_hds, b, 'n_del').assign(del_bin=b) for b in bins])\n",
    "    mwu1 = stats.mannwhitneyu(df[df.del_bin=='1+'][feature], df[df.del_bin=='0'][feature], alternative='two-sided')[1]\n",
    "    mwu2 = stats.mannwhitneyu(df[df.del_bin=='3+'][feature], df[df.del_bin=='0'][feature], alternative='two-sided')[1]\n",
    "    print('%.3e, %.3e' % (mwu1, mwu2))\n",
    "    if feature=='n_paralogs':\n",
    "        df[feature] = df[feature].clip(upper=25)\n",
    "    ypos = df[feature].max(); ydiff = (df[feature].max()-df[feature].min())*fraction\n",
    "    gp.draw_signif_MW(0, 1, ypos+ydiff, mwu1, ax, yoffset=ydiff, star=True)\n",
    "    gp.draw_signif_MW(0, 2, ypos+ydiff*3.5, mwu2, ax, yoffset=ydiff, star=True)\n",
    "    sns.boxplot(data=df, x='del_bin', y=feature, **gp.get_boxplot_props(), showmeans=False,\n",
    "                ax=ax, palette=sns.color_palette('Blues',4))\n",
    "    ax.set_xlabel('Samples with\\ngene HD'); ax.set_ylabel(label);"
   ]
  },
  {
   "cell_type": "code",
   "execution_count": 121,
   "metadata": {},
   "outputs": [],
   "source": [
    "def draw_feature_bar_plot(paralog_hds, feature, ylabel, ax, y1, y2, yoffset=4):\n",
    "    df = pd.concat([au.compute_bin(paralog_hds, b, 'n_del').assign(hd_bin=b) for b in ['0','1+','3+']])\n",
    "    # 0 vs. 1+\n",
    "    OR1,p1 = stats.fisher_exact(pd.crosstab(paralog_hds[feature], paralog_hds.n_del>0), alternative='two-sided')\n",
    "    print(OR1,p1)\n",
    "    # 0 vs. 3+\n",
    "    OR2,p2 = stats.fisher_exact(pd.crosstab(df[df.hd_bin.isin(['0','3+'])][feature], \n",
    "                                            df[df.hd_bin.isin(['0','3+'])].n_del>2), alternative='two-sided')\n",
    "    print(OR2,p2)\n",
    "    \n",
    "    tab = df.groupby('hd_bin')[feature].apply(lambda x: sum(x))/df.groupby('hd_bin').size()*100\n",
    "    tab.plot.bar(ax=ax, color=sns.color_palette('Blues',4), width=0.84, rot=0)\n",
    "    \n",
    "    ax.axhline(sum(paralog_hds[feature])/paralog_hds.shape[0]*100, color='k', linestyle='--')\n",
    "    gp.set_axis_props(ax, ylabel=ylabel, xlabel='Samples with\\ngene HD')\n",
    "    gp.draw_signif_FET(0,1,y1,y1, OR1, p1, ax, yoffset=yoffset, color='#666', alpha='')\n",
    "    gp.draw_signif_FET(0,2,y2,y2, OR2, p2, ax, yoffset=yoffset, color='#666', alpha='')"
   ]
  },
  {
   "cell_type": "markdown",
   "metadata": {},
   "source": [
    "### Family size: big (4+ paralogs) vs. small family"
   ]
  },
  {
   "cell_type": "code",
   "execution_count": 122,
   "metadata": {},
   "outputs": [
    {
     "name": "stdout",
     "output_type": "stream",
     "text": [
      "1.2473082307407255 4.542521042606013e-08\n",
      "1.4150739342457135 6.133846899460498e-08\n"
     ]
    },
    {
     "data": {
      "image/png": "[encoded data removed]",
      "text/plain": [
       "<Figure size 175x217 with 1 Axes>"
      ]
     },
     "metadata": {},
     "output_type": "display_data"
    }
   ],
   "source": [
    "f, ax = plt.subplots(1, 1, figsize=(1.75,2.17), sharey=True)\n",
    "draw_feature_bar_plot(paralog_hds, 'big_family', '% from big family\\n(4+ paralogs)', ax, 45, 55)\n",
    "ax.set_ylim([0,60]); plt.tight_layout()\n",
    "plt.savefig('../figures/npar_bar.png', bbox_inches='tight', dpi=500)"
   ]
  },
  {
   "cell_type": "markdown",
   "metadata": {},
   "source": [
    "### Sequence identity"
   ]
  },
  {
   "cell_type": "code",
   "execution_count": 123,
   "metadata": {},
   "outputs": [
    {
     "name": "stdout",
     "output_type": "stream",
     "text": [
      "2.425e-06, 2.676e-09\n"
     ]
    },
    {
     "data": {
      "image/png": "[encoded data removed]",
      "text/plain": [
       "<Figure size 170x250 with 1 Axes>"
      ]
     },
     "metadata": {},
     "output_type": "display_data"
    }
   ],
   "source": [
    "f, ax = plt.subplots(1, 1, figsize=(1.7,2.5), sharey=True)\n",
    "draw_feature_box_plot(paralog_hds, ax, 'max_seq_id', label='Max. sequence identity')\n",
    "ax.set_ylim([0,100]); ax.set_yticks([0,25,50,75,100])\n",
    "plt.tight_layout()\n",
    "plt.savefig('../figures/seqid_box.png', bbox_inches='tight', dpi=500)"
   ]
  },
  {
   "cell_type": "code",
   "execution_count": 124,
   "metadata": {},
   "outputs": [
    {
     "name": "stdout",
     "output_type": "stream",
     "text": [
      "Mean seq id 0 HDs: 51.7%\n",
      "Mean seq id 1+ HDs: 53.7%\n",
      "Mean seq id 3+ HDs: 56.4%\n"
     ]
    }
   ],
   "source": [
    "print('Mean seq id 0 HDs: %.1f%%' % paralog_hds[paralog_hds.n_del==0].max_seq_id.mean())\n",
    "print('Mean seq id 1+ HDs: %.1f%%' % paralog_hds[paralog_hds.n_del>=1].max_seq_id.mean())\n",
    "print('Mean seq id 3+ HDs: %.1f%%' % paralog_hds[paralog_hds.n_del>=3].max_seq_id.mean())"
   ]
  },
  {
   "cell_type": "markdown",
   "metadata": {},
   "source": [
    "### Duplication mode: WGD vs. SSD"
   ]
  },
  {
   "cell_type": "code",
   "execution_count": 126,
   "metadata": {},
   "outputs": [
    {
     "name": "stdout",
     "output_type": "stream",
     "text": [
      "0.8691083507269433 0.0005002241127404752\n",
      "0.7871318473332335 0.0001834090468894712\n"
     ]
    },
    {
     "data": {
      "image/png": "[encoded data removed]",
      "text/plain": [
       "<Figure size 160x230 with 1 Axes>"
      ]
     },
     "metadata": {},
     "output_type": "display_data"
    }
   ],
   "source": [
    "f, ax = plt.subplots(1, 1, figsize=(1.6,2.3), sharey=True)\n",
    "draw_feature_bar_plot(paralog_hds, 'WGD', '% WGD', ax, 62, 75, yoffset=6)\n",
    "ax.set_ylim([0,80]); plt.tight_layout()\n",
    "plt.savefig('../figures/wgd_bar.png', bbox_inches='tight', dpi=500)"
   ]
  },
  {
   "cell_type": "markdown",
   "metadata": {},
   "source": [
    "### Paralog pair deletions"
   ]
  },
  {
   "cell_type": "code",
   "execution_count": 15,
   "metadata": {},
   "outputs": [],
   "source": [
    "tcga_hd_map = util.deserialize_map(folder_hd_maps('tcga_hd_map.csv'))"
   ]
  },
  {
   "cell_type": "code",
   "execution_count": 16,
   "metadata": {},
   "outputs": [],
   "source": [
    "tcga_hds = util.count_dels_per_gene(tcga_hd_map, passenger_genes)"
   ]
  },
  {
   "cell_type": "code",
   "execution_count": 17,
   "metadata": {},
   "outputs": [
    {
     "data": {
      "text/html": [
       "<div>\n",
       "<style scoped>\n",
       "    .dataframe tbody tr th:only-of-type {\n",
       "        vertical-align: middle;\n",
       "    }\n",
       "\n",
       "    .dataframe tbody tr th {\n",
       "        vertical-align: top;\n",
       "    }\n",
       "\n",
       "    .dataframe thead th {\n",
       "        text-align: right;\n",
       "    }\n",
       "</style>\n",
       "<table border=\"1\" class=\"dataframe\">\n",
       "  <thead>\n",
       "    <tr style=\"text-align: right;\">\n",
       "      <th></th>\n",
       "      <th>entrez_id</th>\n",
       "      <th>patient</th>\n",
       "    </tr>\n",
       "  </thead>\n",
       "  <tbody>\n",
       "    <tr>\n",
       "      <th>0</th>\n",
       "      <td>2</td>\n",
       "      <td>[TCGA-AX-A2H4, TCGA-EE-A29V]</td>\n",
       "    </tr>\n",
       "  </tbody>\n",
       "</table>\n",
       "</div>"
      ],
      "text/plain": [
       "   entrez_id                       patient\n",
       "0          2  [TCGA-AX-A2H4, TCGA-EE-A29V]"
      ]
     },
     "execution_count": 17,
     "metadata": {},
     "output_type": "execute_result"
    }
   ],
   "source": [
    "sample_gene_map = tcga_hd_map[['patient','chr','startpos','endpos','del_len','genes']].explode('genes')\\\n",
    "                          .rename(columns={'genes':'entrez_id'})\n",
    "sample_gene_map = sample_gene_map.groupby('entrez_id').agg({'patient':list}).reset_index()\n",
    "sample_gene_map[:1]"
   ]
  },
  {
   "cell_type": "markdown",
   "metadata": {},
   "source": [
    "#### Add deletion frequency for each gene, filtering to where both paralogs are passenger genes"
   ]
  },
  {
   "cell_type": "code",
   "execution_count": 45,
   "metadata": {},
   "outputs": [],
   "source": [
    "all_paralog_pairs = pd.read_csv(file_unique_pairs)"
   ]
  },
  {
   "cell_type": "code",
   "execution_count": 46,
   "metadata": {},
   "outputs": [
    {
     "name": "stdout",
     "output_type": "stream",
     "text": [
      "N paralog pairs where both are passenger genes: 22163 / 28568\n"
     ]
    },
    {
     "data": {
      "text/html": [
       "<div>\n",
       "<style scoped>\n",
       "    .dataframe tbody tr th:only-of-type {\n",
       "        vertical-align: middle;\n",
       "    }\n",
       "\n",
       "    .dataframe tbody tr th {\n",
       "        vertical-align: top;\n",
       "    }\n",
       "\n",
       "    .dataframe thead th {\n",
       "        text-align: right;\n",
       "    }\n",
       "</style>\n",
       "<table border=\"1\" class=\"dataframe\">\n",
       "  <thead>\n",
       "    <tr style=\"text-align: right;\">\n",
       "      <th></th>\n",
       "      <th>pair</th>\n",
       "      <th>min_seq_id</th>\n",
       "      <th>max_seq_id</th>\n",
       "      <th>WGD</th>\n",
       "      <th>same_chr</th>\n",
       "      <th>family_size</th>\n",
       "      <th>closest</th>\n",
       "      <th>A1</th>\n",
       "      <th>A2</th>\n",
       "      <th>A1_entrez</th>\n",
       "      <th>A1_chr</th>\n",
       "      <th>A2_entrez</th>\n",
       "      <th>A2_chr</th>\n",
       "      <th>A1_del</th>\n",
       "      <th>A2_del</th>\n",
       "    </tr>\n",
       "  </thead>\n",
       "  <tbody>\n",
       "    <tr>\n",
       "      <th>0</th>\n",
       "      <td>DND1_RBM46</td>\n",
       "      <td>21.2008</td>\n",
       "      <td>32.0113</td>\n",
       "      <td>True</td>\n",
       "      <td>False</td>\n",
       "      <td>6</td>\n",
       "      <td>False</td>\n",
       "      <td>DND1</td>\n",
       "      <td>RBM46</td>\n",
       "      <td>373863</td>\n",
       "      <td>5</td>\n",
       "      <td>166863</td>\n",
       "      <td>4</td>\n",
       "      <td>0</td>\n",
       "      <td>1</td>\n",
       "    </tr>\n",
       "  </tbody>\n",
       "</table>\n",
       "</div>"
      ],
      "text/plain": [
       "         pair  min_seq_id  max_seq_id   WGD  same_chr  family_size  closest  \\\n",
       "0  DND1_RBM46     21.2008     32.0113  True     False            6    False   \n",
       "\n",
       "     A1     A2  A1_entrez A1_chr  A2_entrez A2_chr  A1_del  A2_del  \n",
       "0  DND1  RBM46     373863      5     166863      4       0       1  "
      ]
     },
     "execution_count": 46,
     "metadata": {},
     "output_type": "execute_result"
    }
   ],
   "source": [
    "paralog_pairs = pd.merge(all_paralog_pairs, tcga_hds[['symbol','n_del']].rename(columns={'symbol':'A1','n_del':'A1_del'}))\n",
    "paralog_pairs = pd.merge(paralog_pairs, tcga_hds[['symbol','n_del']].rename(columns={'symbol':'A2','n_del':'A2_del'}))\n",
    "paralog_pairs = paralog_pairs.astype({'A1_del':int,'A2_del':int})\n",
    "print('N paralog pairs where both are passenger genes:', paralog_pairs.shape[0],'/',all_paralog_pairs.pair.nunique())\n",
    "paralog_pairs[:1]"
   ]
  },
  {
   "cell_type": "markdown",
   "metadata": {},
   "source": [
    "#### Identify samples in which both genes are deleted"
   ]
  },
  {
   "cell_type": "code",
   "execution_count": 47,
   "metadata": {},
   "outputs": [],
   "source": [
    "# Identify samples in which each genes is deleted\n",
    "pairs = pd.merge(paralog_pairs, sample_gene_map.rename(columns={'entrez_id':'A1_entrez','patient':'A1_samples'}), how='left')\n",
    "pairs = pd.merge(pairs, sample_gene_map.rename(columns={'entrez_id':'A2_entrez','patient':'A2_samples'}), how='left')\n",
    "pairs['A1_samples'] = pairs['A1_samples'].apply(lambda d: d if isinstance(d, list) else [])\n",
    "pairs['A2_samples'] = pairs['A2_samples'].apply(lambda d: d if isinstance(d, list) else [])\n",
    "pairs['intersect'] = pairs.apply(lambda x: len(set(x.A1_samples).intersection(set(x.A2_samples))), axis=1)"
   ]
  },
  {
   "cell_type": "code",
   "execution_count": 48,
   "metadata": {},
   "outputs": [
    {
     "name": "stdout",
     "output_type": "stream",
     "text": [
      "N paralog pairs where both genes are deleted in the same sample: 2088 / 22163\n",
      "N paralog pairs where both genes are deleted in the same sample, diff chr: 2 / 14844\n"
     ]
    },
    {
     "data": {
      "text/plain": [
       "array(['CD68_LAMP1', 'DYNLT2_DYNLT5'], dtype=object)"
      ]
     },
     "execution_count": 48,
     "metadata": {},
     "output_type": "execute_result"
    }
   ],
   "source": [
    "print('N paralog pairs where both genes are deleted in the same sample:', pairs[pairs.intersect>0].shape[0],'/',pairs.shape[0])\n",
    "print('N paralog pairs where both genes are deleted in the same sample, diff chr:', \n",
    "      pairs[(pairs.same_chr==False) & (pairs.intersect>0)].shape[0], '/', pairs[pairs.same_chr==False].shape[0])\n",
    "pairs[(pairs.same_chr==False)&(pairs.intersect>0)].drop(columns=['A1_samples','A2_samples']).pair.unique()"
   ]
  },
  {
   "cell_type": "code",
   "execution_count": 49,
   "metadata": {},
   "outputs": [
    {
     "data": {
      "image/png": "[encoded data removed]",
      "text/plain": [
       "<Figure size 150x210 with 1 Axes>"
      ]
     },
     "metadata": {},
     "output_type": "display_data"
    }
   ],
   "source": [
    "# Co-deleted pairs on same chr\n",
    "f, ax = plt.subplots(1, 1, figsize=(1.5, 2.1))\n",
    "df = pairs.assign(codel = (pairs.intersect>0))\n",
    "df = df[df.same_chr]\n",
    "p=stats.mannwhitneyu(df[df.codel].family_size, df[~df.codel].family_size)[1]\n",
    "sns.boxplot(data=df, x='codel', y='family_size', **gp.get_boxplot_props(), ax=ax)\n",
    "ax.set_xticklabels(['False\\nn='+str(df[~df.codel].shape[0]), 'True\\nn='+str(df[df.codel].shape[0])])\n",
    "gp.set_axis_props(ax, xlabel='Co-deleted pair', xtick_fontsize=8, ylabel='Family size')\n",
    "gp.draw_signif_MW(0,1,52,p,ax)\n",
    "plt.tight_layout()"
   ]
  },
  {
   "cell_type": "markdown",
   "metadata": {},
   "source": [
    "#### Shuffle pairs"
   ]
  },
  {
   "cell_type": "code",
   "execution_count": 50,
   "metadata": {},
   "outputs": [],
   "source": [
    "# Shuffle A2s\n",
    "res = []\n",
    "for n in range(0,1000):\n",
    "    shufpairs = pd.concat([pairs[['A1_samples','A1_chr']].reset_index(drop=True), \n",
    "                           pairs[['A2_samples','A2_chr']].sample(n=pairs.shape[0],replace=False).reset_index(drop=True)],axis=1)\n",
    "    shufpairs = shufpairs[shufpairs.A1_chr!=shufpairs.A2_chr]\n",
    "    shufpairs['intersect'] = shufpairs.apply(lambda x: len(set(x.A1_samples).intersection(set(x.A2_samples))), axis=1)\n",
    "    res.append(shufpairs[(shufpairs.intersect>0)].shape[0]/shufpairs.shape[0])"
   ]
  },
  {
   "cell_type": "code",
   "execution_count": 51,
   "metadata": {},
   "outputs": [],
   "source": [
    "pd.Series(res).to_csv(get_local_data_path(['processed','TCGA'],\"shuffled_pairs_percent_codel.csv\"))"
   ]
  },
  {
   "cell_type": "code",
   "execution_count": 55,
   "metadata": {},
   "outputs": [],
   "source": [
    "res = pd.read_csv(get_local_data_path(['processed','TCGA'],\"shuffled_pairs_percent_codel.csv\"), index_col=0).iloc[:,0]"
   ]
  },
  {
   "cell_type": "code",
   "execution_count": 56,
   "metadata": {},
   "outputs": [
    {
     "data": {
      "image/png": "[encoded data removed]",
      "text/plain": [
       "<Figure size 300x150 with 1 Axes>"
      ]
     },
     "metadata": {},
     "output_type": "display_data"
    }
   ],
   "source": [
    "f, ax = plt.subplots(1, 1, figsize=(3, 1.5))\n",
    "sns.histplot(res*100, ax=ax, color='#ddd'); \n",
    "ax.axvline((2/14844)*100, linestyle='--', color=gp.get_color('dark-orange'))\n",
    "ax.set_xlabel('% of diff chrom. paralog pairs co-deleted');"
   ]
  }
 ],
 "metadata": {
  "kernelspec": {
   "display_name": "ParalogHDs",
   "language": "python",
   "name": "paraloghds"
  },
  "language_info": {
   "codemirror_mode": {
    "name": "ipython",
    "version": 3
   },
   "file_extension": ".py",
   "mimetype": "text/x-python",
   "name": "python",
   "nbconvert_exporter": "python",
   "pygments_lexer": "ipython3",
   "version": "3.7.13"
  }
 },
 "nbformat": 4,
 "nbformat_minor": 2
}
