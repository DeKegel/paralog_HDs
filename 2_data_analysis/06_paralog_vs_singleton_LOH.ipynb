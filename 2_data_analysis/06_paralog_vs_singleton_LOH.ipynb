{
 "cells": [
  {
   "cell_type": "markdown",
   "metadata": {},
   "source": [
    "## Paralog vs. singleton hemizygous deletions (LOH)"
   ]
  },
  {
   "cell_type": "code",
   "execution_count": 1,
   "metadata": {},
   "outputs": [],
   "source": [
    "import pandas as pd\n",
    "import os\n",
    "import numpy as np\n",
    "import scipy.stats as stats\n",
    "import seaborn as sns\n",
    "import matplotlib.pyplot as plt\n",
    "import random\n",
    "from math import floor\n",
    "import itertools\n",
    "import re\n",
    "import sys\n",
    "sys.path.append(\"../1_data_processing\")\n",
    "import warnings\n",
    "warnings.simplefilter(\"ignore\")\n",
    "\n",
    "import graphing_params as gp\n",
    "import processing_utils as util\n",
    "import analysis_utils as au\n",
    "%load_ext autoreload\n",
    "%autoreload 1\n",
    "%aimport graphing_params\n",
    "%aimport processing_utils\n",
    "%aimport analysis_utils\n",
    "\n",
    "get_data_path = lambda folders, fname: os.path.normpath(os.environ['THIRD_PARTY_DIR']+'/'+'/'.join(folders) +'/'+fname)\n",
    "get_local_data_path = lambda folders, fname: os.path.normpath('../local_data/' +'/'.join(folders) +'/'+ fname)\n",
    "get_fig_path = lambda fname: os.path.normpath('../figures/' + fname)\n",
    "\n",
    "file_annot_genes = get_local_data_path(['processed'], 'HGNC_gene_annot_ens93_hg19.csv')\n",
    "file_chrom_info = get_local_data_path(['processed'], 'hg19_chrom_info.csv')\n",
    "\n",
    "file_tcga_loh = get_local_data_path(['processed','TCGA','ASCAT'], 'LOH.csv')\n",
    "file_icgc_loh = get_local_data_path(['processed','ICGC'], 'LOH.csv')\n",
    "\n",
    "# Output\n",
    "file_tcga_loh_map = get_local_data_path(['processed','TCGA','ASCAT'], 'LOH_map.csv')"
   ]
  },
  {
   "cell_type": "markdown",
   "metadata": {},
   "source": [
    "### Load annotated genes + CCDS for those genes"
   ]
  },
  {
   "cell_type": "code",
   "execution_count": 2,
   "metadata": {},
   "outputs": [
    {
     "name": "stdout",
     "output_type": "stream",
     "text": [
      "N genes: 17572\n",
      "N passenger genes: 16898\n",
      "Paralogs: 10588 = 62.66%\n"
     ]
    },
    {
     "data": {
      "text/html": [
       "<div>\n",
       "<style scoped>\n",
       "    .dataframe tbody tr th:only-of-type {\n",
       "        vertical-align: middle;\n",
       "    }\n",
       "\n",
       "    .dataframe tbody tr th {\n",
       "        vertical-align: top;\n",
       "    }\n",
       "\n",
       "    .dataframe thead th {\n",
       "        text-align: right;\n",
       "    }\n",
       "</style>\n",
       "<table border=\"1\" class=\"dataframe\">\n",
       "  <thead>\n",
       "    <tr style=\"text-align: right;\">\n",
       "      <th></th>\n",
       "      <th>symbol</th>\n",
       "      <th>entrez_id</th>\n",
       "      <th>ensembl_id</th>\n",
       "      <th>chr</th>\n",
       "      <th>cds_from</th>\n",
       "      <th>cds_to</th>\n",
       "      <th>ccds_id</th>\n",
       "      <th>cds_len</th>\n",
       "      <th>cds_mid</th>\n",
       "      <th>n_paralogs</th>\n",
       "      <th>...</th>\n",
       "      <th>depmap_ess</th>\n",
       "      <th>depmap_ess_cat</th>\n",
       "      <th>ess_gt</th>\n",
       "      <th>ess_3D</th>\n",
       "      <th>TSG_CGC</th>\n",
       "      <th>TSG_Bailey</th>\n",
       "      <th>TSG</th>\n",
       "      <th>OG</th>\n",
       "      <th>within_driver</th>\n",
       "      <th>outside_bounds</th>\n",
       "    </tr>\n",
       "  </thead>\n",
       "  <tbody>\n",
       "    <tr>\n",
       "      <th>0</th>\n",
       "      <td>A1BG</td>\n",
       "      <td>1</td>\n",
       "      <td>ENSG00000121410</td>\n",
       "      <td>19</td>\n",
       "      <td>58858387</td>\n",
       "      <td>58864802</td>\n",
       "      <td>CCDS12976</td>\n",
       "      <td>6415</td>\n",
       "      <td>58861594.5</td>\n",
       "      <td>NaN</td>\n",
       "      <td>...</td>\n",
       "      <td>False</td>\n",
       "      <td>never</td>\n",
       "      <td>False</td>\n",
       "      <td>False</td>\n",
       "      <td>False</td>\n",
       "      <td>False</td>\n",
       "      <td>False</td>\n",
       "      <td>False</td>\n",
       "      <td>False</td>\n",
       "      <td>False</td>\n",
       "    </tr>\n",
       "  </tbody>\n",
       "</table>\n",
       "<p>1 rows × 23 columns</p>\n",
       "</div>"
      ],
      "text/plain": [
       "  symbol  entrez_id       ensembl_id  chr  cds_from    cds_to    ccds_id  \\\n",
       "0   A1BG          1  ENSG00000121410   19  58858387  58864802  CCDS12976   \n",
       "\n",
       "   cds_len     cds_mid  n_paralogs  ... depmap_ess  depmap_ess_cat  ess_gt  \\\n",
       "0     6415  58861594.5         NaN  ...      False           never   False   \n",
       "\n",
       "  ess_3D TSG_CGC TSG_Bailey    TSG     OG  within_driver  outside_bounds  \n",
       "0  False   False      False  False  False          False           False  \n",
       "\n",
       "[1 rows x 23 columns]"
      ]
     },
     "metadata": {},
     "output_type": "display_data"
    }
   ],
   "source": [
    "genes = pd.read_csv(file_annot_genes)\n",
    "passenger_genes = genes[~genes.TSG & ~genes.OG & ~genes.within_driver & ~genes.outside_bounds]\n",
    "print('N genes:', genes.shape[0])\n",
    "print('N passenger genes:', passenger_genes.shape[0])\n",
    "print('Paralogs: %d = %.2f%%' % (sum(passenger_genes.paralog), \n",
    "                                 sum(passenger_genes.paralog)/passenger_genes.shape[0]*100))\n",
    "display(genes[:1])"
   ]
  },
  {
   "cell_type": "markdown",
   "metadata": {},
   "source": [
    "### Loss-of-Heterozygosity\n",
    "\n",
    "### 1. TCGA"
   ]
  },
  {
   "cell_type": "code",
   "execution_count": 3,
   "metadata": {},
   "outputs": [],
   "source": [
    "tcga_loh_segments = pd.read_csv(file_tcga_loh)"
   ]
  },
  {
   "cell_type": "code",
   "execution_count": 4,
   "metadata": {},
   "outputs": [],
   "source": [
    "assert(tcga_loh_segments[~((tcga_loh_segments.nMinor==0) & (tcga_loh_segments.nMajor>=1))].shape[0]==0)"
   ]
  },
  {
   "cell_type": "code",
   "execution_count": 5,
   "metadata": {},
   "outputs": [
    {
     "name": "stdout",
     "output_type": "stream",
     "text": [
      "N samples w/ any LOH: 9713\n"
     ]
    },
    {
     "data": {
      "text/html": [
       "<div>\n",
       "<style scoped>\n",
       "    .dataframe tbody tr th:only-of-type {\n",
       "        vertical-align: middle;\n",
       "    }\n",
       "\n",
       "    .dataframe tbody tr th {\n",
       "        vertical-align: top;\n",
       "    }\n",
       "\n",
       "    .dataframe thead th {\n",
       "        text-align: right;\n",
       "    }\n",
       "</style>\n",
       "<table border=\"1\" class=\"dataframe\">\n",
       "  <thead>\n",
       "    <tr style=\"text-align: right;\">\n",
       "      <th></th>\n",
       "      <th>name</th>\n",
       "      <th>patient</th>\n",
       "      <th>ploidy</th>\n",
       "      <th>chr</th>\n",
       "      <th>startpos</th>\n",
       "      <th>endpos</th>\n",
       "      <th>nMajor</th>\n",
       "      <th>nMinor</th>\n",
       "      <th>del_len</th>\n",
       "    </tr>\n",
       "  </thead>\n",
       "  <tbody>\n",
       "    <tr>\n",
       "      <th>0</th>\n",
       "      <td>TCGA-02-0001</td>\n",
       "      <td>TCGA-02-0001</td>\n",
       "      <td>2.3329</td>\n",
       "      <td>1</td>\n",
       "      <td>74386991</td>\n",
       "      <td>75378041</td>\n",
       "      <td>2</td>\n",
       "      <td>0</td>\n",
       "      <td>991050</td>\n",
       "    </tr>\n",
       "  </tbody>\n",
       "</table>\n",
       "</div>"
      ],
      "text/plain": [
       "           name       patient  ploidy  chr  startpos    endpos  nMajor  \\\n",
       "0  TCGA-02-0001  TCGA-02-0001  2.3329    1  74386991  75378041       2   \n",
       "\n",
       "   nMinor  del_len  \n",
       "0       0   991050  "
      ]
     },
     "metadata": {},
     "output_type": "display_data"
    }
   ],
   "source": [
    "print('N samples w/ any LOH:', tcga_loh_segments['patient'].nunique())\n",
    "display(tcga_loh_segments[:1])"
   ]
  },
  {
   "cell_type": "markdown",
   "metadata": {},
   "source": [
    "#### Annotate focal LOH (length <= 0.5 of arm length)"
   ]
  },
  {
   "cell_type": "code",
   "execution_count": 6,
   "metadata": {},
   "outputs": [
    {
     "data": {
      "text/html": [
       "<div>\n",
       "<style scoped>\n",
       "    .dataframe tbody tr th:only-of-type {\n",
       "        vertical-align: middle;\n",
       "    }\n",
       "\n",
       "    .dataframe tbody tr th {\n",
       "        vertical-align: top;\n",
       "    }\n",
       "\n",
       "    .dataframe thead th {\n",
       "        text-align: right;\n",
       "    }\n",
       "</style>\n",
       "<table border=\"1\" class=\"dataframe\">\n",
       "  <thead>\n",
       "    <tr style=\"text-align: right;\">\n",
       "      <th></th>\n",
       "      <th>chr</th>\n",
       "      <th>centStart</th>\n",
       "      <th>centEnd</th>\n",
       "      <th>size</th>\n",
       "      <th>half_arm1_len</th>\n",
       "      <th>half_arm2_len</th>\n",
       "    </tr>\n",
       "  </thead>\n",
       "  <tbody>\n",
       "    <tr>\n",
       "      <th>0</th>\n",
       "      <td>1</td>\n",
       "      <td>121535434</td>\n",
       "      <td>124535434</td>\n",
       "      <td>249250621</td>\n",
       "      <td>60767717.0</td>\n",
       "      <td>62357593.5</td>\n",
       "    </tr>\n",
       "  </tbody>\n",
       "</table>\n",
       "</div>"
      ],
      "text/plain": [
       "   chr  centStart    centEnd       size  half_arm1_len  half_arm2_len\n",
       "0    1  121535434  124535434  249250621     60767717.0     62357593.5"
      ]
     },
     "execution_count": 6,
     "metadata": {},
     "output_type": "execute_result"
    }
   ],
   "source": [
    "chrom_info = pd.read_csv(file_chrom_info)\n",
    "chrom_info = chrom_info[~chrom_info.chr.isin(['X','Y'])].astype({'chr':int})\n",
    "chrom_info['half_arm1_len'] = chrom_info['centStart'] * 0.5\n",
    "chrom_info['half_arm2_len'] = (chrom_info['size'] - chrom_info['centEnd']) * 0.5\n",
    "chrom_info[:1]"
   ]
  },
  {
   "cell_type": "code",
   "execution_count": 7,
   "metadata": {},
   "outputs": [],
   "source": [
    "tcga_loh_segments = pd.merge(tcga_loh_segments, chrom_info[['chr','centEnd','half_arm1_len','half_arm2_len']])\n",
    "tcga_loh_segments['focal'] = tcga_loh_segments.apply(\n",
    "    lambda x: x.del_len < x.half_arm1_len if x.endpos < x.centEnd else x.del_len < x.half_arm2_len, axis=1)\n",
    "tcga_loh_segments = tcga_loh_segments.drop(columns=['centEnd','half_arm1_len','half_arm2_len'])"
   ]
  },
  {
   "cell_type": "code",
   "execution_count": 8,
   "metadata": {},
   "outputs": [
    {
     "data": {
      "text/html": [
       "<div>\n",
       "<style scoped>\n",
       "    .dataframe tbody tr th:only-of-type {\n",
       "        vertical-align: middle;\n",
       "    }\n",
       "\n",
       "    .dataframe tbody tr th {\n",
       "        vertical-align: top;\n",
       "    }\n",
       "\n",
       "    .dataframe thead th {\n",
       "        text-align: right;\n",
       "    }\n",
       "</style>\n",
       "<table border=\"1\" class=\"dataframe\">\n",
       "  <thead>\n",
       "    <tr style=\"text-align: right;\">\n",
       "      <th></th>\n",
       "      <th>name</th>\n",
       "      <th>patient</th>\n",
       "      <th>ploidy</th>\n",
       "      <th>chr</th>\n",
       "      <th>startpos</th>\n",
       "      <th>endpos</th>\n",
       "      <th>nMajor</th>\n",
       "      <th>nMinor</th>\n",
       "      <th>del_len</th>\n",
       "      <th>focal</th>\n",
       "    </tr>\n",
       "  </thead>\n",
       "  <tbody>\n",
       "    <tr>\n",
       "      <th>0</th>\n",
       "      <td>TCGA-02-0001</td>\n",
       "      <td>TCGA-02-0001</td>\n",
       "      <td>2.3329</td>\n",
       "      <td>1</td>\n",
       "      <td>74386991</td>\n",
       "      <td>75378041</td>\n",
       "      <td>2</td>\n",
       "      <td>0</td>\n",
       "      <td>991050</td>\n",
       "      <td>True</td>\n",
       "    </tr>\n",
       "  </tbody>\n",
       "</table>\n",
       "</div>"
      ],
      "text/plain": [
       "           name       patient  ploidy  chr  startpos    endpos  nMajor  \\\n",
       "0  TCGA-02-0001  TCGA-02-0001  2.3329    1  74386991  75378041       2   \n",
       "\n",
       "   nMinor  del_len  focal  \n",
       "0       0   991050   True  "
      ]
     },
     "execution_count": 8,
     "metadata": {},
     "output_type": "execute_result"
    }
   ],
   "source": [
    "tcga_loh_segments[:1]"
   ]
  },
  {
   "cell_type": "code",
   "execution_count": 9,
   "metadata": {
    "scrolled": true
   },
   "outputs": [
    {
     "data": {
      "image/png": "[encoded data removed]",
      "text/plain": [
       "<Figure size 150x200 with 1 Axes>"
      ]
     },
     "metadata": {},
     "output_type": "display_data"
    }
   ],
   "source": [
    "f, ax = plt.subplots(1, 1, figsize=(1.5, 2))\n",
    "sns.boxplot(y=tcga_loh_segments.del_len/1000000, x=tcga_loh_segments.focal, showfliers=False, **gp.get_boxplot_props())\n",
    "ax.set_ylabel('LOH segment length (Mb)'); ax.set_xlabel('Focal')\n",
    "plt.tight_layout()"
   ]
  },
  {
   "cell_type": "markdown",
   "metadata": {},
   "source": [
    "#### Map segments to genes"
   ]
  },
  {
   "cell_type": "code",
   "execution_count": 10,
   "metadata": {},
   "outputs": [],
   "source": [
    "tcga_loh_map = util.map_segments_to_genes(tcga_loh_segments, passenger_genes, overlap_func=util.map_segment_full)"
   ]
  },
  {
   "cell_type": "code",
   "execution_count": 11,
   "metadata": {},
   "outputs": [],
   "source": [
    "util.serialize_map(tcga_loh_map[tcga_loh_map.del_len>0], file_tcga_loh_map)"
   ]
  },
  {
   "cell_type": "code",
   "execution_count": 12,
   "metadata": {},
   "outputs": [],
   "source": [
    "# Load from file\n",
    "tcga_loh_map = util.deserialize_map(file_tcga_loh_map)"
   ]
  },
  {
   "cell_type": "code",
   "execution_count": 13,
   "metadata": {},
   "outputs": [
    {
     "data": {
      "text/html": [
       "<div>\n",
       "<style scoped>\n",
       "    .dataframe tbody tr th:only-of-type {\n",
       "        vertical-align: middle;\n",
       "    }\n",
       "\n",
       "    .dataframe tbody tr th {\n",
       "        vertical-align: top;\n",
       "    }\n",
       "\n",
       "    .dataframe thead th {\n",
       "        text-align: right;\n",
       "    }\n",
       "</style>\n",
       "<table border=\"1\" class=\"dataframe\">\n",
       "  <thead>\n",
       "    <tr style=\"text-align: right;\">\n",
       "      <th></th>\n",
       "      <th>name</th>\n",
       "      <th>patient</th>\n",
       "      <th>ploidy</th>\n",
       "      <th>chr</th>\n",
       "      <th>startpos</th>\n",
       "      <th>endpos</th>\n",
       "      <th>nMajor</th>\n",
       "      <th>nMinor</th>\n",
       "      <th>del_len</th>\n",
       "      <th>focal</th>\n",
       "      <th>genes</th>\n",
       "    </tr>\n",
       "  </thead>\n",
       "  <tbody>\n",
       "    <tr>\n",
       "      <th>0</th>\n",
       "      <td>TCGA-02-0001</td>\n",
       "      <td>TCGA-02-0001</td>\n",
       "      <td>2.3329</td>\n",
       "      <td>1</td>\n",
       "      <td>74386991</td>\n",
       "      <td>75378041</td>\n",
       "      <td>2</td>\n",
       "      <td>0</td>\n",
       "      <td>991050</td>\n",
       "      <td>True</td>\n",
       "      <td>[1429, 127254, 8790, 127255, 51086, 127253]</td>\n",
       "    </tr>\n",
       "    <tr>\n",
       "      <th>1</th>\n",
       "      <td>TCGA-02-0007</td>\n",
       "      <td>TCGA-02-0007</td>\n",
       "      <td>1.8988</td>\n",
       "      <td>1</td>\n",
       "      <td>203068384</td>\n",
       "      <td>205477439</td>\n",
       "      <td>16</td>\n",
       "      <td>0</td>\n",
       "      <td>2409055</td>\n",
       "      <td>True</td>\n",
       "      <td>[134, 493, 1116, 1118, 6900, 25778, 55224, 233...</td>\n",
       "    </tr>\n",
       "  </tbody>\n",
       "</table>\n",
       "</div>"
      ],
      "text/plain": [
       "           name       patient  ploidy  chr   startpos     endpos  nMajor  \\\n",
       "0  TCGA-02-0001  TCGA-02-0001  2.3329    1   74386991   75378041       2   \n",
       "1  TCGA-02-0007  TCGA-02-0007  1.8988    1  203068384  205477439      16   \n",
       "\n",
       "   nMinor  del_len  focal                                              genes  \n",
       "0       0   991050   True        [1429, 127254, 8790, 127255, 51086, 127253]  \n",
       "1       0  2409055   True  [134, 493, 1116, 1118, 6900, 25778, 55224, 233...  "
      ]
     },
     "execution_count": 13,
     "metadata": {},
     "output_type": "execute_result"
    }
   ],
   "source": [
    "tcga_loh_map[:2]"
   ]
  },
  {
   "cell_type": "code",
   "execution_count": 14,
   "metadata": {},
   "outputs": [
    {
     "name": "stdout",
     "output_type": "stream",
     "text": [
      "N samples w/ LOH genes: 9624\n",
      "N samples w/ focal LOH genes: 8878\n"
     ]
    }
   ],
   "source": [
    "print('N samples w/ LOH genes:', \n",
    "      tcga_loh_map[tcga_loh_map.genes.apply(lambda x: len(x)>0)]['patient'].nunique())\n",
    "print('N samples w/ focal LOH genes:', \n",
    "      tcga_loh_map[tcga_loh_map.focal & tcga_loh_map.genes.apply(lambda x: len(x)>0)]['patient'].nunique())"
   ]
  },
  {
   "cell_type": "code",
   "execution_count": 15,
   "metadata": {},
   "outputs": [
    {
     "data": {
      "image/png": "[encoded data removed]",
      "text/plain": [
       "<Figure size 330x150 with 1 Axes>"
      ]
     },
     "metadata": {},
     "output_type": "display_data"
    }
   ],
   "source": [
    "f, ax = plt.subplots(1, 1, figsize=(3.3, 1.5))\n",
    "c = gp.get_color('blue')\n",
    "df = util.count_dels_per_sample(tcga_loh_map[tcga_loh_map.focal], 'patient')\n",
    "sns.kdeplot(df.n_genes, ax=ax, color=c, fill=True, lw=0, alpha=.5, clip=(0,13000))\n",
    "ax.set_xlim([0,14000])\n",
    "gp.set_axis_props(ax, xlabel='N. LOH genes per sample', show_yticklabels=False); plt.tight_layout()"
   ]
  },
  {
   "cell_type": "markdown",
   "metadata": {},
   "source": [
    "#### Hemizygous deletions (LOH) per gene"
   ]
  },
  {
   "cell_type": "code",
   "execution_count": 16,
   "metadata": {},
   "outputs": [],
   "source": [
    "tcga_loh = util.count_dels_per_gene(tcga_loh_map, passenger_genes)"
   ]
  },
  {
   "cell_type": "code",
   "execution_count": 17,
   "metadata": {},
   "outputs": [],
   "source": [
    "tcga_focal_loh = util.count_dels_per_gene(tcga_loh_map[tcga_loh_map.focal], passenger_genes)"
   ]
  },
  {
   "cell_type": "code",
   "execution_count": 21,
   "metadata": {},
   "outputs": [],
   "source": [
    "tcga_copy_loss_loh = util.count_dels_per_gene(tcga_loh_map[tcga_loh_map.nMajor==1], passenger_genes)"
   ]
  },
  {
   "cell_type": "code",
   "execution_count": 25,
   "metadata": {},
   "outputs": [],
   "source": [
    "tcga_copy_neut_loh = util.count_dels_per_gene(tcga_loh_map[tcga_loh_map.nMajor==2], passenger_genes)"
   ]
  },
  {
   "cell_type": "code",
   "execution_count": 18,
   "metadata": {},
   "outputs": [],
   "source": [
    "def draw_loh_boxplot(df, ax, title, offset, ylab=True):\n",
    "    print('Median num samples w/ LOH: paralog=%d, singleton=%d' % \n",
    "          (df[df.paralog].n_del.median(), df[~df.paralog].n_del.median()))\n",
    "    p=stats.mannwhitneyu(df[df.paralog].n_del, df[~df.paralog].n_del, alternative='two-sided')[1]\n",
    "    sns.boxplot(data=df, x='paralog', y='n_del', ax=ax, **gp.get_boxplot_props(), showfliers=True, palette=['#ddd','#888'])\n",
    "    gp.set_axis_props(ax, xlabel='Paralog', ylabel=('Samples w/ gene LOH' if ylab else ''), title=title)\n",
    "    gp.draw_signif_MW(0, 1, df.n_del.max()+offset, p, ax, color=gp.get_color('grey'))\n",
    "    ax.set_ylim([0,df.n_del.max()+offset])"
   ]
  },
  {
   "cell_type": "code",
   "execution_count": 19,
   "metadata": {},
   "outputs": [
    {
     "name": "stdout",
     "output_type": "stream",
     "text": [
      "Median num samples w/ LOH: paralog=1680, singleton=1699\n",
      "Median num samples w/ LOH: paralog=479, singleton=483\n"
     ]
    },
    {
     "data": {
      "image/png": "[encoded data removed]",
      "text/plain": [
       "<Figure size 260x230 with 2 Axes>"
      ]
     },
     "metadata": {},
     "output_type": "display_data"
    }
   ],
   "source": [
    "f, ax = plt.subplots(1, 3, figsize=(3.5, 2.3))\n",
    "draw_loh_boxplot(tcga_loh, ax[0], 'TCGA\\nall LOH\\n', 400)\n",
    "draw_loh_boxplot(tcga_focal_loh, ax[1], 'TCGA\\nfocal LOH\\n', 100, ylab=False)\n",
    "draw_loh_boxplot(tcga_copy_loss_loh, ax[2], 'TCGA\\ncopy loss LOH\\n', 100, ylab=False)\n",
    "plt.tight_layout(w_pad=1.5)\n",
    "#plt.savefig('../figures/tcga_gene_loh.png', bbox_inches='tight', dpi=500)"
   ]
  },
  {
   "cell_type": "code",
   "execution_count": 27,
   "metadata": {},
   "outputs": [
    {
     "name": "stdout",
     "output_type": "stream",
     "text": [
      "Median num samples w/ LOH: paralog=1680, singleton=1699\n",
      "Median num samples w/ LOH: paralog=479, singleton=483\n",
      "Median num samples w/ LOH: paralog=578, singleton=582\n",
      "Median num samples w/ LOH: paralog=746, singleton=756\n"
     ]
    },
    {
     "data": {
      "image/png": "[encoded data removed]",
      "text/plain": [
       "<Figure size 450x230 with 4 Axes>"
      ]
     },
     "metadata": {},
     "output_type": "display_data"
    }
   ],
   "source": [
    "f, ax = plt.subplots(1, 4, figsize=(4.5, 2.3))\n",
    "draw_loh_boxplot(tcga_loh, ax[0], 'TCGA\\nall LOH\\n', 400)\n",
    "draw_loh_boxplot(tcga_focal_loh, ax[1], 'TCGA\\nfocal LOH\\n', 100, ylab=False)\n",
    "draw_loh_boxplot(tcga_copy_loss_loh, ax[2], 'TCGA\\ncopy loss LOH\\n', 100, ylab=False)\n",
    "draw_loh_boxplot(tcga_copy_neut_loh, ax[3], 'TCGA\\ncopy neutral LOH\\n', 100, ylab=False)\n",
    "plt.tight_layout(w_pad=1.5)\n",
    "plt.savefig('../figures/tcga_gene_loh.png', bbox_inches='tight', dpi=500)"
   ]
  },
  {
   "cell_type": "markdown",
   "metadata": {},
   "source": [
    "### 2. ICGC"
   ]
  },
  {
   "cell_type": "code",
   "execution_count": 28,
   "metadata": {},
   "outputs": [],
   "source": [
    "icgc_loh_segments = pd.read_csv(file_icgc_loh)"
   ]
  },
  {
   "cell_type": "code",
   "execution_count": 29,
   "metadata": {},
   "outputs": [
    {
     "name": "stdout",
     "output_type": "stream",
     "text": [
      "N samples w/ LOH: 1701\n"
     ]
    },
    {
     "data": {
      "text/html": [
       "<div>\n",
       "<style scoped>\n",
       "    .dataframe tbody tr th:only-of-type {\n",
       "        vertical-align: middle;\n",
       "    }\n",
       "\n",
       "    .dataframe tbody tr th {\n",
       "        vertical-align: top;\n",
       "    }\n",
       "\n",
       "    .dataframe thead th {\n",
       "        text-align: right;\n",
       "    }\n",
       "</style>\n",
       "<table border=\"1\" class=\"dataframe\">\n",
       "  <thead>\n",
       "    <tr style=\"text-align: right;\">\n",
       "      <th></th>\n",
       "      <th>chr</th>\n",
       "      <th>startpos</th>\n",
       "      <th>endpos</th>\n",
       "      <th>total_cn</th>\n",
       "      <th>major_cn</th>\n",
       "      <th>minor_cn</th>\n",
       "      <th>samplename</th>\n",
       "      <th>del_len</th>\n",
       "      <th>ploidy</th>\n",
       "    </tr>\n",
       "  </thead>\n",
       "  <tbody>\n",
       "    <tr>\n",
       "      <th>0</th>\n",
       "      <td>2</td>\n",
       "      <td>194073132</td>\n",
       "      <td>196539045</td>\n",
       "      <td>2.0</td>\n",
       "      <td>2.0</td>\n",
       "      <td>0.0</td>\n",
       "      <td>0009b464-b376-4fbc-8a56-da538269a02f</td>\n",
       "      <td>2465913</td>\n",
       "      <td>3.355</td>\n",
       "    </tr>\n",
       "  </tbody>\n",
       "</table>\n",
       "</div>"
      ],
      "text/plain": [
       "   chr   startpos     endpos  total_cn  major_cn  minor_cn  \\\n",
       "0    2  194073132  196539045       2.0       2.0       0.0   \n",
       "\n",
       "                             samplename  del_len  ploidy  \n",
       "0  0009b464-b376-4fbc-8a56-da538269a02f  2465913   3.355  "
      ]
     },
     "metadata": {},
     "output_type": "display_data"
    }
   ],
   "source": [
    "print('N samples w/ LOH:', icgc_loh_segments.samplename.nunique())\n",
    "display(icgc_loh_segments[:1])"
   ]
  },
  {
   "cell_type": "code",
   "execution_count": 30,
   "metadata": {},
   "outputs": [
    {
     "data": {
      "text/html": [
       "<div>\n",
       "<style scoped>\n",
       "    .dataframe tbody tr th:only-of-type {\n",
       "        vertical-align: middle;\n",
       "    }\n",
       "\n",
       "    .dataframe tbody tr th {\n",
       "        vertical-align: top;\n",
       "    }\n",
       "\n",
       "    .dataframe thead th {\n",
       "        text-align: right;\n",
       "    }\n",
       "</style>\n",
       "<table border=\"1\" class=\"dataframe\">\n",
       "  <thead>\n",
       "    <tr style=\"text-align: right;\">\n",
       "      <th></th>\n",
       "      <th>chr</th>\n",
       "      <th>centStart</th>\n",
       "      <th>centEnd</th>\n",
       "      <th>size</th>\n",
       "      <th>half_arm1_len</th>\n",
       "      <th>half_arm2_len</th>\n",
       "    </tr>\n",
       "  </thead>\n",
       "  <tbody>\n",
       "    <tr>\n",
       "      <th>0</th>\n",
       "      <td>1</td>\n",
       "      <td>121535434</td>\n",
       "      <td>124535434</td>\n",
       "      <td>249250621</td>\n",
       "      <td>60767717.0</td>\n",
       "      <td>62357593.5</td>\n",
       "    </tr>\n",
       "  </tbody>\n",
       "</table>\n",
       "</div>"
      ],
      "text/plain": [
       "   chr  centStart    centEnd       size  half_arm1_len  half_arm2_len\n",
       "0    1  121535434  124535434  249250621     60767717.0     62357593.5"
      ]
     },
     "execution_count": 30,
     "metadata": {},
     "output_type": "execute_result"
    }
   ],
   "source": [
    "chrom_info = pd.read_csv(file_chrom_info)\n",
    "chrom_info = chrom_info[~chrom_info.chr.isin(['X','Y'])].astype({'chr':int})\n",
    "chrom_info['half_arm1_len'] = chrom_info['centStart'] * 0.5\n",
    "chrom_info['half_arm2_len'] = (chrom_info['size'] - chrom_info['centEnd']) * 0.5\n",
    "chrom_info[:1]"
   ]
  },
  {
   "cell_type": "code",
   "execution_count": 31,
   "metadata": {},
   "outputs": [],
   "source": [
    "icgc_loh_segments = pd.merge(icgc_loh_segments, chrom_info[['chr','centEnd','half_arm1_len','half_arm2_len']])\n",
    "icgc_loh_segments['focal'] = icgc_loh_segments.apply(\n",
    "    lambda x: x.del_len < x.half_arm1_len if x.endpos < x.centEnd else x.del_len < x.half_arm2_len, axis=1)\n",
    "icgc_loh_segments = icgc_loh_segments.drop(columns=['centEnd','half_arm1_len','half_arm2_len'])"
   ]
  },
  {
   "cell_type": "code",
   "execution_count": 32,
   "metadata": {
    "scrolled": true
   },
   "outputs": [
    {
     "data": {
      "image/png": "[encoded data removed]",
      "text/plain": [
       "<Figure size 150x200 with 1 Axes>"
      ]
     },
     "metadata": {},
     "output_type": "display_data"
    }
   ],
   "source": [
    "f, ax = plt.subplots(1, 1, figsize=(1.5, 2))\n",
    "sns.boxplot(y=icgc_loh_segments.del_len/1000000, x=icgc_loh_segments.focal, showfliers=False, **gp.get_boxplot_props())\n",
    "ax.set_ylabel('LOH length (Mb)'); ax.set_xlabel('Focal')\n",
    "plt.tight_layout();"
   ]
  },
  {
   "cell_type": "code",
   "execution_count": 33,
   "metadata": {},
   "outputs": [],
   "source": [
    "icgc_loh_map = util.map_segments_to_genes(icgc_loh_segments, passenger_genes, overlap_func=util.map_segment_full)"
   ]
  },
  {
   "cell_type": "code",
   "execution_count": 34,
   "metadata": {},
   "outputs": [],
   "source": [
    "icgc_loh = util.count_dels_per_gene(icgc_loh_map, passenger_genes)\n",
    "icgc_focal_loh = util.count_dels_per_gene(icgc_loh_map[icgc_loh_map.focal], passenger_genes)"
   ]
  },
  {
   "cell_type": "code",
   "execution_count": 47,
   "metadata": {},
   "outputs": [],
   "source": [
    "icgc_copy_loss_loh = util.count_dels_per_gene(icgc_loh_map[(icgc_loh_map.major_cn==1)], passenger_genes)\n",
    "icgc_copy_neut_loh = util.count_dels_per_gene(icgc_loh_map[(icgc_loh_map.major_cn==2)], passenger_genes)"
   ]
  },
  {
   "cell_type": "code",
   "execution_count": 18,
   "metadata": {},
   "outputs": [
    {
     "name": "stdout",
     "output_type": "stream",
     "text": [
      "Median num samples w/ LOH: paralog=225, singleton=231\n",
      "Median num samples w/ LOH: paralog=78, singleton=79\n"
     ]
    },
    {
     "data": {
      "image/png": "[encoded data removed]",
      "text/plain": [
       "<Figure size 260x230 with 2 Axes>"
      ]
     },
     "metadata": {},
     "output_type": "display_data"
    }
   ],
   "source": [
    "f, ax = plt.subplots(1, 2, figsize=(2.6, 2.3))\n",
    "draw_loh_boxplot(icgc_loh, ax[0], 'ICGC\\nall LOH\\n', 100)\n",
    "draw_loh_boxplot(icgc_focal_loh, ax[1], 'ICGC\\nfocal LOH\\n', 40, ylab=False)\n",
    "plt.tight_layout(w_pad=1.5)\n",
    "plt.savefig('../figures/icgc_gene_loh.png', bbox_inches='tight', dpi=500)"
   ]
  },
  {
   "cell_type": "code",
   "execution_count": 48,
   "metadata": {},
   "outputs": [
    {
     "name": "stdout",
     "output_type": "stream",
     "text": [
      "Median num samples w/ LOH: paralog=225, singleton=231\n",
      "Median num samples w/ LOH: paralog=78, singleton=79\n",
      "Median num samples w/ LOH: paralog=100, singleton=103\n",
      "Median num samples w/ LOH: paralog=93, singleton=95\n"
     ]
    },
    {
     "data": {
      "image/png": "[encoded data removed]",
      "text/plain": [
       "<Figure size 500x230 with 4 Axes>"
      ]
     },
     "metadata": {},
     "output_type": "display_data"
    }
   ],
   "source": [
    "f, ax = plt.subplots(1, 4, figsize=(5, 2.3))\n",
    "draw_loh_boxplot(icgc_loh, ax[0], 'ICGC\\nall LOH\\n', 100)\n",
    "draw_loh_boxplot(icgc_focal_loh, ax[1], 'ICGC\\nfocal LOH\\n', 40, ylab=False)\n",
    "draw_loh_boxplot(icgc_copy_loss_loh, ax[2], 'ICGC\\ncopy loss LOH\\n', 40, ylab=False)\n",
    "draw_loh_boxplot(icgc_copy_neut_loh, ax[3], 'ICGC\\ncopy neutral LOH\\n', 40, ylab=False)\n",
    "plt.tight_layout(w_pad=1.5)\n",
    "plt.savefig('../figures/icgc_gene_loh2.png', bbox_inches='tight', dpi=500)"
   ]
  },
  {
   "cell_type": "code",
   "execution_count": 46,
   "metadata": {},
   "outputs": [
    {
     "name": "stdout",
     "output_type": "stream",
     "text": [
      "Median num samples w/ LOH: paralog=225, singleton=231\n",
      "Median num samples w/ LOH: paralog=78, singleton=79\n",
      "Median num samples w/ LOH: paralog=30, singleton=30\n",
      "Median num samples w/ LOH: paralog=33, singleton=33\n"
     ]
    },
    {
     "data": {
      "image/png": "[encoded data removed]",
      "text/plain": [
       "<Figure size 500x230 with 4 Axes>"
      ]
     },
     "metadata": {},
     "output_type": "display_data"
    }
   ],
   "source": [
    "f, ax = plt.subplots(1, 4, figsize=(5, 2.3))\n",
    "draw_loh_boxplot(icgc_loh, ax[0], 'ICGC\\nall LOH\\n', 100)\n",
    "draw_loh_boxplot(icgc_focal_loh, ax[1], 'ICGC\\nfocal LOH\\n', 40, ylab=False)\n",
    "draw_loh_boxplot(icgc_copy_loss_loh, ax[2], 'ICGC\\ncopy loss LOH\\n', 40, ylab=False)\n",
    "draw_loh_boxplot(icgc_copy_neut_loh, ax[3], 'ICGC\\ncopy neutral LOH\\n', 40, ylab=False)\n",
    "plt.tight_layout(w_pad=1.5)\n",
    "plt.savefig('../figures/icgc_gene_loh.png', bbox_inches='tight', dpi=500)"
   ]
  },
  {
   "cell_type": "code",
   "execution_count": null,
   "metadata": {},
   "outputs": [],
   "source": []
  }
 ],
 "metadata": {
  "kernelspec": {
   "display_name": "Python [conda env:paralogHDs]",
   "language": "python",
   "name": "conda-env-paralogHDs-py"
  },
  "language_info": {
   "codemirror_mode": {
    "name": "ipython",
    "version": 3
   },
   "file_extension": ".py",
   "mimetype": "text/x-python",
   "name": "python",
   "nbconvert_exporter": "python",
   "pygments_lexer": "ipython3",
   "version": "3.7.16"
  },
  "toc": {
   "base_numbering": 1,
   "nav_menu": {},
   "number_sections": true,
   "sideBar": true,
   "skip_h1_title": true,
   "title_cell": "Table of Contents",
   "title_sidebar": "Contents",
   "toc_cell": false,
   "toc_position": {},
   "toc_section_display": true,
   "toc_window_display": true
  }
 },
 "nbformat": 4,
 "nbformat_minor": 2
}
